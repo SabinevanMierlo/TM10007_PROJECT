{
  "nbformat": 4,
  "nbformat_minor": 0,
  "metadata": {
    "colab": {
      "name": "assignment.ipynb",
      "provenance": [],
      "collapsed_sections": []
    },
    "kernelspec": {
      "display_name": "Python 3",
      "language": "python",
      "name": "python3"
    },
    "language_info": {
      "codemirror_mode": {
        "name": "ipython",
        "version": 3
      },
      "file_extension": ".py",
      "mimetype": "text/x-python",
      "name": "python",
      "nbconvert_exporter": "python",
      "pygments_lexer": "ipython3",
      "version": "3.7.4"
    }
  },
  "cells": [
    {
      "cell_type": "markdown",
      "metadata": {
        "colab_type": "text",
        "id": "7SXpaKwwGe5x"
      },
      "source": [
        "# TM10007 Assignment template"
      ]
    },
    {
      "cell_type": "code",
      "metadata": {
        "colab_type": "code",
        "id": "CiDn2Sk-VWqE",
        "outputId": "e37c903a-d3d1-47e7-a5c2-d84fc8cdce90",
        "colab": {
          "base_uri": "https://localhost:8080/",
          "height": 34
        }
      },
      "source": [
        "# Run this to use from colab environment\n",
        "!pip install -q --upgrade git+https://github.com/karinvangarderen/tm10007_project.git"
      ],
      "execution_count": 66,
      "outputs": [
        {
          "output_type": "stream",
          "text": [
            "  Building wheel for brats (setup.py) ... \u001b[?25l\u001b[?25hdone\n"
          ],
          "name": "stdout"
        }
      ]
    },
    {
      "cell_type": "code",
      "metadata": {
        "id": "rOtoCOptna4A",
        "colab_type": "code",
        "colab": {}
      },
      "source": [
        "# General packages\n",
        "import numpy as np \n",
        "import pandas as pd\n",
        "import matplotlib.pyplot as plt\n",
        "import seaborn\n",
        "\n",
        "# Classifiers\n",
        "from sklearn import model_selection\n",
        "from sklearn import metrics\n",
        "from sklearn.model_selection import LeaveOneOut\n",
        "from sklearn.ensemble import RandomForestClassifier\n",
        "from sklearn import neighbors\n",
        "from sklearn import svm\n",
        "from sklearn import preprocessing\n",
        "import numpy as np\n",
        "from sklearn.model_selection import KFold\n",
        "from sklearn.svm import SVC\n",
        "from sklearn.model_selection import StratifiedKFold\n",
        "from sklearn.feature_selection import RFECV\n",
        "from sklearn.datasets import make_classification\n",
        "from sklearn.model_selection import RandomizedSearchCV \n",
        "from sklearn.utils.fixes import loguniform\n",
        "from sklearn.neighbors import KNeighborsClassifier\n",
        "from sklearn.decomposition import PCA\n",
        "\n",
        "\n",
        "from sklearn.linear_model import Lasso, RidgeClassifier\n",
        "from sklearn.feature_selection import SelectFromModel"
      ],
      "execution_count": 0,
      "outputs": []
    },
    {
      "cell_type": "markdown",
      "metadata": {
        "id": "xxnxLcUpCSKk",
        "colab_type": "text"
      },
      "source": [
        "# Data loading and cleaning\n",
        "\n",
        "Some functions"
      ]
    },
    {
      "cell_type": "code",
      "metadata": {
        "colab_type": "code",
        "id": "-NE_fTbKGe5z",
        "colab": {}
      },
      "source": [
        "# Some functions we will use\n",
        "\n",
        "\n",
        "def colorplot(clf, ax, x, y, h=100):\n",
        "    '''\n",
        "    Overlay the decision areas as colors in an axes.\n",
        "    \n",
        "    Input:\n",
        "        clf: trained classifier\n",
        "        ax: axis to overlay color mesh on\n",
        "        x: feature on x-axis\n",
        "        y: feature on y-axis\n",
        "        h(optional): steps in the mesh\n",
        "    '''\n",
        "    # Create a meshgrid the size of the axis\n",
        "    xstep = (x.max() - x.min() ) / 20.0\n",
        "    ystep = (y.max() - y.min() ) / 20.0\n",
        "    x_min, x_max = x.min() - xstep, x.max() + xstep\n",
        "    y_min, y_max = y.min() - ystep, y.max() + ystep\n",
        "    h = max((x_max - x_min, y_max - y_min))/h\n",
        "    xx, yy = np.meshgrid(np.arange(x_min, x_max, h),\n",
        "                         np.arange(y_min, y_max, h))\n",
        "    \n",
        "    # Plot the decision boundary. For that, we will assign a color to each\n",
        "    # point in the mesh [x_min, x_max]x[y_min, y_max].\n",
        "    if hasattr(clf, \"decision_function\"):\n",
        "        Z = clf.decision_function(np.c_[xx.ravel(), yy.ravel()])\n",
        "    else:\n",
        "        Z = clf.predict_proba(np.c_[xx.ravel(), yy.ravel()])\n",
        "    if len(Z.shape) > 1:\n",
        "        Z = Z[:, 1]\n",
        "    \n",
        "    # Put the result into a color plot\n",
        "    cm = plt.cm.RdBu_r\n",
        "    Z = Z.reshape(xx.shape)\n",
        "    ax.contourf(xx, yy, Z, cmap=cm, alpha=.8)\n",
        "    del xx, yy, x_min, x_max, y_min, y_max, Z, cm\n",
        "\n",
        "def plot_learning_curve(estimator, title, X, y, axes, ylim=None, cv=None,\n",
        "                        n_jobs=None, train_sizes=np.linspace(.1, 1.0, 5)):\n",
        "    \"\"\"\n",
        "    Generate 3 plots: the test and training learning curve, the training\n",
        "    samples vs fit times curve, the fit times vs score curve.\n",
        "\n",
        "    Parameters\n",
        "    ----------\n",
        "    estimator : object type that implements the \"fit\" and \"predict\" methods\n",
        "        An object of that type which is cloned for each validation.\n",
        "\n",
        "    title : string\n",
        "        Title for the chart.\n",
        "\n",
        "    X : array-like, shape (n_samples, n_features)\n",
        "        Training vector, where n_samples is the number of samples and\n",
        "        n_features is the number of features.\n",
        "\n",
        "    y : array-like, shape (n_samples) or (n_samples, n_features), optional\n",
        "        Target relative to X for classification or regression;\n",
        "        None for unsupervised learning.\n",
        "\n",
        "    axes : array of 3 axes, optional (default=None)\n",
        "        Axes to use for plotting the curves.\n",
        "\n",
        "    ylim : tuple, shape (ymin, ymax), optional\n",
        "        Defines minimum and maximum yvalues plotted.\n",
        "\n",
        "    cv : int, cross-validation generator or an iterable, optional\n",
        "        Determines the cross-validation splitting strategy.\n",
        "        Possible inputs for cv are:\n",
        "          - None, to use the default 5-fold cross-validation,\n",
        "          - integer, to specify the number of folds.\n",
        "          - :term:`CV splitter`,\n",
        "          - An iterable yielding (train, test) splits as arrays of indices.\n",
        "\n",
        "        For integer/None inputs, if ``y`` is binary or multiclass,\n",
        "        :class:`StratifiedKFold` used. If the estimator is not a classifier\n",
        "        or if ``y`` is neither binary nor multiclass, :class:`KFold` is used.\n",
        "\n",
        "        Refer :ref:`User Guide <cross_validation>` for the various\n",
        "        cross-validators that can be used here.\n",
        "\n",
        "    n_jobs : int or None, optional (default=None)\n",
        "        Number of jobs to run in parallel.\n",
        "        ``None`` means 1 unless in a :obj:`joblib.parallel_backend` context.\n",
        "        ``-1`` means using all processors. See :term:`Glossary <n_jobs>`\n",
        "        for more details.\n",
        "\n",
        "    train_sizes : array-like, shape (n_ticks,), dtype float or int\n",
        "        Relative or absolute numbers of training examples that will be used to\n",
        "        generate the learning curve. If the dtype is float, it is regarded as a\n",
        "        fraction of the maximum size of the training set (that is determined\n",
        "        by the selected validation method), i.e. it has to be within (0, 1].\n",
        "        Otherwise it is interpreted as absolute sizes of the training sets.\n",
        "        Note that for classification the number of samples usually have to\n",
        "        be big enough to contain at least one sample from each class.\n",
        "        (default: np.linspace(0.1, 1.0, 5))\n",
        "    \"\"\"\n",
        "\n",
        "    axes.set_title(title)\n",
        "    if ylim is not None:\n",
        "        axes.set_ylim(*ylim)\n",
        "    axes.set_xlabel(\"Training examples\")\n",
        "    axes.set_ylabel(\"Score\")\n",
        "\n",
        "    train_sizes, train_scores, test_scores  = \\\n",
        "        learning_curve(estimator, X, y, cv=cv, n_jobs=n_jobs,\n",
        "                       train_sizes=train_sizes)\n",
        "    train_scores_mean = np.mean(train_scores, axis=1)\n",
        "    train_scores_std = np.std(train_scores, axis=1)\n",
        "    test_scores_mean = np.mean(test_scores, axis=1)\n",
        "    test_scores_std = np.std(test_scores, axis=1)\n",
        "\n",
        "    # Plot learning curve\n",
        "    axes.grid()\n",
        "    axes.fill_between(train_sizes, train_scores_mean - train_scores_std,\n",
        "                         train_scores_mean + train_scores_std, alpha=0.1,\n",
        "                         color=\"r\")\n",
        "    axes.fill_between(train_sizes, test_scores_mean - test_scores_std,\n",
        "                         test_scores_mean + test_scores_std, alpha=0.1,\n",
        "                         color=\"g\")\n",
        "    axes.plot(train_sizes, train_scores_mean, 'o-', color=\"r\",\n",
        "                 label=\"Training score\")\n",
        "    axes.plot(train_sizes, test_scores_mean, 'o-', color=\"g\",\n",
        "                 label=\"Cross-validation score\")\n",
        "    axes.legend(loc=\"best\")\n",
        "\n",
        "    return plt\n",
        "\n",
        "def plot_roc_curve(y_score, y_truth):\n",
        "    '''\n",
        "    Plot an ROC curve.\n",
        "    '''\n",
        "    # Only take scores for class = 1\n",
        "    y_score = y_score[:, 1]\n",
        "    \n",
        "    # Compute ROC curve and ROC area for each class\n",
        "    fpr, tpr, _ = roc_curve(y_truth, y_score)\n",
        "    roc_auc = auc(fpr, tpr)\n",
        "    \n",
        "    # Plot the ROC curve\n",
        "    plt.figure()\n",
        "    lw = 2\n",
        "    plt.plot(fpr, tpr, color='darkorange',\n",
        "             lw=lw, label='ROC curve (area = %0.2f)' % roc_auc)\n",
        "    plt.plot([0, 1], [0, 1], color='navy', lw=lw, linestyle='--')\n",
        "    plt.xlim([0.0, 1.0])\n",
        "    plt.ylim([0.0, 1.05])\n",
        "    plt.xlabel('False Positive Rate')\n",
        "    plt.ylabel('True Positive Rate')\n",
        "    plt.title('Receiver operating characteristic example')\n",
        "    plt.legend(loc=\"lower right\")\n",
        "    plt.show()"
      ],
      "execution_count": 0,
      "outputs": []
    },
    {
      "cell_type": "markdown",
      "metadata": {
        "id": "6k6pUnYWV4GG",
        "colab_type": "text"
      },
      "source": [
        "Data loading and handling missing data. "
      ]
    },
    {
      "cell_type": "code",
      "metadata": {
        "id": "uQgfZ505VORH",
        "colab_type": "code",
        "outputId": "438f3c33-92e6-47a9-f551-f267b0b12e6d",
        "colab": {
          "base_uri": "https://localhost:8080/",
          "height": 269
        }
      },
      "source": [
        "# Data loading functions. \n",
        "from adni.load_data import load_data \n",
        "\n",
        "data = load_data()\n",
        "print(data.head())\n",
        "print(f'The number of samples: {len(data.index)}')\n",
        "print(f'The number of columns: {len(data.columns)}')\n",
        "#data_missing = data.isnull()\n",
        "#print(data_missing.index[data_missing == True])\n",
        "\n",
        "# Creating vector of labels\n",
        "data_no_label = data.drop(columns='label')\n",
        "print(f'The number of features: {len(data_no_label.columns)}')\n",
        "x = data_no_label\n",
        "y = data['label']\n",
        "\n",
        "# Split data\n",
        "X_train, X_test, y_train, y_test = model_selection.train_test_split(x, y, test_size=0.2)\n",
        "\n",
        "def removezeros(X):\n",
        "   X_nozeros = X.loc[:, (X != 0).any(axis=0)]\n",
        "   return X_nozeros\n",
        "\n",
        "X_train_df = removezeros(X_train)\n",
        "X_test_df = removezeros(X_test)\n",
        "print(f'The number of samples: {len(X_train_df.index)}')\n",
        "print(f'The number of columns: {len(X_train_df.columns)}')\n",
        "X_train = X_train_df.values\n",
        "X_test = X_test_df.values\n",
        "\n",
        "x_nan = np.isnan(X_train)\n",
        "print(f'The number of found NaN is: {np.sum(x_nan)}')\n",
        "#x_zero = np.where(X_train == 0)[0]\n",
        "#print(f'The number of found zeros is: {len(x_zero)}')\n",
        "\n",
        "y_train_bin = preprocessing.label_binarize(y_train,['AD','CN'])\n",
        "y_train_bin = [i[0] for i in y_train_bin]\n",
        "y_test_bin = preprocessing.label_binarize(y_test,['AD','CN'])\n",
        "y_test_bin = [i[0] for i in y_test_bin]\n",
        "#print(y_train_bin)"
      ],
      "execution_count": 69,
      "outputs": [
        {
          "output_type": "stream",
          "text": [
            "                     hf_energy  ...  vf_Frangi_inner_std_SR(1.0, 10.0)_SS2.0\n",
            "ID                              ...                                         \n",
            "0_002_S_0413_bl_0  5403.229408  ...                             4.207831e-10\n",
            "0_002_S_0559_bl_0   922.459760  ...                             3.137258e-10\n",
            "0_002_S_0619_bl_0  1674.765276  ...                             4.219847e-10\n",
            "0_002_S_0685_bl_0  3443.797200  ...                             5.954654e-11\n",
            "0_002_S_0816_bl_0   914.469846  ...                             4.174750e-10\n",
            "\n",
            "[5 rows x 268 columns]\n",
            "The number of samples: 855\n",
            "The number of columns: 268\n",
            "The number of features: 267\n",
            "The number of samples: 684\n",
            "The number of columns: 263\n",
            "The number of found NaN is: 0\n"
          ],
          "name": "stdout"
        }
      ]
    },
    {
      "cell_type": "markdown",
      "metadata": {
        "id": "gwTNunQvVPEp",
        "colab_type": "text"
      },
      "source": [
        "# Feature scaling and selection\n"
      ]
    },
    {
      "cell_type": "code",
      "metadata": {
        "id": "iUayp0qrWIuY",
        "colab_type": "code",
        "outputId": "05ed3b18-4d82-4671-8c84-8557b4a6b099",
        "colab": {
          "base_uri": "https://localhost:8080/",
          "height": 366
        }
      },
      "source": [
        "# Scaling of features\n",
        "scaler = preprocessing.StandardScaler()\n",
        "scaler.fit(X_train)\n",
        "X_train_scaled = scaler.transform(X_train)\n",
        "X_test_scaled = scaler.transform(X_test)\n",
        "\n",
        "# Feature selection - L1 method\n",
        "selector = SelectFromModel(estimator=Lasso(alpha=10**(-10), random_state=42), threshold='median')\n",
        "selector.fit(X_train_scaled, y_train_bin)\n",
        "n_original = X_train_scaled.shape[1]\n",
        "X_train_test = selector.transform(X_train_scaled)\n",
        "n_selected = X_train_test.shape[1]\n",
        "print(f\"Selected {n_selected} from {n_original} features.\")\n",
        "\n",
        "# PCA\n",
        "pca = PCA().fit(X_train_scaled)\n",
        "plt.plot(np.cumsum(pca.explained_variance_ratio_))\n",
        "plt.xlabel('number of components')\n",
        "plt.ylabel('cumulative explained variance');\n",
        "\n",
        "pca = PCA(n_components=132)\n",
        "pca = pca.fit(X_train_scaled)\n",
        "X_train = pca.transform(X_train_scaled)\n",
        "X_test = pca.transform(X_test_scaled)\n",
        "\n",
        "\n",
        "\n",
        "\"\"\"\n",
        "# Create the RFE object and compute a cross-validated score.\n",
        "svc = SVC(kernel=\"linear\")\n",
        "# The \"accuracy\" scoring is proportional to the number of correct\n",
        "# classifications\n",
        "rfecv = RFECV(estimator=svc, step=1, cv=StratifiedKFold(2),\n",
        "              scoring='roc_auc')\n",
        "select = rfecv.fit(X_train_scaled, y_train)\n",
        "\n",
        "# Plot number of features VS. cross-validation scores\n",
        "plt.figure()\n",
        "plt.xlabel(\"Number of features selected\")\n",
        "plt.ylabel(\"Cross validation score (nb of correct classifications)\")\n",
        "plt.plot(range(1, len(rfecv.grid_scores_) + 1), rfecv.grid_scores_)\n",
        "plt.show()\n",
        "\n",
        "print(\"Optimal number of features : %d\" % rfecv.n_features_)\n",
        "\"\"\""
      ],
      "execution_count": 70,
      "outputs": [
        {
          "output_type": "stream",
          "text": [
            "Selected 132 from 263 features.\n"
          ],
          "name": "stdout"
        },
        {
          "output_type": "stream",
          "text": [
            "/usr/local/lib/python3.6/dist-packages/sklearn/linear_model/_coordinate_descent.py:476: ConvergenceWarning: Objective did not converge. You might want to increase the number of iterations. Duality gap: 26.489341477922856, tolerance: 0.016320906432748538\n",
            "  positive)\n"
          ],
          "name": "stderr"
        },
        {
          "output_type": "execute_result",
          "data": {
            "text/plain": [
              "'\\n# Create the RFE object and compute a cross-validated score.\\nsvc = SVC(kernel=\"linear\")\\n# The \"accuracy\" scoring is proportional to the number of correct\\n# classifications\\nrfecv = RFECV(estimator=svc, step=1, cv=StratifiedKFold(2),\\n              scoring=\\'roc_auc\\')\\nselect = rfecv.fit(X_train_scaled, y_train)\\n\\n# Plot number of features VS. cross-validation scores\\nplt.figure()\\nplt.xlabel(\"Number of features selected\")\\nplt.ylabel(\"Cross validation score (nb of correct classifications)\")\\nplt.plot(range(1, len(rfecv.grid_scores_) + 1), rfecv.grid_scores_)\\nplt.show()\\n\\nprint(\"Optimal number of features : %d\" % rfecv.n_features_)\\n'"
            ]
          },
          "metadata": {
            "tags": []
          },
          "execution_count": 70
        },
        {
          "output_type": "display_data",
          "data": {
            "image/png": "[encoded data removed]",
            "text/plain": [
              "<Figure size 432x288 with 1 Axes>"
            ]
          },
          "metadata": {
            "tags": []
          }
        }
      ]
    },
    {
      "cell_type": "code",
      "metadata": {
        "id": "z9EzZYBrqjX8",
        "colab_type": "code",
        "colab": {}
      },
      "source": [
        ""
      ],
      "execution_count": 0,
      "outputs": []
    },
    {
      "cell_type": "code",
      "metadata": {
        "id": "HNz47vkCHQGH",
        "colab_type": "code",
        "outputId": "44df4e01-38a4-49d0-c9b8-3c47329c7d79",
        "colab": {
          "base_uri": "https://localhost:8080/",
          "height": 34
        }
      },
      "source": [
        "\"\"\"\n",
        "# Get new X_train with only important features \n",
        "features = X_train_df * select.support_\n",
        "x_train_df = removezeros(features)\n",
        "x_train = x_train_df.values\n",
        "\"\"\""
      ],
      "execution_count": 71,
      "outputs": [
        {
          "output_type": "execute_result",
          "data": {
            "text/plain": [
              "'\\n# Get new X_train with only important features \\nfeatures = X_train_df * select.support_\\nx_train_df = removezeros(features)\\nx_train = x_train_df.values\\n'"
            ]
          },
          "metadata": {
            "tags": []
          },
          "execution_count": 71
        }
      ]
    },
    {
      "cell_type": "code",
      "metadata": {
        "id": "CwqLx_t_R-d0",
        "colab_type": "code",
        "outputId": "8fd6b682-c07a-42d3-d9ad-d3c17b139a93",
        "colab": {
          "base_uri": "https://localhost:8080/",
          "height": 1000
        }
      },
      "source": [
        "\n",
        "# Train Classifier  \n",
        "# defining parameter range \n",
        "param_grid = {'C': loguniform(1e0, 1e3), \n",
        "              'gamma': loguniform(1e-4, 1e0), \n",
        "              'kernel': ['rbf','poly', 'linear']}  \n",
        "  \n",
        "grid = RandomizedSearchCV(SVC(probability=True), param_grid, n_iter=10, refit = True, verbose = 3, random_state=42) \n",
        "  \n",
        "# fitting the model for grid search \n",
        "grid.fit(X_train, y_train)\n",
        "\n",
        "print(\"The best classifier is: \", grid.best_estimator_)\n",
        "\n"
      ],
      "execution_count": 72,
      "outputs": [
        {
          "output_type": "stream",
          "text": [
            "Fitting 5 folds for each of 10 candidates, totalling 50 fits\n",
            "[CV] C=13.292918943162162, gamma=0.6351221010640693, kernel=linear ...\n"
          ],
          "name": "stdout"
        },
        {
          "output_type": "stream",
          "text": [
            "[Parallel(n_jobs=1)]: Using backend SequentialBackend with 1 concurrent workers.\n"
          ],
          "name": "stderr"
        },
        {
          "output_type": "stream",
          "text": [
            "[CV]  C=13.292918943162162, gamma=0.6351221010640693, kernel=linear, score=0.715, total=   4.1s\n",
            "[CV] C=13.292918943162162, gamma=0.6351221010640693, kernel=linear ...\n"
          ],
          "name": "stdout"
        },
        {
          "output_type": "stream",
          "text": [
            "[Parallel(n_jobs=1)]: Done   1 out of   1 | elapsed:    4.1s remaining:    0.0s\n"
          ],
          "name": "stderr"
        },
        {
          "output_type": "stream",
          "text": [
            "[CV]  C=13.292918943162162, gamma=0.6351221010640693, kernel=linear, score=0.723, total=  11.6s\n",
            "[CV] C=13.292918943162162, gamma=0.6351221010640693, kernel=linear ...\n"
          ],
          "name": "stdout"
        },
        {
          "output_type": "stream",
          "text": [
            "[Parallel(n_jobs=1)]: Done   2 out of   2 | elapsed:   15.7s remaining:    0.0s\n"
          ],
          "name": "stderr"
        },
        {
          "output_type": "stream",
          "text": [
            "[CV]  C=13.292918943162162, gamma=0.6351221010640693, kernel=linear, score=0.686, total=   2.9s\n",
            "[CV] C=13.292918943162162, gamma=0.6351221010640693, kernel=linear ...\n",
            "[CV]  C=13.292918943162162, gamma=0.6351221010640693, kernel=linear, score=0.715, total=   9.1s\n",
            "[CV] C=13.292918943162162, gamma=0.6351221010640693, kernel=linear ...\n",
            "[CV]  C=13.292918943162162, gamma=0.6351221010640693, kernel=linear, score=0.728, total=   8.9s\n",
            "[CV] C=218.3096839052459, gamma=0.02440060709081752, kernel=poly .....\n",
            "[CV]  C=218.3096839052459, gamma=0.02440060709081752, kernel=poly, score=0.730, total=   0.3s\n",
            "[CV] C=218.3096839052459, gamma=0.02440060709081752, kernel=poly .....\n",
            "[CV]  C=218.3096839052459, gamma=0.02440060709081752, kernel=poly, score=0.788, total=   0.3s\n",
            "[CV] C=218.3096839052459, gamma=0.02440060709081752, kernel=poly .....\n",
            "[CV]  C=218.3096839052459, gamma=0.02440060709081752, kernel=poly, score=0.766, total=   0.3s\n",
            "[CV] C=218.3096839052459, gamma=0.02440060709081752, kernel=poly .....\n",
            "[CV]  C=218.3096839052459, gamma=0.02440060709081752, kernel=poly, score=0.752, total=   0.3s\n",
            "[CV] C=218.3096839052459, gamma=0.02440060709081752, kernel=poly .....\n",
            "[CV]  C=218.3096839052459, gamma=0.02440060709081752, kernel=poly, score=0.757, total=   0.3s\n",
            "[CV] C=2.9375384576328285, gamma=0.00017073967431528118, kernel=rbf ..\n",
            "[CV]  C=2.9375384576328285, gamma=0.00017073967431528118, kernel=rbf, score=0.788, total=   0.2s\n",
            "[CV] C=2.9375384576328285, gamma=0.00017073967431528118, kernel=rbf ..\n",
            "[CV]  C=2.9375384576328285, gamma=0.00017073967431528118, kernel=rbf, score=0.832, total=   0.2s\n",
            "[CV] C=2.9375384576328285, gamma=0.00017073967431528118, kernel=rbf ..\n",
            "[CV]  C=2.9375384576328285, gamma=0.00017073967431528118, kernel=rbf, score=0.774, total=   0.2s\n",
            "[CV] C=2.9375384576328285, gamma=0.00017073967431528118, kernel=rbf ..\n",
            "[CV]  C=2.9375384576328285, gamma=0.00017073967431528118, kernel=rbf, score=0.774, total=   0.2s\n",
            "[CV] C=2.9375384576328285, gamma=0.00017073967431528118, kernel=rbf ..\n",
            "[CV]  C=2.9375384576328285, gamma=0.00017073967431528118, kernel=rbf, score=0.779, total=   0.2s\n",
            "[CV] C=63.5835885667625, gamma=0.06796578090758153, kernel=poly ......\n",
            "[CV]  C=63.5835885667625, gamma=0.06796578090758153, kernel=poly, score=0.730, total=   0.3s\n",
            "[CV] C=63.5835885667625, gamma=0.06796578090758153, kernel=poly ......\n",
            "[CV]  C=63.5835885667625, gamma=0.06796578090758153, kernel=poly, score=0.788, total=   0.3s\n",
            "[CV] C=63.5835885667625, gamma=0.06796578090758153, kernel=poly ......\n",
            "[CV]  C=63.5835885667625, gamma=0.06796578090758153, kernel=poly, score=0.766, total=   0.3s\n",
            "[CV] C=63.5835885667625, gamma=0.06796578090758153, kernel=poly ......\n",
            "[CV]  C=63.5835885667625, gamma=0.06796578090758153, kernel=poly, score=0.752, total=   0.3s\n",
            "[CV] C=63.5835885667625, gamma=0.06796578090758153, kernel=poly ......\n",
            "[CV]  C=63.5835885667625, gamma=0.06796578090758153, kernel=poly, score=0.757, total=   0.3s\n",
            "[CV] C=1.4765043713594344, gamma=0.07726718477963428, kernel=poly ....\n",
            "[CV]  C=1.4765043713594344, gamma=0.07726718477963428, kernel=poly, score=0.730, total=   0.3s\n",
            "[CV] C=1.4765043713594344, gamma=0.07726718477963428, kernel=poly ....\n",
            "[CV]  C=1.4765043713594344, gamma=0.07726718477963428, kernel=poly, score=0.788, total=   0.3s\n",
            "[CV] C=1.4765043713594344, gamma=0.07726718477963428, kernel=poly ....\n",
            "[CV]  C=1.4765043713594344, gamma=0.07726718477963428, kernel=poly, score=0.766, total=   0.3s\n",
            "[CV] C=1.4765043713594344, gamma=0.07726718477963428, kernel=poly ....\n",
            "[CV]  C=1.4765043713594344, gamma=0.07726718477963428, kernel=poly, score=0.752, total=   0.3s\n",
            "[CV] C=1.4765043713594344, gamma=0.07726718477963428, kernel=poly ....\n",
            "[CV]  C=1.4765043713594344, gamma=0.07726718477963428, kernel=poly, score=0.757, total=   0.3s\n",
            "[CV] C=4.335281794951563, gamma=0.0005337032762603955, kernel=rbf ....\n",
            "[CV]  C=4.335281794951563, gamma=0.0005337032762603955, kernel=rbf, score=0.810, total=   0.2s\n",
            "[CV] C=4.335281794951563, gamma=0.0005337032762603955, kernel=rbf ....\n",
            "[CV]  C=4.335281794951563, gamma=0.0005337032762603955, kernel=rbf, score=0.854, total=   0.2s\n",
            "[CV] C=4.335281794951563, gamma=0.0005337032762603955, kernel=rbf ....\n",
            "[CV]  C=4.335281794951563, gamma=0.0005337032762603955, kernel=rbf, score=0.796, total=   0.2s\n",
            "[CV] C=4.335281794951563, gamma=0.0005337032762603955, kernel=rbf ....\n",
            "[CV]  C=4.335281794951563, gamma=0.0005337032762603955, kernel=rbf, score=0.803, total=   0.2s\n",
            "[CV] C=4.335281794951563, gamma=0.0005337032762603955, kernel=rbf ....\n",
            "[CV]  C=4.335281794951563, gamma=0.0005337032762603955, kernel=rbf, score=0.801, total=   0.2s\n",
            "[CV] C=71.19418600172988, gamma=0.02796485951606244, kernel=rbf ......\n",
            "[CV]  C=71.19418600172988, gamma=0.02796485951606244, kernel=rbf, score=0.606, total=   0.4s\n",
            "[CV] C=71.19418600172988, gamma=0.02796485951606244, kernel=rbf ......\n",
            "[CV]  C=71.19418600172988, gamma=0.02796485951606244, kernel=rbf, score=0.606, total=   0.4s\n",
            "[CV] C=71.19418600172988, gamma=0.02796485951606244, kernel=rbf ......\n",
            "[CV]  C=71.19418600172988, gamma=0.02796485951606244, kernel=rbf, score=0.606, total=   0.4s\n",
            "[CV] C=71.19418600172988, gamma=0.02796485951606244, kernel=rbf ......\n",
            "[CV]  C=71.19418600172988, gamma=0.02796485951606244, kernel=rbf, score=0.606, total=   0.4s\n",
            "[CV] C=71.19418600172988, gamma=0.02796485951606244, kernel=rbf ......\n",
            "[CV]  C=71.19418600172988, gamma=0.02796485951606244, kernel=rbf, score=0.610, total=   0.4s\n",
            "[CV] C=19.762189340280067, gamma=0.0014618962793704956, kernel=linear \n",
            "[CV]  C=19.762189340280067, gamma=0.0014618962793704956, kernel=linear, score=0.715, total=  10.2s\n",
            "[CV] C=19.762189340280067, gamma=0.0014618962793704956, kernel=linear \n",
            "[CV]  C=19.762189340280067, gamma=0.0014618962793704956, kernel=linear, score=0.723, total=  11.8s\n",
            "[CV] C=19.762189340280067, gamma=0.0014618962793704956, kernel=linear \n",
            "[CV]  C=19.762189340280067, gamma=0.0014618962793704956, kernel=linear, score=0.686, total=   2.5s\n",
            "[CV] C=19.762189340280067, gamma=0.0014618962793704956, kernel=linear \n",
            "[CV]  C=19.762189340280067, gamma=0.0014618962793704956, kernel=linear, score=0.730, total=   7.1s\n",
            "[CV] C=19.762189340280067, gamma=0.0014618962793704956, kernel=linear \n",
            "[CV]  C=19.762189340280067, gamma=0.0014618962793704956, kernel=linear, score=0.743, total=  16.9s\n",
            "[CV] C=15.833718339012057, gamma=0.00015369603110608834, kernel=linear \n",
            "[CV]  C=15.833718339012057, gamma=0.00015369603110608834, kernel=linear, score=0.708, total=   7.3s\n",
            "[CV] C=15.833718339012057, gamma=0.00015369603110608834, kernel=linear \n",
            "[CV]  C=15.833718339012057, gamma=0.00015369603110608834, kernel=linear, score=0.730, total=   9.6s\n",
            "[CV] C=15.833718339012057, gamma=0.00015369603110608834, kernel=linear \n",
            "[CV]  C=15.833718339012057, gamma=0.00015369603110608834, kernel=linear, score=0.686, total=   3.1s\n",
            "[CV] C=15.833718339012057, gamma=0.00015369603110608834, kernel=linear \n",
            "[CV]  C=15.833718339012057, gamma=0.00015369603110608834, kernel=linear, score=0.723, total=  11.2s\n",
            "[CV] C=15.833718339012057, gamma=0.00015369603110608834, kernel=linear \n",
            "[CV]  C=15.833718339012057, gamma=0.00015369603110608834, kernel=linear, score=0.743, total=  11.5s\n",
            "[CV] C=23.34586407601623, gamma=0.13826232179369854, kernel=linear ...\n",
            "[CV]  C=23.34586407601623, gamma=0.13826232179369854, kernel=linear, score=0.715, total=  10.8s\n",
            "[CV] C=23.34586407601623, gamma=0.13826232179369854, kernel=linear ...\n",
            "[CV]  C=23.34586407601623, gamma=0.13826232179369854, kernel=linear, score=0.723, total=  12.5s\n",
            "[CV] C=23.34586407601623, gamma=0.13826232179369854, kernel=linear ...\n",
            "[CV]  C=23.34586407601623, gamma=0.13826232179369854, kernel=linear, score=0.693, total=   3.2s\n",
            "[CV] C=23.34586407601623, gamma=0.13826232179369854, kernel=linear ...\n",
            "[CV]  C=23.34586407601623, gamma=0.13826232179369854, kernel=linear, score=0.723, total=  14.5s\n",
            "[CV] C=23.34586407601623, gamma=0.13826232179369854, kernel=linear ...\n",
            "[CV]  C=23.34586407601623, gamma=0.13826232179369854, kernel=linear, score=0.750, total=  17.4s\n"
          ],
          "name": "stdout"
        },
        {
          "output_type": "stream",
          "text": [
            "[Parallel(n_jobs=1)]: Done  50 out of  50 | elapsed:  3.3min finished\n"
          ],
          "name": "stderr"
        },
        {
          "output_type": "stream",
          "text": [
            "The best classifier is:  SVC(C=4.335281794951563, break_ties=False, cache_size=200, class_weight=None,\n",
            "    coef0=0.0, decision_function_shape='ovr', degree=3,\n",
            "    gamma=0.0005337032762603955, kernel='rbf', max_iter=-1, probability=True,\n",
            "    random_state=None, shrinking=True, tol=0.001, verbose=False)\n"
          ],
          "name": "stdout"
        }
      ]
    },
    {
      "cell_type": "code",
      "metadata": {
        "id": "C7ghflhYlTBC",
        "colab_type": "code",
        "outputId": "4e04603d-20b6-4706-c85f-fbf2e14b3931",
        "colab": {
          "base_uri": "https://localhost:8080/",
          "height": 573
        }
      },
      "source": [
        "\n",
        "from sklearn.metrics import roc_curve, auc\n",
        "from scipy import interp\n",
        "from sklearn.metrics import roc_auc_score\n",
        "from sklearn.preprocessing import label_binarize\n",
        "score_train = grid.best_estimator_.predict_proba(X_train)\n",
        "score_test = grid.best_estimator_.predict_proba(X_test)\n",
        "plot_roc_curve(score_train, y_train_bin)\n",
        "plot_roc_curve(score_test, y_test_bin)\n"
      ],
      "execution_count": 73,
      "outputs": [
        {
          "output_type": "display_data",
          "data": {
            "image/png": "[encoded data removed]",
            "text/plain": [
              "<Figure size 432x288 with 1 Axes>"
            ]
          },
          "metadata": {
            "tags": []
          }
        },
        {
          "output_type": "display_data",
          "data": {
            "image/png": "[encoded data removed]",
            "text/plain": [
              "<Figure size 432x288 with 1 Axes>"
            ]
          },
          "metadata": {
            "tags": []
          }
        }
      ]
    },
    {
      "cell_type": "code",
      "metadata": {
        "id": "rq87at2Nqlsp",
        "colab_type": "code",
        "outputId": "85248600-4b41-45c7-8f6c-cbe3e9949b84",
        "colab": {
          "base_uri": "https://localhost:8080/",
          "height": 1000
        }
      },
      "source": [
        "# kNN\n",
        "from scipy.stats import randint\n",
        "from sklearn.model_selection import GridSearchCV\n",
        "kNN_parameters = {'n_neighbors': list(range(1,101)), \n",
        "                   'weights':  ['uniform', 'distance'],\n",
        "                   'metric': ['euclidean', 'manhattan']}\n",
        "\n",
        "grid = RandomizedSearchCV(KNeighborsClassifier(), kNN_parameters, refit = True, n_iter=10, random_state=42, verbose = 3)  \n",
        "# fitting the model for grid search \n",
        "grid.fit(X_train, y_train)\n",
        "\n",
        "print(\"The best classifier is: \", grid.best_estimator_)\n",
        "\n",
        "score_train = grid.best_estimator_.predict_proba(X_train)\n",
        "score_test = grid.best_estimator_.predict_proba(X_test)\n",
        "plot_roc_curve(score_train, y_train_bin)\n",
        "plot_roc_curve(score_test, y_test_bin)\n"
      ],
      "execution_count": 74,
      "outputs": [
        {
          "output_type": "stream",
          "text": [
            "Fitting 5 folds for each of 10 candidates, totalling 50 fits\n",
            "[CV] weights=distance, n_neighbors=5, metric=manhattan ...............\n",
            "[CV]  weights=distance, n_neighbors=5, metric=manhattan, score=0.766, total=   0.0s\n",
            "[CV] weights=distance, n_neighbors=5, metric=manhattan ...............\n",
            "[CV]  weights=distance, n_neighbors=5, metric=manhattan, score=0.774, total=   0.0s\n",
            "[CV] weights=distance, n_neighbors=5, metric=manhattan ...............\n",
            "[CV]  weights=distance, n_neighbors=5, metric=manhattan, score=0.781, total=   0.0s\n",
            "[CV] weights=distance, n_neighbors=5, metric=manhattan ...............\n",
            "[CV]  weights=distance, n_neighbors=5, metric=manhattan, score=0.766, total=   0.0s\n",
            "[CV] weights=distance, n_neighbors=5, metric=manhattan ...............\n",
            "[CV]  weights=distance, n_neighbors=5, metric=manhattan, score=0.706, total=   0.0s\n",
            "[CV] weights=uniform, n_neighbors=41, metric=manhattan ...............\n",
            "[CV]  weights=uniform, n_neighbors=41, metric=manhattan, score=0.781, total=   0.0s\n",
            "[CV] weights=uniform, n_neighbors=41, metric=manhattan ...............\n"
          ],
          "name": "stdout"
        },
        {
          "output_type": "stream",
          "text": [
            "[Parallel(n_jobs=1)]: Using backend SequentialBackend with 1 concurrent workers.\n",
            "[Parallel(n_jobs=1)]: Done   1 out of   1 | elapsed:    0.0s remaining:    0.0s\n",
            "[Parallel(n_jobs=1)]: Done   2 out of   2 | elapsed:    0.1s remaining:    0.0s\n"
          ],
          "name": "stderr"
        },
        {
          "output_type": "stream",
          "text": [
            "[CV]  weights=uniform, n_neighbors=41, metric=manhattan, score=0.788, total=   0.0s\n",
            "[CV] weights=uniform, n_neighbors=41, metric=manhattan ...............\n",
            "[CV]  weights=uniform, n_neighbors=41, metric=manhattan, score=0.766, total=   0.0s\n",
            "[CV] weights=uniform, n_neighbors=41, metric=manhattan ...............\n",
            "[CV]  weights=uniform, n_neighbors=41, metric=manhattan, score=0.781, total=   0.0s\n",
            "[CV] weights=uniform, n_neighbors=41, metric=manhattan ...............\n",
            "[CV]  weights=uniform, n_neighbors=41, metric=manhattan, score=0.750, total=   0.0s\n",
            "[CV] weights=distance, n_neighbors=17, metric=euclidean ..............\n",
            "[CV]  weights=distance, n_neighbors=17, metric=euclidean, score=0.810, total=   0.0s\n",
            "[CV] weights=distance, n_neighbors=17, metric=euclidean ..............\n",
            "[CV]  weights=distance, n_neighbors=17, metric=euclidean, score=0.818, total=   0.0s\n",
            "[CV] weights=distance, n_neighbors=17, metric=euclidean ..............\n",
            "[CV]  weights=distance, n_neighbors=17, metric=euclidean, score=0.774, total=   0.0s\n",
            "[CV] weights=distance, n_neighbors=17, metric=euclidean ..............\n",
            "[CV]  weights=distance, n_neighbors=17, metric=euclidean, score=0.766, total=   0.0s\n",
            "[CV] weights=distance, n_neighbors=17, metric=euclidean ..............\n",
            "[CV]  weights=distance, n_neighbors=17, metric=euclidean, score=0.765, total=   0.0s\n",
            "[CV] weights=uniform, n_neighbors=6, metric=manhattan ................\n",
            "[CV]  weights=uniform, n_neighbors=6, metric=manhattan, score=0.752, total=   0.0s\n",
            "[CV] weights=uniform, n_neighbors=6, metric=manhattan ................\n",
            "[CV]  weights=uniform, n_neighbors=6, metric=manhattan, score=0.766, total=   0.0s\n",
            "[CV] weights=uniform, n_neighbors=6, metric=manhattan ................\n",
            "[CV]  weights=uniform, n_neighbors=6, metric=manhattan, score=0.766, total=   0.0s\n",
            "[CV] weights=uniform, n_neighbors=6, metric=manhattan ................\n",
            "[CV]  weights=uniform, n_neighbors=6, metric=manhattan, score=0.766, total=   0.0s\n",
            "[CV] weights=uniform, n_neighbors=6, metric=manhattan ................\n",
            "[CV]  weights=uniform, n_neighbors=6, metric=manhattan, score=0.713, total=   0.0s\n",
            "[CV] weights=distance, n_neighbors=47, metric=euclidean ..............\n",
            "[CV]  weights=distance, n_neighbors=47, metric=euclidean, score=0.759, total=   0.0s\n",
            "[CV] weights=distance, n_neighbors=47, metric=euclidean ..............\n",
            "[CV]  weights=distance, n_neighbors=47, metric=euclidean, score=0.788, total=   0.0s\n",
            "[CV] weights=distance, n_neighbors=47, metric=euclidean ..............\n",
            "[CV]  weights=distance, n_neighbors=47, metric=euclidean, score=0.766, total=   0.0s\n",
            "[CV] weights=distance, n_neighbors=47, metric=euclidean ..............\n",
            "[CV]  weights=distance, n_neighbors=47, metric=euclidean, score=0.766, total=   0.0s\n",
            "[CV] weights=distance, n_neighbors=47, metric=euclidean ..............\n",
            "[CV]  weights=distance, n_neighbors=47, metric=euclidean, score=0.765, total=   0.0s\n",
            "[CV] weights=uniform, n_neighbors=43, metric=euclidean ...............\n",
            "[CV]  weights=uniform, n_neighbors=43, metric=euclidean, score=0.759, total=   0.0s\n",
            "[CV] weights=uniform, n_neighbors=43, metric=euclidean ...............\n",
            "[CV]  weights=uniform, n_neighbors=43, metric=euclidean, score=0.788, total=   0.0s\n",
            "[CV] weights=uniform, n_neighbors=43, metric=euclidean ...............\n",
            "[CV]  weights=uniform, n_neighbors=43, metric=euclidean, score=0.759, total=   0.0s\n",
            "[CV] weights=uniform, n_neighbors=43, metric=euclidean ...............\n",
            "[CV]  weights=uniform, n_neighbors=43, metric=euclidean, score=0.766, total=   0.0s\n",
            "[CV] weights=uniform, n_neighbors=43, metric=euclidean ...............\n",
            "[CV]  weights=uniform, n_neighbors=43, metric=euclidean, score=0.772, total=   0.0s\n",
            "[CV] weights=distance, n_neighbors=65, metric=manhattan ..............\n",
            "[CV]  weights=distance, n_neighbors=65, metric=manhattan, score=0.766, total=   0.0s\n",
            "[CV] weights=distance, n_neighbors=65, metric=manhattan ..............\n",
            "[CV]  weights=distance, n_neighbors=65, metric=manhattan, score=0.796, total=   0.0s\n",
            "[CV] weights=distance, n_neighbors=65, metric=manhattan ..............\n",
            "[CV]  weights=distance, n_neighbors=65, metric=manhattan, score=0.759, total=   0.0s\n",
            "[CV] weights=distance, n_neighbors=65, metric=manhattan ..............\n",
            "[CV]  weights=distance, n_neighbors=65, metric=manhattan, score=0.745, total=   0.0s\n",
            "[CV] weights=distance, n_neighbors=65, metric=manhattan ..............\n",
            "[CV]  weights=distance, n_neighbors=65, metric=manhattan, score=0.743, total=   0.0s\n",
            "[CV] weights=uniform, n_neighbors=48, metric=euclidean ...............\n",
            "[CV]  weights=uniform, n_neighbors=48, metric=euclidean, score=0.759, total=   0.0s\n",
            "[CV] weights=uniform, n_neighbors=48, metric=euclidean ...............\n",
            "[CV]  weights=uniform, n_neighbors=48, metric=euclidean, score=0.796, total=   0.0s\n",
            "[CV] weights=uniform, n_neighbors=48, metric=euclidean ...............\n",
            "[CV]  weights=uniform, n_neighbors=48, metric=euclidean, score=0.766, total=   0.0s\n",
            "[CV] weights=uniform, n_neighbors=48, metric=euclidean ...............\n",
            "[CV]  weights=uniform, n_neighbors=48, metric=euclidean, score=0.766, total=   0.0s\n",
            "[CV] weights=uniform, n_neighbors=48, metric=euclidean ...............\n",
            "[CV]  weights=uniform, n_neighbors=48, metric=euclidean, score=0.765, total=   0.0s\n",
            "[CV] weights=uniform, n_neighbors=34, metric=manhattan ...............\n",
            "[CV]  weights=uniform, n_neighbors=34, metric=manhattan, score=0.759, total=   0.0s\n",
            "[CV] weights=uniform, n_neighbors=34, metric=manhattan ...............\n",
            "[CV]  weights=uniform, n_neighbors=34, metric=manhattan, score=0.788, total=   0.0s\n",
            "[CV] weights=uniform, n_neighbors=34, metric=manhattan ...............\n",
            "[CV]  weights=uniform, n_neighbors=34, metric=manhattan, score=0.752, total=   0.0s\n",
            "[CV] weights=uniform, n_neighbors=34, metric=manhattan ...............\n",
            "[CV]  weights=uniform, n_neighbors=34, metric=manhattan, score=0.781, total=   0.0s\n",
            "[CV] weights=uniform, n_neighbors=34, metric=manhattan ...............\n",
            "[CV]  weights=uniform, n_neighbors=34, metric=manhattan, score=0.743, total=   0.0s\n",
            "[CV] weights=uniform, n_neighbors=64, metric=euclidean ...............\n",
            "[CV]  weights=uniform, n_neighbors=64, metric=euclidean, score=0.774, total=   0.0s\n",
            "[CV] weights=uniform, n_neighbors=64, metric=euclidean ...............\n",
            "[CV]  weights=uniform, n_neighbors=64, metric=euclidean, score=0.796, total=   0.0s\n",
            "[CV] weights=uniform, n_neighbors=64, metric=euclidean ...............\n",
            "[CV]  weights=uniform, n_neighbors=64, metric=euclidean, score=0.759, total=   0.0s\n",
            "[CV] weights=uniform, n_neighbors=64, metric=euclidean ...............\n",
            "[CV]  weights=uniform, n_neighbors=64, metric=euclidean, score=0.759, total=   0.0s\n",
            "[CV] weights=uniform, n_neighbors=64, metric=euclidean ...............\n",
            "[CV]  weights=uniform, n_neighbors=64, metric=euclidean, score=0.757, total=   0.0s\n",
            "The best classifier is:  KNeighborsClassifier(algorithm='auto', leaf_size=30, metric='euclidean',\n",
            "                     metric_params=None, n_jobs=None, n_neighbors=17, p=2,\n",
            "                     weights='distance')\n"
          ],
          "name": "stdout"
        },
        {
          "output_type": "stream",
          "text": [
            "[Parallel(n_jobs=1)]: Done  50 out of  50 | elapsed:    1.7s finished\n"
          ],
          "name": "stderr"
        },
        {
          "output_type": "display_data",
          "data": {
            "image/png": "[encoded data removed]",
            "text/plain": [
              "<Figure size 432x288 with 1 Axes>"
            ]
          },
          "metadata": {
            "tags": []
          }
        },
        {
          "output_type": "display_data",
          "data": {
            "image/png": "[encoded data removed]",
            "text/plain": [
              "<Figure size 432x288 with 1 Axes>"
            ]
          },
          "metadata": {
            "tags": []
          }
        }
      ]
    },
    {
      "cell_type": "code",
      "metadata": {
        "id": "fVwJ1LmWI15D",
        "colab_type": "code",
        "outputId": "9c746773-2065-430c-bd25-50e308b884c2",
        "colab": {
          "base_uri": "https://localhost:8080/",
          "height": 1000
        }
      },
      "source": [
        "# Random forest\n",
        "forest_parameters = {'n_estimators': list(range(50,301)), \n",
        "                   'criterion':  ['gini', 'entropy'],\n",
        "                   'max_depth': [4, 5, 6, 7, 8, 9, 10],\n",
        "                   'max_features': ['auto','sqrt','log2']}\n",
        "\n",
        "grid = RandomizedSearchCV(RandomForestClassifier(), forest_parameters, refit = True, n_iter=10, random_state=42, verbose = 3)  \n",
        "# fitting the model for grid search \n",
        "grid.fit(X_train, y_train)\n",
        "\n",
        "print(\"The best classifier is: \", grid.best_estimator_)\n",
        "\n",
        "score_train = grid.best_estimator_.predict_proba(X_train)\n",
        "score_test = grid.best_estimator_.predict_proba(X_test)\n",
        "plot_roc_curve(score_train, y_train_bin)\n",
        "plot_roc_curve(score_test, y_test_bin)\n",
        "\n"
      ],
      "execution_count": 77,
      "outputs": [
        {
          "output_type": "stream",
          "text": [
            "Fitting 5 folds for each of 10 candidates, totalling 50 fits\n",
            "[CV] n_estimators=292, max_features=sqrt, max_depth=6, criterion=entropy \n"
          ],
          "name": "stdout"
        },
        {
          "output_type": "stream",
          "text": [
            "[Parallel(n_jobs=1)]: Using backend SequentialBackend with 1 concurrent workers.\n"
          ],
          "name": "stderr"
        },
        {
          "output_type": "stream",
          "text": [
            "[CV]  n_estimators=292, max_features=sqrt, max_depth=6, criterion=entropy, score=0.759, total=   1.7s\n",
            "[CV] n_estimators=292, max_features=sqrt, max_depth=6, criterion=entropy \n"
          ],
          "name": "stdout"
        },
        {
          "output_type": "stream",
          "text": [
            "[Parallel(n_jobs=1)]: Done   1 out of   1 | elapsed:    1.7s remaining:    0.0s\n"
          ],
          "name": "stderr"
        },
        {
          "output_type": "stream",
          "text": [
            "[CV]  n_estimators=292, max_features=sqrt, max_depth=6, criterion=entropy, score=0.774, total=   1.7s\n",
            "[CV] n_estimators=292, max_features=sqrt, max_depth=6, criterion=entropy \n"
          ],
          "name": "stdout"
        },
        {
          "output_type": "stream",
          "text": [
            "[Parallel(n_jobs=1)]: Done   2 out of   2 | elapsed:    3.4s remaining:    0.0s\n"
          ],
          "name": "stderr"
        },
        {
          "output_type": "stream",
          "text": [
            "[CV]  n_estimators=292, max_features=sqrt, max_depth=6, criterion=entropy, score=0.810, total=   1.7s\n",
            "[CV] n_estimators=292, max_features=sqrt, max_depth=6, criterion=entropy \n",
            "[CV]  n_estimators=292, max_features=sqrt, max_depth=6, criterion=entropy, score=0.745, total=   1.7s\n",
            "[CV] n_estimators=292, max_features=sqrt, max_depth=6, criterion=entropy \n",
            "[CV]  n_estimators=292, max_features=sqrt, max_depth=6, criterion=entropy, score=0.765, total=   1.7s\n",
            "[CV] n_estimators=157, max_features=auto, max_depth=5, criterion=gini \n",
            "[CV]  n_estimators=157, max_features=auto, max_depth=5, criterion=gini, score=0.759, total=   0.5s\n",
            "[CV] n_estimators=157, max_features=auto, max_depth=5, criterion=gini \n",
            "[CV]  n_estimators=157, max_features=auto, max_depth=5, criterion=gini, score=0.745, total=   0.5s\n",
            "[CV] n_estimators=157, max_features=auto, max_depth=5, criterion=gini \n",
            "[CV]  n_estimators=157, max_features=auto, max_depth=5, criterion=gini, score=0.737, total=   0.5s\n",
            "[CV] n_estimators=157, max_features=auto, max_depth=5, criterion=gini \n",
            "[CV]  n_estimators=157, max_features=auto, max_depth=5, criterion=gini, score=0.766, total=   0.5s\n",
            "[CV] n_estimators=157, max_features=auto, max_depth=5, criterion=gini \n",
            "[CV]  n_estimators=157, max_features=auto, max_depth=5, criterion=gini, score=0.721, total=   0.5s\n",
            "[CV] n_estimators=169, max_features=auto, max_depth=4, criterion=entropy \n",
            "[CV]  n_estimators=169, max_features=auto, max_depth=4, criterion=entropy, score=0.730, total=   0.8s\n",
            "[CV] n_estimators=169, max_features=auto, max_depth=4, criterion=entropy \n",
            "[CV]  n_estimators=169, max_features=auto, max_depth=4, criterion=entropy, score=0.701, total=   0.8s\n",
            "[CV] n_estimators=169, max_features=auto, max_depth=4, criterion=entropy \n",
            "[CV]  n_estimators=169, max_features=auto, max_depth=4, criterion=entropy, score=0.730, total=   0.8s\n",
            "[CV] n_estimators=169, max_features=auto, max_depth=4, criterion=entropy \n",
            "[CV]  n_estimators=169, max_features=auto, max_depth=4, criterion=entropy, score=0.701, total=   0.8s\n",
            "[CV] n_estimators=169, max_features=auto, max_depth=4, criterion=entropy \n",
            "[CV]  n_estimators=169, max_features=auto, max_depth=4, criterion=entropy, score=0.691, total=   0.8s\n",
            "[CV] n_estimators=221, max_features=log2, max_depth=10, criterion=gini \n",
            "[CV]  n_estimators=221, max_features=log2, max_depth=10, criterion=gini, score=0.730, total=   0.7s\n",
            "[CV] n_estimators=221, max_features=log2, max_depth=10, criterion=gini \n",
            "[CV]  n_estimators=221, max_features=log2, max_depth=10, criterion=gini, score=0.766, total=   0.7s\n",
            "[CV] n_estimators=221, max_features=log2, max_depth=10, criterion=gini \n",
            "[CV]  n_estimators=221, max_features=log2, max_depth=10, criterion=gini, score=0.737, total=   0.7s\n",
            "[CV] n_estimators=221, max_features=log2, max_depth=10, criterion=gini \n",
            "[CV]  n_estimators=221, max_features=log2, max_depth=10, criterion=gini, score=0.759, total=   0.7s\n",
            "[CV] n_estimators=221, max_features=log2, max_depth=10, criterion=gini \n",
            "[CV]  n_estimators=221, max_features=log2, max_depth=10, criterion=gini, score=0.750, total=   0.7s\n",
            "[CV] n_estimators=262, max_features=sqrt, max_depth=4, criterion=entropy \n",
            "[CV]  n_estimators=262, max_features=sqrt, max_depth=4, criterion=entropy, score=0.723, total=   1.2s\n",
            "[CV] n_estimators=262, max_features=sqrt, max_depth=4, criterion=entropy \n",
            "[CV]  n_estimators=262, max_features=sqrt, max_depth=4, criterion=entropy, score=0.715, total=   1.2s\n",
            "[CV] n_estimators=262, max_features=sqrt, max_depth=4, criterion=entropy \n",
            "[CV]  n_estimators=262, max_features=sqrt, max_depth=4, criterion=entropy, score=0.737, total=   1.2s\n",
            "[CV] n_estimators=262, max_features=sqrt, max_depth=4, criterion=entropy \n",
            "[CV]  n_estimators=262, max_features=sqrt, max_depth=4, criterion=entropy, score=0.723, total=   1.2s\n",
            "[CV] n_estimators=262, max_features=sqrt, max_depth=4, criterion=entropy \n",
            "[CV]  n_estimators=262, max_features=sqrt, max_depth=4, criterion=entropy, score=0.706, total=   1.2s\n",
            "[CV] n_estimators=291, max_features=auto, max_depth=5, criterion=entropy \n",
            "[CV]  n_estimators=291, max_features=auto, max_depth=5, criterion=entropy, score=0.730, total=   1.5s\n",
            "[CV] n_estimators=291, max_features=auto, max_depth=5, criterion=entropy \n",
            "[CV]  n_estimators=291, max_features=auto, max_depth=5, criterion=entropy, score=0.730, total=   1.5s\n",
            "[CV] n_estimators=291, max_features=auto, max_depth=5, criterion=entropy \n",
            "[CV]  n_estimators=291, max_features=auto, max_depth=5, criterion=entropy, score=0.745, total=   1.5s\n",
            "[CV] n_estimators=291, max_features=auto, max_depth=5, criterion=entropy \n",
            "[CV]  n_estimators=291, max_features=auto, max_depth=5, criterion=entropy, score=0.752, total=   1.5s\n",
            "[CV] n_estimators=291, max_features=auto, max_depth=5, criterion=entropy \n",
            "[CV]  n_estimators=291, max_features=auto, max_depth=5, criterion=entropy, score=0.757, total=   1.5s\n",
            "[CV] n_estimators=265, max_features=sqrt, max_depth=4, criterion=gini \n",
            "[CV]  n_estimators=265, max_features=sqrt, max_depth=4, criterion=gini, score=0.759, total=   0.8s\n",
            "[CV] n_estimators=265, max_features=sqrt, max_depth=4, criterion=gini \n",
            "[CV]  n_estimators=265, max_features=sqrt, max_depth=4, criterion=gini, score=0.730, total=   0.7s\n",
            "[CV] n_estimators=265, max_features=sqrt, max_depth=4, criterion=gini \n",
            "[CV]  n_estimators=265, max_features=sqrt, max_depth=4, criterion=gini, score=0.730, total=   0.8s\n",
            "[CV] n_estimators=265, max_features=sqrt, max_depth=4, criterion=gini \n",
            "[CV]  n_estimators=265, max_features=sqrt, max_depth=4, criterion=gini, score=0.693, total=   0.8s\n",
            "[CV] n_estimators=265, max_features=sqrt, max_depth=4, criterion=gini \n",
            "[CV]  n_estimators=265, max_features=sqrt, max_depth=4, criterion=gini, score=0.721, total=   0.8s\n",
            "[CV] n_estimators=209, max_features=log2, max_depth=9, criterion=gini \n",
            "[CV]  n_estimators=209, max_features=log2, max_depth=9, criterion=gini, score=0.766, total=   0.7s\n",
            "[CV] n_estimators=209, max_features=log2, max_depth=9, criterion=gini \n",
            "[CV]  n_estimators=209, max_features=log2, max_depth=9, criterion=gini, score=0.730, total=   0.7s\n",
            "[CV] n_estimators=209, max_features=log2, max_depth=9, criterion=gini \n",
            "[CV]  n_estimators=209, max_features=log2, max_depth=9, criterion=gini, score=0.723, total=   0.7s\n",
            "[CV] n_estimators=209, max_features=log2, max_depth=9, criterion=gini \n",
            "[CV]  n_estimators=209, max_features=log2, max_depth=9, criterion=gini, score=0.723, total=   0.7s\n",
            "[CV] n_estimators=209, max_features=log2, max_depth=9, criterion=gini \n",
            "[CV]  n_estimators=209, max_features=log2, max_depth=9, criterion=gini, score=0.728, total=   0.7s\n",
            "[CV] n_estimators=106, max_features=sqrt, max_depth=4, criterion=entropy \n",
            "[CV]  n_estimators=106, max_features=sqrt, max_depth=4, criterion=entropy, score=0.781, total=   0.5s\n",
            "[CV] n_estimators=106, max_features=sqrt, max_depth=4, criterion=entropy \n",
            "[CV]  n_estimators=106, max_features=sqrt, max_depth=4, criterion=entropy, score=0.723, total=   0.5s\n",
            "[CV] n_estimators=106, max_features=sqrt, max_depth=4, criterion=entropy \n",
            "[CV]  n_estimators=106, max_features=sqrt, max_depth=4, criterion=entropy, score=0.737, total=   0.5s\n",
            "[CV] n_estimators=106, max_features=sqrt, max_depth=4, criterion=entropy \n",
            "[CV]  n_estimators=106, max_features=sqrt, max_depth=4, criterion=entropy, score=0.715, total=   0.5s\n",
            "[CV] n_estimators=106, max_features=sqrt, max_depth=4, criterion=entropy \n",
            "[CV]  n_estimators=106, max_features=sqrt, max_depth=4, criterion=entropy, score=0.662, total=   0.5s\n",
            "[CV] n_estimators=89, max_features=auto, max_depth=8, criterion=entropy \n",
            "[CV]  n_estimators=89, max_features=auto, max_depth=8, criterion=entropy, score=0.766, total=   0.6s\n",
            "[CV] n_estimators=89, max_features=auto, max_depth=8, criterion=entropy \n",
            "[CV]  n_estimators=89, max_features=auto, max_depth=8, criterion=entropy, score=0.759, total=   0.6s\n",
            "[CV] n_estimators=89, max_features=auto, max_depth=8, criterion=entropy \n",
            "[CV]  n_estimators=89, max_features=auto, max_depth=8, criterion=entropy, score=0.774, total=   0.6s\n",
            "[CV] n_estimators=89, max_features=auto, max_depth=8, criterion=entropy \n",
            "[CV]  n_estimators=89, max_features=auto, max_depth=8, criterion=entropy, score=0.781, total=   0.6s\n",
            "[CV] n_estimators=89, max_features=auto, max_depth=8, criterion=entropy \n",
            "[CV]  n_estimators=89, max_features=auto, max_depth=8, criterion=entropy, score=0.735, total=   0.6s\n"
          ],
          "name": "stdout"
        },
        {
          "output_type": "stream",
          "text": [
            "[Parallel(n_jobs=1)]: Done  50 out of  50 | elapsed:   44.6s finished\n"
          ],
          "name": "stderr"
        },
        {
          "output_type": "stream",
          "text": [
            "The best classifier is:  RandomForestClassifier(bootstrap=True, ccp_alpha=0.0, class_weight=None,\n",
            "                       criterion='entropy', max_depth=6, max_features='sqrt',\n",
            "                       max_leaf_nodes=None, max_samples=None,\n",
            "                       min_impurity_decrease=0.0, min_impurity_split=None,\n",
            "                       min_samples_leaf=1, min_samples_split=2,\n",
            "                       min_weight_fraction_leaf=0.0, n_estimators=292,\n",
            "                       n_jobs=None, oob_score=False, random_state=None,\n",
            "                       verbose=0, warm_start=False)\n"
          ],
          "name": "stdout"
        },
        {
          "output_type": "display_data",
          "data": {
            "image/png": "[encoded data removed]",
            "text/plain": [
              "<Figure size 432x288 with 1 Axes>"
            ]
          },
          "metadata": {
            "tags": []
          }
        },
        {
          "output_type": "display_data",
          "data": {
            "image/png": "[encoded data removed]",
            "text/plain": [
              "<Figure size 432x288 with 1 Axes>"
            ]
          },
          "metadata": {
            "tags": []
          }
        },
        {
          "output_type": "stream",
          "text": [
            "/usr/local/lib/python3.6/dist-packages/sklearn/metrics/_classification.py:1305: FutureWarning: elementwise comparison failed; returning scalar instead, but in the future will perform elementwise comparison\n",
            "  if pos_label not in present_labels:\n"
          ],
          "name": "stderr"
        },
        {
          "output_type": "error",
          "ename": "ValueError",
          "evalue": "ignored",
          "traceback": [
            "\u001b[0;31m---------------------------------------------------------------------------\u001b[0m",
            "\u001b[0;31mValueError\u001b[0m                                Traceback (most recent call last)",
            "\u001b[0;32m<ipython-input-77-76e142e2708a>\u001b[0m in \u001b[0;36m<module>\u001b[0;34m()\u001b[0m\n\u001b[1;32m     17\u001b[0m \u001b[0;32mfrom\u001b[0m \u001b[0msklearn\u001b[0m\u001b[0;34m.\u001b[0m\u001b[0mmodel_selection\u001b[0m \u001b[0;32mimport\u001b[0m \u001b[0mcross_validate\u001b[0m\u001b[0;34m\u001b[0m\u001b[0;34m\u001b[0m\u001b[0m\n\u001b[1;32m     18\u001b[0m \u001b[0mscoring\u001b[0m \u001b[0;34m=\u001b[0m \u001b[0;34m[\u001b[0m\u001b[0;34m'precision'\u001b[0m\u001b[0;34m,\u001b[0m \u001b[0;34m'recall'\u001b[0m\u001b[0;34m,\u001b[0m \u001b[0;34m'f1'\u001b[0m\u001b[0;34m,\u001b[0m \u001b[0;34m'accuracy'\u001b[0m\u001b[0;34m,\u001b[0m\u001b[0;34m'roc_auc'\u001b[0m\u001b[0;34m]\u001b[0m\u001b[0;34m\u001b[0m\u001b[0;34m\u001b[0m\u001b[0m\n\u001b[0;32m---> 19\u001b[0;31m \u001b[0mscores\u001b[0m \u001b[0;34m=\u001b[0m \u001b[0mcross_validate\u001b[0m\u001b[0;34m(\u001b[0m\u001b[0mgrid\u001b[0m\u001b[0;34m.\u001b[0m\u001b[0mbest_estimator_\u001b[0m\u001b[0;34m,\u001b[0m \u001b[0mx\u001b[0m\u001b[0;34m,\u001b[0m \u001b[0my\u001b[0m\u001b[0;34m,\u001b[0m \u001b[0mscoring\u001b[0m\u001b[0;34m=\u001b[0m\u001b[0mscoring\u001b[0m\u001b[0;34m)\u001b[0m\u001b[0;34m\u001b[0m\u001b[0;34m\u001b[0m\u001b[0m\n\u001b[0m\u001b[1;32m     20\u001b[0m \u001b[0msorted\u001b[0m\u001b[0;34m(\u001b[0m\u001b[0mscores\u001b[0m\u001b[0;34m.\u001b[0m\u001b[0mkeys\u001b[0m\u001b[0;34m(\u001b[0m\u001b[0;34m)\u001b[0m\u001b[0;34m)\u001b[0m\u001b[0;34m\u001b[0m\u001b[0;34m\u001b[0m\u001b[0m\n\u001b[1;32m     21\u001b[0m \u001b[0mscores\u001b[0m\u001b[0;34m[\u001b[0m\u001b[0;34m'test_recall_macro'\u001b[0m\u001b[0;34m]\u001b[0m\u001b[0;34m\u001b[0m\u001b[0;34m\u001b[0m\u001b[0m\n",
            "\u001b[0;32m/usr/local/lib/python3.6/dist-packages/sklearn/model_selection/_validation.py\u001b[0m in \u001b[0;36mcross_validate\u001b[0;34m(estimator, X, y, groups, scoring, cv, n_jobs, verbose, fit_params, pre_dispatch, return_train_score, return_estimator, error_score)\u001b[0m\n\u001b[1;32m    234\u001b[0m             \u001b[0mreturn_times\u001b[0m\u001b[0;34m=\u001b[0m\u001b[0;32mTrue\u001b[0m\u001b[0;34m,\u001b[0m \u001b[0mreturn_estimator\u001b[0m\u001b[0;34m=\u001b[0m\u001b[0mreturn_estimator\u001b[0m\u001b[0;34m,\u001b[0m\u001b[0;34m\u001b[0m\u001b[0;34m\u001b[0m\u001b[0m\n\u001b[1;32m    235\u001b[0m             error_score=error_score)\n\u001b[0;32m--> 236\u001b[0;31m         for train, test in cv.split(X, y, groups))\n\u001b[0m\u001b[1;32m    237\u001b[0m \u001b[0;34m\u001b[0m\u001b[0m\n\u001b[1;32m    238\u001b[0m     \u001b[0mzipped_scores\u001b[0m \u001b[0;34m=\u001b[0m \u001b[0mlist\u001b[0m\u001b[0;34m(\u001b[0m\u001b[0mzip\u001b[0m\u001b[0;34m(\u001b[0m\u001b[0;34m*\u001b[0m\u001b[0mscores\u001b[0m\u001b[0;34m)\u001b[0m\u001b[0;34m)\u001b[0m\u001b[0;34m\u001b[0m\u001b[0;34m\u001b[0m\u001b[0m\n",
            "\u001b[0;32m/usr/local/lib/python3.6/dist-packages/joblib/parallel.py\u001b[0m in \u001b[0;36m__call__\u001b[0;34m(self, iterable)\u001b[0m\n\u001b[1;32m   1002\u001b[0m             \u001b[0;31m# remaining jobs.\u001b[0m\u001b[0;34m\u001b[0m\u001b[0;34m\u001b[0m\u001b[0;34m\u001b[0m\u001b[0m\n\u001b[1;32m   1003\u001b[0m             \u001b[0mself\u001b[0m\u001b[0;34m.\u001b[0m\u001b[0m_iterating\u001b[0m \u001b[0;34m=\u001b[0m \u001b[0;32mFalse\u001b[0m\u001b[0;34m\u001b[0m\u001b[0;34m\u001b[0m\u001b[0m\n\u001b[0;32m-> 1004\u001b[0;31m             \u001b[0;32mif\u001b[0m \u001b[0mself\u001b[0m\u001b[0;34m.\u001b[0m\u001b[0mdispatch_one_batch\u001b[0m\u001b[0;34m(\u001b[0m\u001b[0miterator\u001b[0m\u001b[0;34m)\u001b[0m\u001b[0;34m:\u001b[0m\u001b[0;34m\u001b[0m\u001b[0;34m\u001b[0m\u001b[0m\n\u001b[0m\u001b[1;32m   1005\u001b[0m                 \u001b[0mself\u001b[0m\u001b[0;34m.\u001b[0m\u001b[0m_iterating\u001b[0m \u001b[0;34m=\u001b[0m \u001b[0mself\u001b[0m\u001b[0;34m.\u001b[0m\u001b[0m_original_iterator\u001b[0m \u001b[0;32mis\u001b[0m \u001b[0;32mnot\u001b[0m \u001b[0;32mNone\u001b[0m\u001b[0;34m\u001b[0m\u001b[0;34m\u001b[0m\u001b[0m\n\u001b[1;32m   1006\u001b[0m \u001b[0;34m\u001b[0m\u001b[0m\n",
            "\u001b[0;32m/usr/local/lib/python3.6/dist-packages/joblib/parallel.py\u001b[0m in \u001b[0;36mdispatch_one_batch\u001b[0;34m(self, iterator)\u001b[0m\n\u001b[1;32m    833\u001b[0m                 \u001b[0;32mreturn\u001b[0m \u001b[0;32mFalse\u001b[0m\u001b[0;34m\u001b[0m\u001b[0;34m\u001b[0m\u001b[0m\n\u001b[1;32m    834\u001b[0m             \u001b[0;32melse\u001b[0m\u001b[0;34m:\u001b[0m\u001b[0;34m\u001b[0m\u001b[0;34m\u001b[0m\u001b[0m\n\u001b[0;32m--> 835\u001b[0;31m                 \u001b[0mself\u001b[0m\u001b[0;34m.\u001b[0m\u001b[0m_dispatch\u001b[0m\u001b[0;34m(\u001b[0m\u001b[0mtasks\u001b[0m\u001b[0;34m)\u001b[0m\u001b[0;34m\u001b[0m\u001b[0;34m\u001b[0m\u001b[0m\n\u001b[0m\u001b[1;32m    836\u001b[0m                 \u001b[0;32mreturn\u001b[0m \u001b[0;32mTrue\u001b[0m\u001b[0;34m\u001b[0m\u001b[0;34m\u001b[0m\u001b[0m\n\u001b[1;32m    837\u001b[0m \u001b[0;34m\u001b[0m\u001b[0m\n",
            "\u001b[0;32m/usr/local/lib/python3.6/dist-packages/joblib/parallel.py\u001b[0m in \u001b[0;36m_dispatch\u001b[0;34m(self, batch)\u001b[0m\n\u001b[1;32m    752\u001b[0m         \u001b[0;32mwith\u001b[0m \u001b[0mself\u001b[0m\u001b[0;34m.\u001b[0m\u001b[0m_lock\u001b[0m\u001b[0;34m:\u001b[0m\u001b[0;34m\u001b[0m\u001b[0;34m\u001b[0m\u001b[0m\n\u001b[1;32m    753\u001b[0m             \u001b[0mjob_idx\u001b[0m \u001b[0;34m=\u001b[0m \u001b[0mlen\u001b[0m\u001b[0;34m(\u001b[0m\u001b[0mself\u001b[0m\u001b[0;34m.\u001b[0m\u001b[0m_jobs\u001b[0m\u001b[0;34m)\u001b[0m\u001b[0;34m\u001b[0m\u001b[0;34m\u001b[0m\u001b[0m\n\u001b[0;32m--> 754\u001b[0;31m             \u001b[0mjob\u001b[0m \u001b[0;34m=\u001b[0m \u001b[0mself\u001b[0m\u001b[0;34m.\u001b[0m\u001b[0m_backend\u001b[0m\u001b[0;34m.\u001b[0m\u001b[0mapply_async\u001b[0m\u001b[0;34m(\u001b[0m\u001b[0mbatch\u001b[0m\u001b[0;34m,\u001b[0m \u001b[0mcallback\u001b[0m\u001b[0;34m=\u001b[0m\u001b[0mcb\u001b[0m\u001b[0;34m)\u001b[0m\u001b[0;34m\u001b[0m\u001b[0;34m\u001b[0m\u001b[0m\n\u001b[0m\u001b[1;32m    755\u001b[0m             \u001b[0;31m# A job can complete so quickly than its callback is\u001b[0m\u001b[0;34m\u001b[0m\u001b[0;34m\u001b[0m\u001b[0;34m\u001b[0m\u001b[0m\n\u001b[1;32m    756\u001b[0m             \u001b[0;31m# called before we get here, causing self._jobs to\u001b[0m\u001b[0;34m\u001b[0m\u001b[0;34m\u001b[0m\u001b[0;34m\u001b[0m\u001b[0m\n",
            "\u001b[0;32m/usr/local/lib/python3.6/dist-packages/joblib/_parallel_backends.py\u001b[0m in \u001b[0;36mapply_async\u001b[0;34m(self, func, callback)\u001b[0m\n\u001b[1;32m    207\u001b[0m     \u001b[0;32mdef\u001b[0m \u001b[0mapply_async\u001b[0m\u001b[0;34m(\u001b[0m\u001b[0mself\u001b[0m\u001b[0;34m,\u001b[0m \u001b[0mfunc\u001b[0m\u001b[0;34m,\u001b[0m \u001b[0mcallback\u001b[0m\u001b[0;34m=\u001b[0m\u001b[0;32mNone\u001b[0m\u001b[0;34m)\u001b[0m\u001b[0;34m:\u001b[0m\u001b[0;34m\u001b[0m\u001b[0;34m\u001b[0m\u001b[0m\n\u001b[1;32m    208\u001b[0m         \u001b[0;34m\"\"\"Schedule a func to be run\"\"\"\u001b[0m\u001b[0;34m\u001b[0m\u001b[0;34m\u001b[0m\u001b[0m\n\u001b[0;32m--> 209\u001b[0;31m         \u001b[0mresult\u001b[0m \u001b[0;34m=\u001b[0m \u001b[0mImmediateResult\u001b[0m\u001b[0;34m(\u001b[0m\u001b[0mfunc\u001b[0m\u001b[0;34m)\u001b[0m\u001b[0;34m\u001b[0m\u001b[0;34m\u001b[0m\u001b[0m\n\u001b[0m\u001b[1;32m    210\u001b[0m         \u001b[0;32mif\u001b[0m \u001b[0mcallback\u001b[0m\u001b[0;34m:\u001b[0m\u001b[0;34m\u001b[0m\u001b[0;34m\u001b[0m\u001b[0m\n\u001b[1;32m    211\u001b[0m             \u001b[0mcallback\u001b[0m\u001b[0;34m(\u001b[0m\u001b[0mresult\u001b[0m\u001b[0;34m)\u001b[0m\u001b[0;34m\u001b[0m\u001b[0;34m\u001b[0m\u001b[0m\n",
            "\u001b[0;32m/usr/local/lib/python3.6/dist-packages/joblib/_parallel_backends.py\u001b[0m in \u001b[0;36m__init__\u001b[0;34m(self, batch)\u001b[0m\n\u001b[1;32m    588\u001b[0m         \u001b[0;31m# Don't delay the application, to avoid keeping the input\u001b[0m\u001b[0;34m\u001b[0m\u001b[0;34m\u001b[0m\u001b[0;34m\u001b[0m\u001b[0m\n\u001b[1;32m    589\u001b[0m         \u001b[0;31m# arguments in memory\u001b[0m\u001b[0;34m\u001b[0m\u001b[0;34m\u001b[0m\u001b[0;34m\u001b[0m\u001b[0m\n\u001b[0;32m--> 590\u001b[0;31m         \u001b[0mself\u001b[0m\u001b[0;34m.\u001b[0m\u001b[0mresults\u001b[0m \u001b[0;34m=\u001b[0m \u001b[0mbatch\u001b[0m\u001b[0;34m(\u001b[0m\u001b[0;34m)\u001b[0m\u001b[0;34m\u001b[0m\u001b[0;34m\u001b[0m\u001b[0m\n\u001b[0m\u001b[1;32m    591\u001b[0m \u001b[0;34m\u001b[0m\u001b[0m\n\u001b[1;32m    592\u001b[0m     \u001b[0;32mdef\u001b[0m \u001b[0mget\u001b[0m\u001b[0;34m(\u001b[0m\u001b[0mself\u001b[0m\u001b[0;34m)\u001b[0m\u001b[0;34m:\u001b[0m\u001b[0;34m\u001b[0m\u001b[0;34m\u001b[0m\u001b[0m\n",
            "\u001b[0;32m/usr/local/lib/python3.6/dist-packages/joblib/parallel.py\u001b[0m in \u001b[0;36m__call__\u001b[0;34m(self)\u001b[0m\n\u001b[1;32m    254\u001b[0m         \u001b[0;32mwith\u001b[0m \u001b[0mparallel_backend\u001b[0m\u001b[0;34m(\u001b[0m\u001b[0mself\u001b[0m\u001b[0;34m.\u001b[0m\u001b[0m_backend\u001b[0m\u001b[0;34m,\u001b[0m \u001b[0mn_jobs\u001b[0m\u001b[0;34m=\u001b[0m\u001b[0mself\u001b[0m\u001b[0;34m.\u001b[0m\u001b[0m_n_jobs\u001b[0m\u001b[0;34m)\u001b[0m\u001b[0;34m:\u001b[0m\u001b[0;34m\u001b[0m\u001b[0;34m\u001b[0m\u001b[0m\n\u001b[1;32m    255\u001b[0m             return [func(*args, **kwargs)\n\u001b[0;32m--> 256\u001b[0;31m                     for func, args, kwargs in self.items]\n\u001b[0m\u001b[1;32m    257\u001b[0m \u001b[0;34m\u001b[0m\u001b[0m\n\u001b[1;32m    258\u001b[0m     \u001b[0;32mdef\u001b[0m \u001b[0m__len__\u001b[0m\u001b[0;34m(\u001b[0m\u001b[0mself\u001b[0m\u001b[0;34m)\u001b[0m\u001b[0;34m:\u001b[0m\u001b[0;34m\u001b[0m\u001b[0;34m\u001b[0m\u001b[0m\n",
            "\u001b[0;32m/usr/local/lib/python3.6/dist-packages/joblib/parallel.py\u001b[0m in \u001b[0;36m<listcomp>\u001b[0;34m(.0)\u001b[0m\n\u001b[1;32m    254\u001b[0m         \u001b[0;32mwith\u001b[0m \u001b[0mparallel_backend\u001b[0m\u001b[0;34m(\u001b[0m\u001b[0mself\u001b[0m\u001b[0;34m.\u001b[0m\u001b[0m_backend\u001b[0m\u001b[0;34m,\u001b[0m \u001b[0mn_jobs\u001b[0m\u001b[0;34m=\u001b[0m\u001b[0mself\u001b[0m\u001b[0;34m.\u001b[0m\u001b[0m_n_jobs\u001b[0m\u001b[0;34m)\u001b[0m\u001b[0;34m:\u001b[0m\u001b[0;34m\u001b[0m\u001b[0;34m\u001b[0m\u001b[0m\n\u001b[1;32m    255\u001b[0m             return [func(*args, **kwargs)\n\u001b[0;32m--> 256\u001b[0;31m                     for func, args, kwargs in self.items]\n\u001b[0m\u001b[1;32m    257\u001b[0m \u001b[0;34m\u001b[0m\u001b[0m\n\u001b[1;32m    258\u001b[0m     \u001b[0;32mdef\u001b[0m \u001b[0m__len__\u001b[0m\u001b[0;34m(\u001b[0m\u001b[0mself\u001b[0m\u001b[0;34m)\u001b[0m\u001b[0;34m:\u001b[0m\u001b[0;34m\u001b[0m\u001b[0;34m\u001b[0m\u001b[0m\n",
            "\u001b[0;32m/usr/local/lib/python3.6/dist-packages/sklearn/model_selection/_validation.py\u001b[0m in \u001b[0;36m_fit_and_score\u001b[0;34m(estimator, X, y, scorer, train, test, verbose, parameters, fit_params, return_train_score, return_parameters, return_n_test_samples, return_times, return_estimator, error_score)\u001b[0m\n\u001b[1;32m    542\u001b[0m     \u001b[0;32melse\u001b[0m\u001b[0;34m:\u001b[0m\u001b[0;34m\u001b[0m\u001b[0;34m\u001b[0m\u001b[0m\n\u001b[1;32m    543\u001b[0m         \u001b[0mfit_time\u001b[0m \u001b[0;34m=\u001b[0m \u001b[0mtime\u001b[0m\u001b[0;34m.\u001b[0m\u001b[0mtime\u001b[0m\u001b[0;34m(\u001b[0m\u001b[0;34m)\u001b[0m \u001b[0;34m-\u001b[0m \u001b[0mstart_time\u001b[0m\u001b[0;34m\u001b[0m\u001b[0;34m\u001b[0m\u001b[0m\n\u001b[0;32m--> 544\u001b[0;31m         \u001b[0mtest_scores\u001b[0m \u001b[0;34m=\u001b[0m \u001b[0m_score\u001b[0m\u001b[0;34m(\u001b[0m\u001b[0mestimator\u001b[0m\u001b[0;34m,\u001b[0m \u001b[0mX_test\u001b[0m\u001b[0;34m,\u001b[0m \u001b[0my_test\u001b[0m\u001b[0;34m,\u001b[0m \u001b[0mscorer\u001b[0m\u001b[0;34m)\u001b[0m\u001b[0;34m\u001b[0m\u001b[0;34m\u001b[0m\u001b[0m\n\u001b[0m\u001b[1;32m    545\u001b[0m         \u001b[0mscore_time\u001b[0m \u001b[0;34m=\u001b[0m \u001b[0mtime\u001b[0m\u001b[0;34m.\u001b[0m\u001b[0mtime\u001b[0m\u001b[0;34m(\u001b[0m\u001b[0;34m)\u001b[0m \u001b[0;34m-\u001b[0m \u001b[0mstart_time\u001b[0m \u001b[0;34m-\u001b[0m \u001b[0mfit_time\u001b[0m\u001b[0;34m\u001b[0m\u001b[0;34m\u001b[0m\u001b[0m\n\u001b[1;32m    546\u001b[0m         \u001b[0;32mif\u001b[0m \u001b[0mreturn_train_score\u001b[0m\u001b[0;34m:\u001b[0m\u001b[0;34m\u001b[0m\u001b[0;34m\u001b[0m\u001b[0m\n",
            "\u001b[0;32m/usr/local/lib/python3.6/dist-packages/sklearn/model_selection/_validation.py\u001b[0m in \u001b[0;36m_score\u001b[0;34m(estimator, X_test, y_test, scorer)\u001b[0m\n\u001b[1;32m    589\u001b[0m         \u001b[0mscores\u001b[0m \u001b[0;34m=\u001b[0m \u001b[0mscorer\u001b[0m\u001b[0;34m(\u001b[0m\u001b[0mestimator\u001b[0m\u001b[0;34m,\u001b[0m \u001b[0mX_test\u001b[0m\u001b[0;34m)\u001b[0m\u001b[0;34m\u001b[0m\u001b[0;34m\u001b[0m\u001b[0m\n\u001b[1;32m    590\u001b[0m     \u001b[0;32melse\u001b[0m\u001b[0;34m:\u001b[0m\u001b[0;34m\u001b[0m\u001b[0;34m\u001b[0m\u001b[0m\n\u001b[0;32m--> 591\u001b[0;31m         \u001b[0mscores\u001b[0m \u001b[0;34m=\u001b[0m \u001b[0mscorer\u001b[0m\u001b[0;34m(\u001b[0m\u001b[0mestimator\u001b[0m\u001b[0;34m,\u001b[0m \u001b[0mX_test\u001b[0m\u001b[0;34m,\u001b[0m \u001b[0my_test\u001b[0m\u001b[0;34m)\u001b[0m\u001b[0;34m\u001b[0m\u001b[0;34m\u001b[0m\u001b[0m\n\u001b[0m\u001b[1;32m    592\u001b[0m \u001b[0;34m\u001b[0m\u001b[0m\n\u001b[1;32m    593\u001b[0m     error_msg = (\"scoring must return a number, got %s (%s) \"\n",
            "\u001b[0;32m/usr/local/lib/python3.6/dist-packages/sklearn/metrics/_scorer.py\u001b[0m in \u001b[0;36m__call__\u001b[0;34m(self, estimator, *args, **kwargs)\u001b[0m\n\u001b[1;32m     85\u001b[0m             \u001b[0;32mif\u001b[0m \u001b[0misinstance\u001b[0m\u001b[0;34m(\u001b[0m\u001b[0mscorer\u001b[0m\u001b[0;34m,\u001b[0m \u001b[0m_BaseScorer\u001b[0m\u001b[0;34m)\u001b[0m\u001b[0;34m:\u001b[0m\u001b[0;34m\u001b[0m\u001b[0;34m\u001b[0m\u001b[0m\n\u001b[1;32m     86\u001b[0m                 score = scorer._score(cached_call, estimator,\n\u001b[0;32m---> 87\u001b[0;31m                                       *args, **kwargs)\n\u001b[0m\u001b[1;32m     88\u001b[0m             \u001b[0;32melse\u001b[0m\u001b[0;34m:\u001b[0m\u001b[0;34m\u001b[0m\u001b[0;34m\u001b[0m\u001b[0m\n\u001b[1;32m     89\u001b[0m                 \u001b[0mscore\u001b[0m \u001b[0;34m=\u001b[0m \u001b[0mscorer\u001b[0m\u001b[0;34m(\u001b[0m\u001b[0mestimator\u001b[0m\u001b[0;34m,\u001b[0m \u001b[0;34m*\u001b[0m\u001b[0margs\u001b[0m\u001b[0;34m,\u001b[0m \u001b[0;34m**\u001b[0m\u001b[0mkwargs\u001b[0m\u001b[0;34m)\u001b[0m\u001b[0;34m\u001b[0m\u001b[0;34m\u001b[0m\u001b[0m\n",
            "\u001b[0;32m/usr/local/lib/python3.6/dist-packages/sklearn/metrics/_scorer.py\u001b[0m in \u001b[0;36m_score\u001b[0;34m(self, method_caller, estimator, X, y_true, sample_weight)\u001b[0m\n\u001b[1;32m    210\u001b[0m         \u001b[0;32melse\u001b[0m\u001b[0;34m:\u001b[0m\u001b[0;34m\u001b[0m\u001b[0;34m\u001b[0m\u001b[0m\n\u001b[1;32m    211\u001b[0m             return self._sign * self._score_func(y_true, y_pred,\n\u001b[0;32m--> 212\u001b[0;31m                                                  **self._kwargs)\n\u001b[0m\u001b[1;32m    213\u001b[0m \u001b[0;34m\u001b[0m\u001b[0m\n\u001b[1;32m    214\u001b[0m \u001b[0;34m\u001b[0m\u001b[0m\n",
            "\u001b[0;32m/usr/local/lib/python3.6/dist-packages/sklearn/metrics/_classification.py\u001b[0m in \u001b[0;36mprecision_score\u001b[0;34m(y_true, y_pred, labels, pos_label, average, sample_weight, zero_division)\u001b[0m\n\u001b[1;32m   1670\u001b[0m                                                  \u001b[0mwarn_for\u001b[0m\u001b[0;34m=\u001b[0m\u001b[0;34m(\u001b[0m\u001b[0;34m'precision'\u001b[0m\u001b[0;34m,\u001b[0m\u001b[0;34m)\u001b[0m\u001b[0;34m,\u001b[0m\u001b[0;34m\u001b[0m\u001b[0;34m\u001b[0m\u001b[0m\n\u001b[1;32m   1671\u001b[0m                                                  \u001b[0msample_weight\u001b[0m\u001b[0;34m=\u001b[0m\u001b[0msample_weight\u001b[0m\u001b[0;34m,\u001b[0m\u001b[0;34m\u001b[0m\u001b[0;34m\u001b[0m\u001b[0m\n\u001b[0;32m-> 1672\u001b[0;31m                                                  zero_division=zero_division)\n\u001b[0m\u001b[1;32m   1673\u001b[0m     \u001b[0;32mreturn\u001b[0m \u001b[0mp\u001b[0m\u001b[0;34m\u001b[0m\u001b[0;34m\u001b[0m\u001b[0m\n\u001b[1;32m   1674\u001b[0m \u001b[0;34m\u001b[0m\u001b[0m\n",
            "\u001b[0;32m/usr/local/lib/python3.6/dist-packages/sklearn/metrics/_classification.py\u001b[0m in \u001b[0;36mprecision_recall_fscore_support\u001b[0;34m(y_true, y_pred, beta, labels, pos_label, average, warn_for, sample_weight, zero_division)\u001b[0m\n\u001b[1;32m   1482\u001b[0m         \u001b[0;32mraise\u001b[0m \u001b[0mValueError\u001b[0m\u001b[0;34m(\u001b[0m\u001b[0;34m\"beta should be >=0 in the F-beta score\"\u001b[0m\u001b[0;34m)\u001b[0m\u001b[0;34m\u001b[0m\u001b[0;34m\u001b[0m\u001b[0m\n\u001b[1;32m   1483\u001b[0m     labels = _check_set_wise_labels(y_true, y_pred, average, labels,\n\u001b[0;32m-> 1484\u001b[0;31m                                     pos_label)\n\u001b[0m\u001b[1;32m   1485\u001b[0m \u001b[0;34m\u001b[0m\u001b[0m\n\u001b[1;32m   1486\u001b[0m     \u001b[0;31m# Calculate tp_sum, pred_sum, true_sum ###\u001b[0m\u001b[0;34m\u001b[0m\u001b[0;34m\u001b[0m\u001b[0;34m\u001b[0m\u001b[0m\n",
            "\u001b[0;32m/usr/local/lib/python3.6/dist-packages/sklearn/metrics/_classification.py\u001b[0m in \u001b[0;36m_check_set_wise_labels\u001b[0;34m(y_true, y_pred, average, labels, pos_label)\u001b[0m\n\u001b[1;32m   1306\u001b[0m                 \u001b[0;32mif\u001b[0m \u001b[0mlen\u001b[0m\u001b[0;34m(\u001b[0m\u001b[0mpresent_labels\u001b[0m\u001b[0;34m)\u001b[0m \u001b[0;34m>=\u001b[0m \u001b[0;36m2\u001b[0m\u001b[0;34m:\u001b[0m\u001b[0;34m\u001b[0m\u001b[0;34m\u001b[0m\u001b[0m\n\u001b[1;32m   1307\u001b[0m                     raise ValueError(\"pos_label=%r is not a valid label: \"\n\u001b[0;32m-> 1308\u001b[0;31m                                      \"%r\" % (pos_label, present_labels))\n\u001b[0m\u001b[1;32m   1309\u001b[0m             \u001b[0mlabels\u001b[0m \u001b[0;34m=\u001b[0m \u001b[0;34m[\u001b[0m\u001b[0mpos_label\u001b[0m\u001b[0;34m]\u001b[0m\u001b[0;34m\u001b[0m\u001b[0;34m\u001b[0m\u001b[0m\n\u001b[1;32m   1310\u001b[0m         \u001b[0;32melse\u001b[0m\u001b[0;34m:\u001b[0m\u001b[0;34m\u001b[0m\u001b[0;34m\u001b[0m\u001b[0m\n",
            "\u001b[0;31mValueError\u001b[0m: pos_label=1 is not a valid label: array(['AD', 'CN'], dtype='<U2')"
          ]
        }
      ]
    },
    {
      "cell_type": "code",
      "metadata": {
        "id": "YK6NVlN9UqTK",
        "colab_type": "code",
        "colab": {
          "base_uri": "https://localhost:8080/",
          "height": 386
        },
        "outputId": "33668182-ec99-486b-d9e2-1f7337be7f58"
      },
      "source": [
        "from sklearn.model_selection import cross_validate\n",
        "y_bin = preprocessing.label_binarize(y,['AD','CN'])\n",
        "y_bin = [i[0] for i in y_bin]\n",
        "scoring = ['precision', 'recall', 'f1', 'accuracy','roc_auc']\n",
        "scores = cross_validate(grid.best_estimator_, x.values, y_bin, scoring=scoring, cv=20)\n"
      ],
      "execution_count": 82,
      "outputs": [
        {
          "output_type": "stream",
          "text": [
            "{'fit_time': array([2.74283051, 2.68781686, 2.71552968, 2.70743871, 2.70368671,\n",
            "       2.70227385, 2.70552921, 2.69770265, 2.68836522, 2.69769764,\n",
            "       2.69207406, 2.71172976, 2.6558578 , 2.69269753, 2.68653226,\n",
            "       2.72321105, 2.70321655, 2.70321369, 2.68082404, 2.71118236]), 'score_time': array([0.04788423, 0.04959345, 0.04914165, 0.04742861, 0.04587817,\n",
            "       0.0531075 , 0.04617   , 0.04821515, 0.04824734, 0.0468843 ,\n",
            "       0.04631066, 0.04695559, 0.04616594, 0.04717493, 0.04699755,\n",
            "       0.04565096, 0.04584813, 0.04580426, 0.04607463, 0.04723287]), 'test_precision': array([0.8       , 0.68421053, 0.83333333, 0.875     , 0.73333333,\n",
            "       0.76923077, 0.6875    , 0.66666667, 0.84615385, 0.73333333,\n",
            "       0.8125    , 0.78947368, 0.92307692, 0.75      , 0.64705882,\n",
            "       0.86666667, 0.68421053, 0.8       , 0.73333333, 0.6875    ]), 'test_recall': array([0.70588235, 0.76470588, 0.88235294, 0.82352941, 0.64705882,\n",
            "       0.58823529, 0.64705882, 0.47058824, 0.64705882, 0.64705882,\n",
            "       0.76470588, 0.88235294, 0.70588235, 0.70588235, 0.64705882,\n",
            "       0.8125    , 0.8125    , 0.75      , 0.6875    , 0.64705882]), 'test_f1': array([0.75      , 0.72222222, 0.85714286, 0.84848485, 0.6875    ,\n",
            "       0.66666667, 0.66666667, 0.55172414, 0.73333333, 0.6875    ,\n",
            "       0.78787879, 0.83333333, 0.8       , 0.72727273, 0.64705882,\n",
            "       0.83870968, 0.74285714, 0.77419355, 0.70967742, 0.66666667]), 'test_accuracy': array([0.81395349, 0.76744186, 0.88372093, 0.88372093, 0.76744186,\n",
            "       0.76744186, 0.74418605, 0.69767442, 0.81395349, 0.76744186,\n",
            "       0.8372093 , 0.86046512, 0.86046512, 0.79069767, 0.72093023,\n",
            "       0.88095238, 0.78571429, 0.83333333, 0.78571429, 0.73809524]), 'test_roc_auc': array([0.91402715, 0.88461538, 0.93891403, 0.95927602, 0.80090498,\n",
            "       0.84841629, 0.83936652, 0.75565611, 0.83031674, 0.7918552 ,\n",
            "       0.95475113, 0.95022624, 0.78054299, 0.91855204, 0.7760181 ,\n",
            "       0.94711538, 0.90625   , 0.95432692, 0.92067308, 0.86588235])}\n"
          ],
          "name": "stdout"
        }
      ]
    },
    {
      "cell_type": "code",
      "metadata": {
        "id": "CydiAp9aWCU9",
        "colab_type": "code",
        "colab": {
          "base_uri": "https://localhost:8080/",
          "height": 101
        },
        "outputId": "a7865e3f-1b3f-4ddc-8ac0-97e25cd12e6d"
      },
      "source": [
        "from statistics import mean\n",
        "mean_accuracy = mean(scores['test_accuracy'])\n",
        "mean_precision = mean(scores['test_precision'])\n",
        "mean_f1 = mean(scores['test_f1'])\n",
        "mean_roc_auc = mean(scores['test_roc_auc'])\n",
        "mean_recall = mean(scores['test_recall'])\n",
        "print(f'mean accuracy is {mean_accuracy}')\n",
        "print(f'mean precision is {mean_precision}')\n",
        "print(f'mean f1 is {mean_f1}')\n",
        "print(f'mean roc_auc is {mean_roc_auc}')\n",
        "print(f'mean recall is {mean_recall}')"
      ],
      "execution_count": 87,
      "outputs": [
        {
          "output_type": "stream",
          "text": [
            "mean accuracy is 0.8000276854928018\n",
            "mean precision is 0.7661290882749862\n",
            "mean f1 is 0.7349444429573495\n",
            "mean roc_auc is 0.8768843325791855\n",
            "mean recall is 0.7119485294117647\n"
          ],
          "name": "stdout"
        }
      ]
    }
  ]
}