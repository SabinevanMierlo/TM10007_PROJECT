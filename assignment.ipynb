{
  "nbformat": 4,
  "nbformat_minor": 0,
  "metadata": {
    "colab": {
      "name": "assignment.ipynb",
      "provenance": [],
      "collapsed_sections": []
    },
    "kernelspec": {
      "display_name": "Python 3",
      "language": "python",
      "name": "python3"
    },
    "language_info": {
      "codemirror_mode": {
        "name": "ipython",
        "version": 3
      },
      "file_extension": ".py",
      "mimetype": "text/x-python",
      "name": "python",
      "nbconvert_exporter": "python",
      "pygments_lexer": "ipython3",
      "version": "3.7.4"
    }
  },
  "cells": [
    {
      "cell_type": "markdown",
      "metadata": {
        "colab_type": "text",
        "id": "7SXpaKwwGe5x"
      },
      "source": [
        "# TM10007 Assignment template"
      ]
    },
    {
      "cell_type": "code",
      "metadata": {
        "colab_type": "code",
        "id": "CiDn2Sk-VWqE",
        "outputId": "bc40e1e6-2f56-427b-8dda-655107ea1a0b",
        "colab": {
          "base_uri": "https://localhost:8080/",
          "height": 34
        }
      },
      "source": [
        "# Run this to use from colab environment\n",
        "!pip install -q --upgrade git+https://github.com/karinvangarderen/tm10007_project.git"
      ],
      "execution_count": 125,
      "outputs": [
        {
          "output_type": "stream",
          "text": [
            "  Building wheel for brats (setup.py) ... \u001b[?25l\u001b[?25hdone\n"
          ],
          "name": "stdout"
        }
      ]
    },
    {
      "cell_type": "code",
      "metadata": {
        "id": "rOtoCOptna4A",
        "colab_type": "code",
        "colab": {}
      },
      "source": [
        "# General packages\n",
        "import numpy as np \n",
        "import pandas as pd\n",
        "import matplotlib.pyplot as plt\n",
        "import seaborn\n",
        "\n",
        "# Classifiers\n",
        "from sklearn import model_selection\n",
        "from sklearn import metrics\n",
        "from sklearn.model_selection import LeaveOneOut\n",
        "from sklearn.ensemble import RandomForestClassifier\n",
        "from sklearn import neighbors\n",
        "from sklearn import svm\n",
        "from sklearn import preprocessing\n",
        "import numpy as np\n",
        "from sklearn.model_selection import KFold\n",
        "from sklearn.svm import SVC\n",
        "from sklearn.model_selection import StratifiedKFold\n",
        "from sklearn.feature_selection import RFECV\n",
        "from sklearn.datasets import make_classification\n",
        "from sklearn.model_selection import RandomizedSearchCV \n",
        "from sklearn.utils.fixes import loguniform\n",
        "from sklearn.neighbors import KNeighborsClassifier\n",
        "from sklearn.decomposition import PCA\n",
        "\n",
        "\n",
        "from sklearn.linear_model import Lasso, RidgeClassifier\n",
        "from sklearn.feature_selection import SelectFromModel"
      ],
      "execution_count": 0,
      "outputs": []
    },
    {
      "cell_type": "markdown",
      "metadata": {
        "id": "xxnxLcUpCSKk",
        "colab_type": "text"
      },
      "source": [
        "# Data loading and cleaning\n",
        "\n",
        "Some functions"
      ]
    },
    {
      "cell_type": "code",
      "metadata": {
        "colab_type": "code",
        "id": "-NE_fTbKGe5z",
        "colab": {}
      },
      "source": [
        "# Some functions we will use\n",
        "\n",
        "\n",
        "def colorplot(clf, ax, x, y, h=100):\n",
        "    '''\n",
        "    Overlay the decision areas as colors in an axes.\n",
        "    \n",
        "    Input:\n",
        "        clf: trained classifier\n",
        "        ax: axis to overlay color mesh on\n",
        "        x: feature on x-axis\n",
        "        y: feature on y-axis\n",
        "        h(optional): steps in the mesh\n",
        "    '''\n",
        "    # Create a meshgrid the size of the axis\n",
        "    xstep = (x.max() - x.min() ) / 20.0\n",
        "    ystep = (y.max() - y.min() ) / 20.0\n",
        "    x_min, x_max = x.min() - xstep, x.max() + xstep\n",
        "    y_min, y_max = y.min() - ystep, y.max() + ystep\n",
        "    h = max((x_max - x_min, y_max - y_min))/h\n",
        "    xx, yy = np.meshgrid(np.arange(x_min, x_max, h),\n",
        "                         np.arange(y_min, y_max, h))\n",
        "    \n",
        "    # Plot the decision boundary. For that, we will assign a color to each\n",
        "    # point in the mesh [x_min, x_max]x[y_min, y_max].\n",
        "    if hasattr(clf, \"decision_function\"):\n",
        "        Z = clf.decision_function(np.c_[xx.ravel(), yy.ravel()])\n",
        "    else:\n",
        "        Z = clf.predict_proba(np.c_[xx.ravel(), yy.ravel()])\n",
        "    if len(Z.shape) > 1:\n",
        "        Z = Z[:, 1]\n",
        "    \n",
        "    # Put the result into a color plot\n",
        "    cm = plt.cm.RdBu_r\n",
        "    Z = Z.reshape(xx.shape)\n",
        "    ax.contourf(xx, yy, Z, cmap=cm, alpha=.8)\n",
        "    del xx, yy, x_min, x_max, y_min, y_max, Z, cm\n",
        "\n",
        "def plot_learning_curve(estimator, title, X, y, axes, ylim=None, cv=None,\n",
        "                        n_jobs=None, train_sizes=np.linspace(.1, 1.0, 5)):\n",
        "    \"\"\"\n",
        "    Generate 3 plots: the test and training learning curve, the training\n",
        "    samples vs fit times curve, the fit times vs score curve.\n",
        "\n",
        "    Parameters\n",
        "    ----------\n",
        "    estimator : object type that implements the \"fit\" and \"predict\" methods\n",
        "        An object of that type which is cloned for each validation.\n",
        "\n",
        "    title : string\n",
        "        Title for the chart.\n",
        "\n",
        "    X : array-like, shape (n_samples, n_features)\n",
        "        Training vector, where n_samples is the number of samples and\n",
        "        n_features is the number of features.\n",
        "\n",
        "    y : array-like, shape (n_samples) or (n_samples, n_features), optional\n",
        "        Target relative to X for classification or regression;\n",
        "        None for unsupervised learning.\n",
        "\n",
        "    axes : array of 3 axes, optional (default=None)\n",
        "        Axes to use for plotting the curves.\n",
        "\n",
        "    ylim : tuple, shape (ymin, ymax), optional\n",
        "        Defines minimum and maximum yvalues plotted.\n",
        "\n",
        "    cv : int, cross-validation generator or an iterable, optional\n",
        "        Determines the cross-validation splitting strategy.\n",
        "        Possible inputs for cv are:\n",
        "          - None, to use the default 5-fold cross-validation,\n",
        "          - integer, to specify the number of folds.\n",
        "          - :term:`CV splitter`,\n",
        "          - An iterable yielding (train, test) splits as arrays of indices.\n",
        "\n",
        "        For integer/None inputs, if ``y`` is binary or multiclass,\n",
        "        :class:`StratifiedKFold` used. If the estimator is not a classifier\n",
        "        or if ``y`` is neither binary nor multiclass, :class:`KFold` is used.\n",
        "\n",
        "        Refer :ref:`User Guide <cross_validation>` for the various\n",
        "        cross-validators that can be used here.\n",
        "\n",
        "    n_jobs : int or None, optional (default=None)\n",
        "        Number of jobs to run in parallel.\n",
        "        ``None`` means 1 unless in a :obj:`joblib.parallel_backend` context.\n",
        "        ``-1`` means using all processors. See :term:`Glossary <n_jobs>`\n",
        "        for more details.\n",
        "\n",
        "    train_sizes : array-like, shape (n_ticks,), dtype float or int\n",
        "        Relative or absolute numbers of training examples that will be used to\n",
        "        generate the learning curve. If the dtype is float, it is regarded as a\n",
        "        fraction of the maximum size of the training set (that is determined\n",
        "        by the selected validation method), i.e. it has to be within (0, 1].\n",
        "        Otherwise it is interpreted as absolute sizes of the training sets.\n",
        "        Note that for classification the number of samples usually have to\n",
        "        be big enough to contain at least one sample from each class.\n",
        "        (default: np.linspace(0.1, 1.0, 5))\n",
        "    \"\"\"\n",
        "\n",
        "    axes.set_title(title)\n",
        "    if ylim is not None:\n",
        "        axes.set_ylim(*ylim)\n",
        "    axes.set_xlabel(\"Training examples\")\n",
        "    axes.set_ylabel(\"Score\")\n",
        "\n",
        "    train_sizes, train_scores, test_scores  = \\\n",
        "        learning_curve(estimator, X, y, cv=cv, n_jobs=n_jobs,\n",
        "                       train_sizes=train_sizes)\n",
        "    train_scores_mean = np.mean(train_scores, axis=1)\n",
        "    train_scores_std = np.std(train_scores, axis=1)\n",
        "    test_scores_mean = np.mean(test_scores, axis=1)\n",
        "    test_scores_std = np.std(test_scores, axis=1)\n",
        "\n",
        "    # Plot learning curve\n",
        "    axes.grid()\n",
        "    axes.fill_between(train_sizes, train_scores_mean - train_scores_std,\n",
        "                         train_scores_mean + train_scores_std, alpha=0.1,\n",
        "                         color=\"r\")\n",
        "    axes.fill_between(train_sizes, test_scores_mean - test_scores_std,\n",
        "                         test_scores_mean + test_scores_std, alpha=0.1,\n",
        "                         color=\"g\")\n",
        "    axes.plot(train_sizes, train_scores_mean, 'o-', color=\"r\",\n",
        "                 label=\"Training score\")\n",
        "    axes.plot(train_sizes, test_scores_mean, 'o-', color=\"g\",\n",
        "                 label=\"Cross-validation score\")\n",
        "    axes.legend(loc=\"best\")\n",
        "\n",
        "    return plt\n",
        "\n",
        "def plot_roc_curve(y_score, y_truth):\n",
        "    '''\n",
        "    Plot an ROC curve.\n",
        "    '''\n",
        "    # Only take scores for class = 1\n",
        "    y_score = y_score[:, 1]\n",
        "    \n",
        "    # Compute ROC curve and ROC area for each class\n",
        "    fpr, tpr, _ = roc_curve(y_truth, y_score)\n",
        "    roc_auc = auc(fpr, tpr)\n",
        "    \n",
        "    # Plot the ROC curve\n",
        "    plt.figure()\n",
        "    lw = 2\n",
        "    plt.plot(fpr, tpr, color='darkorange',\n",
        "             lw=lw, label='ROC curve (area = %0.2f)' % roc_auc)\n",
        "    plt.plot([0, 1], [0, 1], color='navy', lw=lw, linestyle='--')\n",
        "    plt.xlim([0.0, 1.0])\n",
        "    plt.ylim([0.0, 1.05])\n",
        "    plt.xlabel('False Positive Rate')\n",
        "    plt.ylabel('True Positive Rate')\n",
        "    plt.title('Receiver operating characteristic example')\n",
        "    plt.legend(loc=\"lower right\")\n",
        "    plt.show()"
      ],
      "execution_count": 0,
      "outputs": []
    },
    {
      "cell_type": "markdown",
      "metadata": {
        "id": "6k6pUnYWV4GG",
        "colab_type": "text"
      },
      "source": [
        "Data loading and handling missing data. "
      ]
    },
    {
      "cell_type": "code",
      "metadata": {
        "id": "uQgfZ505VORH",
        "colab_type": "code",
        "outputId": "2e799d50-6470-493d-b7a0-2980e1d320c4",
        "colab": {
          "base_uri": "https://localhost:8080/",
          "height": 269
        }
      },
      "source": [
        "# Data loading functions. \n",
        "from adni.load_data import load_data \n",
        "\n",
        "data = load_data()\n",
        "print(data.head())\n",
        "print(f'The number of samples: {len(data.index)}')\n",
        "print(f'The number of columns: {len(data.columns)}')\n",
        "#data_missing = data.isnull()\n",
        "#print(data_missing.index[data_missing == True])\n",
        "\n",
        "# Creating vector of labels\n",
        "data_no_label = data.drop(columns='label')\n",
        "print(f'The number of features: {len(data_no_label.columns)}')\n",
        "x = data_no_label\n",
        "y = data['label']\n",
        "\n",
        "# Split data\n",
        "X_train, X_test, y_train, y_test = model_selection.train_test_split(x, y, test_size=0.2)\n",
        "\n",
        "def removezeros(X):\n",
        "   X_nozeros = X.loc[:, (X != 0).any(axis=0)]\n",
        "   return X_nozeros\n",
        "\n",
        "X_train_df = removezeros(X_train)\n",
        "X_test_df = removezeros(X_test)\n",
        "print(f'The number of samples: {len(X_train_df.index)}')\n",
        "print(f'The number of columns: {len(X_train_df.columns)}')\n",
        "X_train = X_train_df.values\n",
        "X_test = X_test_df.values\n",
        "\n",
        "x_nan = np.isnan(X_train)\n",
        "print(f'The number of found NaN is: {np.sum(x_nan)}')\n",
        "#x_zero = np.where(X_train == 0)[0]\n",
        "#print(f'The number of found zeros is: {len(x_zero)}')\n",
        "\n",
        "y_train_bin = preprocessing.label_binarize(y_train,['AD','CN'])\n",
        "y_train_bin = [i[0] for i in y_train_bin]\n",
        "y_test_bin = preprocessing.label_binarize(y_test,['AD','CN'])\n",
        "y_test_bin = [i[0] for i in y_test_bin]\n",
        "#print(y_train_bin)"
      ],
      "execution_count": 128,
      "outputs": [
        {
          "output_type": "stream",
          "text": [
            "                     hf_energy  ...  vf_Frangi_inner_std_SR(1.0, 10.0)_SS2.0\n",
            "ID                              ...                                         \n",
            "0_002_S_0413_bl_0  5403.229408  ...                             4.207831e-10\n",
            "0_002_S_0559_bl_0   922.459760  ...                             3.137258e-10\n",
            "0_002_S_0619_bl_0  1674.765276  ...                             4.219847e-10\n",
            "0_002_S_0685_bl_0  3443.797200  ...                             5.954654e-11\n",
            "0_002_S_0816_bl_0   914.469846  ...                             4.174750e-10\n",
            "\n",
            "[5 rows x 268 columns]\n",
            "The number of samples: 855\n",
            "The number of columns: 268\n",
            "The number of features: 267\n",
            "The number of samples: 684\n",
            "The number of columns: 263\n",
            "The number of found NaN is: 0\n"
          ],
          "name": "stdout"
        }
      ]
    },
    {
      "cell_type": "markdown",
      "metadata": {
        "id": "gwTNunQvVPEp",
        "colab_type": "text"
      },
      "source": [
        "# Feature scaling and selection\n"
      ]
    },
    {
      "cell_type": "code",
      "metadata": {
        "id": "iUayp0qrWIuY",
        "colab_type": "code",
        "outputId": "6720f18d-8c01-43b1-c0ea-8a35bb418d8d",
        "colab": {
          "base_uri": "https://localhost:8080/",
          "height": 366
        }
      },
      "source": [
        "# Scaling of features\n",
        "scaler = preprocessing.StandardScaler()\n",
        "scaler.fit(X_train)\n",
        "X_train_scaled = scaler.transform(X_train)\n",
        "X_test_scaled = scaler.transform(X_test)\n",
        "\n",
        "# Feature selection - L1 method\n",
        "selector = SelectFromModel(estimator=Lasso(alpha=10**(-10), random_state=42), threshold='median')\n",
        "selector.fit(X_train_scaled, y_train_bin)\n",
        "n_original = X_train_scaled.shape[1]\n",
        "X_train_test = selector.transform(X_train_scaled)\n",
        "n_selected = X_train_test.shape[1]\n",
        "print(f\"Selected {n_selected} from {n_original} features.\")\n",
        "\n",
        "# PCA\n",
        "pca = PCA().fit(X_train_scaled)\n",
        "plt.plot(np.cumsum(pca.explained_variance_ratio_))\n",
        "plt.xlabel('number of components')\n",
        "plt.ylabel('cumulative explained variance');\n",
        "\n",
        "pca = PCA(n_components=132)\n",
        "pca = pca.fit(X_train_scaled)\n",
        "X_train = pca.transform(X_train_scaled)\n",
        "X_test = pca.transform(X_test_scaled)\n",
        "\n",
        "\n",
        "\n",
        "\"\"\"\n",
        "# Create the RFE object and compute a cross-validated score.\n",
        "svc = SVC(kernel=\"linear\")\n",
        "# The \"accuracy\" scoring is proportional to the number of correct\n",
        "# classifications\n",
        "rfecv = RFECV(estimator=svc, step=1, cv=StratifiedKFold(2),\n",
        "              scoring='roc_auc')\n",
        "select = rfecv.fit(X_train_scaled, y_train)\n",
        "\n",
        "# Plot number of features VS. cross-validation scores\n",
        "plt.figure()\n",
        "plt.xlabel(\"Number of features selected\")\n",
        "plt.ylabel(\"Cross validation score (nb of correct classifications)\")\n",
        "plt.plot(range(1, len(rfecv.grid_scores_) + 1), rfecv.grid_scores_)\n",
        "plt.show()\n",
        "\n",
        "print(\"Optimal number of features : %d\" % rfecv.n_features_)\n",
        "\"\"\""
      ],
      "execution_count": 129,
      "outputs": [
        {
          "output_type": "stream",
          "text": [
            "Selected 132 from 263 features.\n"
          ],
          "name": "stdout"
        },
        {
          "output_type": "stream",
          "text": [
            "/usr/local/lib/python3.6/dist-packages/sklearn/linear_model/_coordinate_descent.py:476: ConvergenceWarning: Objective did not converge. You might want to increase the number of iterations. Duality gap: 26.752671421331126, tolerance: 0.016363011695906433\n",
            "  positive)\n"
          ],
          "name": "stderr"
        },
        {
          "output_type": "execute_result",
          "data": {
            "text/plain": [
              "'\\n# Create the RFE object and compute a cross-validated score.\\nsvc = SVC(kernel=\"linear\")\\n# The \"accuracy\" scoring is proportional to the number of correct\\n# classifications\\nrfecv = RFECV(estimator=svc, step=1, cv=StratifiedKFold(2),\\n              scoring=\\'roc_auc\\')\\nselect = rfecv.fit(X_train_scaled, y_train)\\n\\n# Plot number of features VS. cross-validation scores\\nplt.figure()\\nplt.xlabel(\"Number of features selected\")\\nplt.ylabel(\"Cross validation score (nb of correct classifications)\")\\nplt.plot(range(1, len(rfecv.grid_scores_) + 1), rfecv.grid_scores_)\\nplt.show()\\n\\nprint(\"Optimal number of features : %d\" % rfecv.n_features_)\\n'"
            ]
          },
          "metadata": {
            "tags": []
          },
          "execution_count": 129
        },
        {
          "output_type": "display_data",
          "data": {
            "image/png": "[encoded data removed]",
            "text/plain": [
              "<Figure size 432x288 with 1 Axes>"
            ]
          },
          "metadata": {
            "tags": []
          }
        }
      ]
    },
    {
      "cell_type": "code",
      "metadata": {
        "id": "z9EzZYBrqjX8",
        "colab_type": "code",
        "colab": {}
      },
      "source": [
        ""
      ],
      "execution_count": 0,
      "outputs": []
    },
    {
      "cell_type": "code",
      "metadata": {
        "id": "HNz47vkCHQGH",
        "colab_type": "code",
        "outputId": "af45b7e6-1830-4665-b95b-4fe9df3e8f22",
        "colab": {
          "base_uri": "https://localhost:8080/",
          "height": 34
        }
      },
      "source": [
        "\"\"\"\n",
        "# Get new X_train with only important features \n",
        "features = X_train_df * select.support_\n",
        "x_train_df = removezeros(features)\n",
        "x_train = x_train_df.values\n",
        "\"\"\""
      ],
      "execution_count": 130,
      "outputs": [
        {
          "output_type": "execute_result",
          "data": {
            "text/plain": [
              "'\\n# Get new X_train with only important features \\nfeatures = X_train_df * select.support_\\nx_train_df = removezeros(features)\\nx_train = x_train_df.values\\n'"
            ]
          },
          "metadata": {
            "tags": []
          },
          "execution_count": 130
        }
      ]
    },
    {
      "cell_type": "code",
      "metadata": {
        "id": "CwqLx_t_R-d0",
        "colab_type": "code",
        "outputId": "3dd3aaa4-5bfc-48cd-86cf-d848211d037e",
        "colab": {
          "base_uri": "https://localhost:8080/",
          "height": 1000
        }
      },
      "source": [
        "\n",
        "# Train Classifier  \n",
        "# defining parameter range \n",
        "param_grid = {'C': loguniform(1e0, 1e3), \n",
        "              'gamma': loguniform(1e-4, 1e0), \n",
        "              'kernel': ['rbf','poly', 'linear']}  \n",
        "  \n",
        "grid = RandomizedSearchCV(SVC(probability=True), param_grid, n_iter=10, refit = True, verbose = 3, random_state=42) \n",
        "  \n",
        "# fitting the model for grid search \n",
        "grid.fit(X_train, y_train)\n",
        "\n",
        "print(\"The best classifier is: \", grid.best_estimator_)\n",
        "\n"
      ],
      "execution_count": 131,
      "outputs": [
        {
          "output_type": "stream",
          "text": [
            "Fitting 5 folds for each of 10 candidates, totalling 50 fits\n",
            "[CV] C=13.292918943162162, gamma=0.6351221010640693, kernel=linear ...\n"
          ],
          "name": "stdout"
        },
        {
          "output_type": "stream",
          "text": [
            "[Parallel(n_jobs=1)]: Using backend SequentialBackend with 1 concurrent workers.\n"
          ],
          "name": "stderr"
        },
        {
          "output_type": "stream",
          "text": [
            "[CV]  C=13.292918943162162, gamma=0.6351221010640693, kernel=linear, score=0.752, total=   2.8s\n",
            "[CV] C=13.292918943162162, gamma=0.6351221010640693, kernel=linear ...\n"
          ],
          "name": "stdout"
        },
        {
          "output_type": "stream",
          "text": [
            "[Parallel(n_jobs=1)]: Done   1 out of   1 | elapsed:    2.8s remaining:    0.0s\n"
          ],
          "name": "stderr"
        },
        {
          "output_type": "stream",
          "text": [
            "[CV]  C=13.292918943162162, gamma=0.6351221010640693, kernel=linear, score=0.679, total=   5.7s\n",
            "[CV] C=13.292918943162162, gamma=0.6351221010640693, kernel=linear ...\n"
          ],
          "name": "stdout"
        },
        {
          "output_type": "stream",
          "text": [
            "[Parallel(n_jobs=1)]: Done   2 out of   2 | elapsed:    8.6s remaining:    0.0s\n"
          ],
          "name": "stderr"
        },
        {
          "output_type": "stream",
          "text": [
            "[CV]  C=13.292918943162162, gamma=0.6351221010640693, kernel=linear, score=0.847, total=  17.3s\n",
            "[CV] C=13.292918943162162, gamma=0.6351221010640693, kernel=linear ...\n",
            "[CV]  C=13.292918943162162, gamma=0.6351221010640693, kernel=linear, score=0.737, total=   4.2s\n",
            "[CV] C=13.292918943162162, gamma=0.6351221010640693, kernel=linear ...\n",
            "[CV]  C=13.292918943162162, gamma=0.6351221010640693, kernel=linear, score=0.794, total=   6.9s\n",
            "[CV] C=218.3096839052459, gamma=0.02440060709081752, kernel=poly .....\n",
            "[CV]  C=218.3096839052459, gamma=0.02440060709081752, kernel=poly, score=0.774, total=   0.3s\n",
            "[CV] C=218.3096839052459, gamma=0.02440060709081752, kernel=poly .....\n",
            "[CV]  C=218.3096839052459, gamma=0.02440060709081752, kernel=poly, score=0.752, total=   0.3s\n",
            "[CV] C=218.3096839052459, gamma=0.02440060709081752, kernel=poly .....\n",
            "[CV]  C=218.3096839052459, gamma=0.02440060709081752, kernel=poly, score=0.781, total=   0.3s\n",
            "[CV] C=218.3096839052459, gamma=0.02440060709081752, kernel=poly .....\n",
            "[CV]  C=218.3096839052459, gamma=0.02440060709081752, kernel=poly, score=0.752, total=   0.3s\n",
            "[CV] C=218.3096839052459, gamma=0.02440060709081752, kernel=poly .....\n",
            "[CV]  C=218.3096839052459, gamma=0.02440060709081752, kernel=poly, score=0.809, total=   0.3s\n",
            "[CV] C=2.9375384576328285, gamma=0.00017073967431528118, kernel=rbf ..\n",
            "[CV]  C=2.9375384576328285, gamma=0.00017073967431528118, kernel=rbf, score=0.737, total=   0.2s\n",
            "[CV] C=2.9375384576328285, gamma=0.00017073967431528118, kernel=rbf ..\n",
            "[CV]  C=2.9375384576328285, gamma=0.00017073967431528118, kernel=rbf, score=0.818, total=   0.2s\n",
            "[CV] C=2.9375384576328285, gamma=0.00017073967431528118, kernel=rbf ..\n",
            "[CV]  C=2.9375384576328285, gamma=0.00017073967431528118, kernel=rbf, score=0.832, total=   0.2s\n",
            "[CV] C=2.9375384576328285, gamma=0.00017073967431528118, kernel=rbf ..\n",
            "[CV]  C=2.9375384576328285, gamma=0.00017073967431528118, kernel=rbf, score=0.752, total=   0.2s\n",
            "[CV] C=2.9375384576328285, gamma=0.00017073967431528118, kernel=rbf ..\n",
            "[CV]  C=2.9375384576328285, gamma=0.00017073967431528118, kernel=rbf, score=0.824, total=   0.2s\n",
            "[CV] C=63.5835885667625, gamma=0.06796578090758153, kernel=poly ......\n",
            "[CV]  C=63.5835885667625, gamma=0.06796578090758153, kernel=poly, score=0.774, total=   0.3s\n",
            "[CV] C=63.5835885667625, gamma=0.06796578090758153, kernel=poly ......\n",
            "[CV]  C=63.5835885667625, gamma=0.06796578090758153, kernel=poly, score=0.752, total=   0.3s\n",
            "[CV] C=63.5835885667625, gamma=0.06796578090758153, kernel=poly ......\n",
            "[CV]  C=63.5835885667625, gamma=0.06796578090758153, kernel=poly, score=0.781, total=   0.3s\n",
            "[CV] C=63.5835885667625, gamma=0.06796578090758153, kernel=poly ......\n",
            "[CV]  C=63.5835885667625, gamma=0.06796578090758153, kernel=poly, score=0.752, total=   0.3s\n",
            "[CV] C=63.5835885667625, gamma=0.06796578090758153, kernel=poly ......\n",
            "[CV]  C=63.5835885667625, gamma=0.06796578090758153, kernel=poly, score=0.809, total=   0.3s\n",
            "[CV] C=1.4765043713594344, gamma=0.07726718477963428, kernel=poly ....\n",
            "[CV]  C=1.4765043713594344, gamma=0.07726718477963428, kernel=poly, score=0.774, total=   0.3s\n",
            "[CV] C=1.4765043713594344, gamma=0.07726718477963428, kernel=poly ....\n",
            "[CV]  C=1.4765043713594344, gamma=0.07726718477963428, kernel=poly, score=0.752, total=   0.3s\n",
            "[CV] C=1.4765043713594344, gamma=0.07726718477963428, kernel=poly ....\n",
            "[CV]  C=1.4765043713594344, gamma=0.07726718477963428, kernel=poly, score=0.781, total=   0.3s\n",
            "[CV] C=1.4765043713594344, gamma=0.07726718477963428, kernel=poly ....\n",
            "[CV]  C=1.4765043713594344, gamma=0.07726718477963428, kernel=poly, score=0.752, total=   0.3s\n",
            "[CV] C=1.4765043713594344, gamma=0.07726718477963428, kernel=poly ....\n",
            "[CV]  C=1.4765043713594344, gamma=0.07726718477963428, kernel=poly, score=0.809, total=   0.3s\n",
            "[CV] C=4.335281794951563, gamma=0.0005337032762603955, kernel=rbf ....\n",
            "[CV]  C=4.335281794951563, gamma=0.0005337032762603955, kernel=rbf, score=0.774, total=   0.2s\n",
            "[CV] C=4.335281794951563, gamma=0.0005337032762603955, kernel=rbf ....\n",
            "[CV]  C=4.335281794951563, gamma=0.0005337032762603955, kernel=rbf, score=0.825, total=   0.2s\n",
            "[CV] C=4.335281794951563, gamma=0.0005337032762603955, kernel=rbf ....\n",
            "[CV]  C=4.335281794951563, gamma=0.0005337032762603955, kernel=rbf, score=0.847, total=   0.2s\n",
            "[CV] C=4.335281794951563, gamma=0.0005337032762603955, kernel=rbf ....\n",
            "[CV]  C=4.335281794951563, gamma=0.0005337032762603955, kernel=rbf, score=0.723, total=   0.2s\n",
            "[CV] C=4.335281794951563, gamma=0.0005337032762603955, kernel=rbf ....\n",
            "[CV]  C=4.335281794951563, gamma=0.0005337032762603955, kernel=rbf, score=0.853, total=   0.2s\n",
            "[CV] C=71.19418600172988, gamma=0.02796485951606244, kernel=rbf ......\n",
            "[CV]  C=71.19418600172988, gamma=0.02796485951606244, kernel=rbf, score=0.606, total=   0.4s\n",
            "[CV] C=71.19418600172988, gamma=0.02796485951606244, kernel=rbf ......\n",
            "[CV]  C=71.19418600172988, gamma=0.02796485951606244, kernel=rbf, score=0.606, total=   0.4s\n",
            "[CV] C=71.19418600172988, gamma=0.02796485951606244, kernel=rbf ......\n",
            "[CV]  C=71.19418600172988, gamma=0.02796485951606244, kernel=rbf, score=0.613, total=   0.4s\n",
            "[CV] C=71.19418600172988, gamma=0.02796485951606244, kernel=rbf ......\n",
            "[CV]  C=71.19418600172988, gamma=0.02796485951606244, kernel=rbf, score=0.599, total=   0.4s\n",
            "[CV] C=71.19418600172988, gamma=0.02796485951606244, kernel=rbf ......\n",
            "[CV]  C=71.19418600172988, gamma=0.02796485951606244, kernel=rbf, score=0.603, total=   0.4s\n",
            "[CV] C=19.762189340280067, gamma=0.0014618962793704956, kernel=linear \n",
            "[CV]  C=19.762189340280067, gamma=0.0014618962793704956, kernel=linear, score=0.752, total=   4.3s\n",
            "[CV] C=19.762189340280067, gamma=0.0014618962793704956, kernel=linear \n",
            "[CV]  C=19.762189340280067, gamma=0.0014618962793704956, kernel=linear, score=0.701, total=   8.3s\n",
            "[CV] C=19.762189340280067, gamma=0.0014618962793704956, kernel=linear \n",
            "[CV]  C=19.762189340280067, gamma=0.0014618962793704956, kernel=linear, score=0.847, total=  19.2s\n",
            "[CV] C=19.762189340280067, gamma=0.0014618962793704956, kernel=linear \n",
            "[CV]  C=19.762189340280067, gamma=0.0014618962793704956, kernel=linear, score=0.745, total=   9.2s\n",
            "[CV] C=19.762189340280067, gamma=0.0014618962793704956, kernel=linear \n",
            "[CV]  C=19.762189340280067, gamma=0.0014618962793704956, kernel=linear, score=0.794, total=  10.8s\n",
            "[CV] C=15.833718339012057, gamma=0.00015369603110608834, kernel=linear \n",
            "[CV]  C=15.833718339012057, gamma=0.00015369603110608834, kernel=linear, score=0.752, total=   4.9s\n",
            "[CV] C=15.833718339012057, gamma=0.00015369603110608834, kernel=linear \n",
            "[CV]  C=15.833718339012057, gamma=0.00015369603110608834, kernel=linear, score=0.686, total=   4.4s\n",
            "[CV] C=15.833718339012057, gamma=0.00015369603110608834, kernel=linear \n",
            "[CV]  C=15.833718339012057, gamma=0.00015369603110608834, kernel=linear, score=0.847, total=   9.6s\n",
            "[CV] C=15.833718339012057, gamma=0.00015369603110608834, kernel=linear \n",
            "[CV]  C=15.833718339012057, gamma=0.00015369603110608834, kernel=linear, score=0.745, total=   4.8s\n",
            "[CV] C=15.833718339012057, gamma=0.00015369603110608834, kernel=linear \n",
            "[CV]  C=15.833718339012057, gamma=0.00015369603110608834, kernel=linear, score=0.794, total=  14.9s\n",
            "[CV] C=23.34586407601623, gamma=0.13826232179369854, kernel=linear ...\n",
            "[CV]  C=23.34586407601623, gamma=0.13826232179369854, kernel=linear, score=0.752, total=   5.7s\n",
            "[CV] C=23.34586407601623, gamma=0.13826232179369854, kernel=linear ...\n",
            "[CV]  C=23.34586407601623, gamma=0.13826232179369854, kernel=linear, score=0.693, total=  11.6s\n",
            "[CV] C=23.34586407601623, gamma=0.13826232179369854, kernel=linear ...\n",
            "[CV]  C=23.34586407601623, gamma=0.13826232179369854, kernel=linear, score=0.839, total=  17.3s\n",
            "[CV] C=23.34586407601623, gamma=0.13826232179369854, kernel=linear ...\n",
            "[CV]  C=23.34586407601623, gamma=0.13826232179369854, kernel=linear, score=0.745, total=  14.8s\n",
            "[CV] C=23.34586407601623, gamma=0.13826232179369854, kernel=linear ...\n",
            "[CV]  C=23.34586407601623, gamma=0.13826232179369854, kernel=linear, score=0.794, total=  21.5s\n"
          ],
          "name": "stdout"
        },
        {
          "output_type": "stream",
          "text": [
            "[Parallel(n_jobs=1)]: Done  50 out of  50 | elapsed:  3.4min finished\n"
          ],
          "name": "stderr"
        },
        {
          "output_type": "stream",
          "text": [
            "The best classifier is:  SVC(C=4.335281794951563, break_ties=False, cache_size=200, class_weight=None,\n",
            "    coef0=0.0, decision_function_shape='ovr', degree=3,\n",
            "    gamma=0.0005337032762603955, kernel='rbf', max_iter=-1, probability=True,\n",
            "    random_state=None, shrinking=True, tol=0.001, verbose=False)\n"
          ],
          "name": "stdout"
        }
      ]
    },
    {
      "cell_type": "code",
      "metadata": {
        "id": "C7ghflhYlTBC",
        "colab_type": "code",
        "colab": {
          "base_uri": "https://localhost:8080/",
          "height": 573
        },
        "outputId": "727d3585-915c-47da-bf7c-e4d8a79d3aeb"
      },
      "source": [
        "\n",
        "from sklearn.metrics import roc_curve, auc\n",
        "from scipy import interp\n",
        "from sklearn.metrics import roc_auc_score\n",
        "from sklearn.preprocessing import label_binarize\n",
        "score_train = grid.best_estimator_.predict_proba(X_train)\n",
        "score_test = grid.best_estimator_.predict_proba(X_test)\n",
        "plot_roc_curve(score_train, y_train_bin)\n",
        "plot_roc_curve(score_test, y_test_bin)\n"
      ],
      "execution_count": 132,
      "outputs": [
        {
          "output_type": "display_data",
          "data": {
            "image/png": "[encoded data removed]",
            "text/plain": [
              "<Figure size 432x288 with 1 Axes>"
            ]
          },
          "metadata": {
            "tags": []
          }
        },
        {
          "output_type": "display_data",
          "data": {
            "image/png": "[encoded data removed]",
            "text/plain": [
              "<Figure size 432x288 with 1 Axes>"
            ]
          },
          "metadata": {
            "tags": []
          }
        }
      ]
    },
    {
      "cell_type": "code",
      "metadata": {
        "id": "rq87at2Nqlsp",
        "colab_type": "code",
        "colab": {
          "base_uri": "https://localhost:8080/",
          "height": 1000
        },
        "outputId": "ea0e013e-2b09-4872-815d-d9a1204491ad"
      },
      "source": [
        "# kNN\n",
        "from scipy.stats import randint\n",
        "from sklearn.model_selection import GridSearchCV\n",
        "kNN_parameters = {'n_neighbors': list(range(1,101)), \n",
        "                   'weights':  ['uniform', 'distance'],\n",
        "                   'metric': ['euclidean', 'manhattan']}\n",
        "\n",
        "grid = RandomizedSearchCV(KNeighborsClassifier(), kNN_parameters, refit = True, n_iter=10, random_state=42, verbose = 3)  \n",
        "# fitting the model for grid search \n",
        "grid.fit(X_train, y_train)\n",
        "\n",
        "print(\"The best classifier is: \", grid.best_estimator_)\n",
        "\n",
        "score_train = grid.best_estimator_.predict_proba(X_train)\n",
        "score_test = grid.best_estimator_.predict_proba(X_test)\n",
        "plot_roc_curve(score_train, y_train_bin)\n",
        "plot_roc_curve(score_test, y_test_bin)\n"
      ],
      "execution_count": 133,
      "outputs": [
        {
          "output_type": "stream",
          "text": [
            "Fitting 5 folds for each of 10 candidates, totalling 50 fits\n",
            "[CV] weights=distance, n_neighbors=5, metric=manhattan ...............\n",
            "[CV]  weights=distance, n_neighbors=5, metric=manhattan, score=0.701, total=   0.0s\n",
            "[CV] weights=distance, n_neighbors=5, metric=manhattan ...............\n",
            "[CV]  weights=distance, n_neighbors=5, metric=manhattan, score=0.766, total=   0.0s\n",
            "[CV] weights=distance, n_neighbors=5, metric=manhattan ...............\n",
            "[CV]  weights=distance, n_neighbors=5, metric=manhattan, score=0.745, total=   0.0s\n",
            "[CV] weights=distance, n_neighbors=5, metric=manhattan ...............\n",
            "[CV]  weights=distance, n_neighbors=5, metric=manhattan, score=0.723, total=   0.0s\n",
            "[CV] weights=distance, n_neighbors=5, metric=manhattan ...............\n",
            "[CV]  weights=distance, n_neighbors=5, metric=manhattan, score=0.750, total=   0.0s\n",
            "[CV] weights=uniform, n_neighbors=41, metric=manhattan ...............\n",
            "[CV]  weights=uniform, n_neighbors=41, metric=manhattan, score=0.737, total=   0.0s\n",
            "[CV] weights=uniform, n_neighbors=41, metric=manhattan ...............\n"
          ],
          "name": "stdout"
        },
        {
          "output_type": "stream",
          "text": [
            "[Parallel(n_jobs=1)]: Using backend SequentialBackend with 1 concurrent workers.\n",
            "[Parallel(n_jobs=1)]: Done   1 out of   1 | elapsed:    0.0s remaining:    0.0s\n",
            "[Parallel(n_jobs=1)]: Done   2 out of   2 | elapsed:    0.1s remaining:    0.0s\n"
          ],
          "name": "stderr"
        },
        {
          "output_type": "stream",
          "text": [
            "[CV]  weights=uniform, n_neighbors=41, metric=manhattan, score=0.759, total=   0.0s\n",
            "[CV] weights=uniform, n_neighbors=41, metric=manhattan ...............\n",
            "[CV]  weights=uniform, n_neighbors=41, metric=manhattan, score=0.796, total=   0.0s\n",
            "[CV] weights=uniform, n_neighbors=41, metric=manhattan ...............\n",
            "[CV]  weights=uniform, n_neighbors=41, metric=manhattan, score=0.766, total=   0.0s\n",
            "[CV] weights=uniform, n_neighbors=41, metric=manhattan ...............\n",
            "[CV]  weights=uniform, n_neighbors=41, metric=manhattan, score=0.779, total=   0.0s\n",
            "[CV] weights=distance, n_neighbors=17, metric=euclidean ..............\n",
            "[CV]  weights=distance, n_neighbors=17, metric=euclidean, score=0.774, total=   0.0s\n",
            "[CV] weights=distance, n_neighbors=17, metric=euclidean ..............\n",
            "[CV]  weights=distance, n_neighbors=17, metric=euclidean, score=0.788, total=   0.0s\n",
            "[CV] weights=distance, n_neighbors=17, metric=euclidean ..............\n",
            "[CV]  weights=distance, n_neighbors=17, metric=euclidean, score=0.796, total=   0.0s\n",
            "[CV] weights=distance, n_neighbors=17, metric=euclidean ..............\n",
            "[CV]  weights=distance, n_neighbors=17, metric=euclidean, score=0.723, total=   0.0s\n",
            "[CV] weights=distance, n_neighbors=17, metric=euclidean ..............\n",
            "[CV]  weights=distance, n_neighbors=17, metric=euclidean, score=0.809, total=   0.0s\n",
            "[CV] weights=uniform, n_neighbors=6, metric=manhattan ................\n",
            "[CV]  weights=uniform, n_neighbors=6, metric=manhattan, score=0.686, total=   0.0s\n",
            "[CV] weights=uniform, n_neighbors=6, metric=manhattan ................\n",
            "[CV]  weights=uniform, n_neighbors=6, metric=manhattan, score=0.752, total=   0.0s\n",
            "[CV] weights=uniform, n_neighbors=6, metric=manhattan ................\n",
            "[CV]  weights=uniform, n_neighbors=6, metric=manhattan, score=0.774, total=   0.0s\n",
            "[CV] weights=uniform, n_neighbors=6, metric=manhattan ................\n",
            "[CV]  weights=uniform, n_neighbors=6, metric=manhattan, score=0.708, total=   0.0s\n",
            "[CV] weights=uniform, n_neighbors=6, metric=manhattan ................\n",
            "[CV]  weights=uniform, n_neighbors=6, metric=manhattan, score=0.765, total=   0.0s\n",
            "[CV] weights=distance, n_neighbors=47, metric=euclidean ..............\n",
            "[CV]  weights=distance, n_neighbors=47, metric=euclidean, score=0.737, total=   0.0s\n",
            "[CV] weights=distance, n_neighbors=47, metric=euclidean ..............\n",
            "[CV]  weights=distance, n_neighbors=47, metric=euclidean, score=0.766, total=   0.0s\n",
            "[CV] weights=distance, n_neighbors=47, metric=euclidean ..............\n",
            "[CV]  weights=distance, n_neighbors=47, metric=euclidean, score=0.781, total=   0.0s\n",
            "[CV] weights=distance, n_neighbors=47, metric=euclidean ..............\n",
            "[CV]  weights=distance, n_neighbors=47, metric=euclidean, score=0.737, total=   0.0s\n",
            "[CV] weights=distance, n_neighbors=47, metric=euclidean ..............\n",
            "[CV]  weights=distance, n_neighbors=47, metric=euclidean, score=0.809, total=   0.0s\n",
            "[CV] weights=uniform, n_neighbors=43, metric=euclidean ...............\n",
            "[CV]  weights=uniform, n_neighbors=43, metric=euclidean, score=0.737, total=   0.0s\n",
            "[CV] weights=uniform, n_neighbors=43, metric=euclidean ...............\n",
            "[CV]  weights=uniform, n_neighbors=43, metric=euclidean, score=0.774, total=   0.0s\n",
            "[CV] weights=uniform, n_neighbors=43, metric=euclidean ...............\n",
            "[CV]  weights=uniform, n_neighbors=43, metric=euclidean, score=0.781, total=   0.0s\n",
            "[CV] weights=uniform, n_neighbors=43, metric=euclidean ...............\n",
            "[CV]  weights=uniform, n_neighbors=43, metric=euclidean, score=0.737, total=   0.0s\n",
            "[CV] weights=uniform, n_neighbors=43, metric=euclidean ...............\n",
            "[CV]  weights=uniform, n_neighbors=43, metric=euclidean, score=0.809, total=   0.0s\n",
            "[CV] weights=distance, n_neighbors=65, metric=manhattan ..............\n",
            "[CV]  weights=distance, n_neighbors=65, metric=manhattan, score=0.723, total=   0.0s\n",
            "[CV] weights=distance, n_neighbors=65, metric=manhattan ..............\n",
            "[CV]  weights=distance, n_neighbors=65, metric=manhattan, score=0.730, total=   0.0s\n",
            "[CV] weights=distance, n_neighbors=65, metric=manhattan ..............\n",
            "[CV]  weights=distance, n_neighbors=65, metric=manhattan, score=0.774, total=   0.0s\n",
            "[CV] weights=distance, n_neighbors=65, metric=manhattan ..............\n",
            "[CV]  weights=distance, n_neighbors=65, metric=manhattan, score=0.745, total=   0.0s\n",
            "[CV] weights=distance, n_neighbors=65, metric=manhattan ..............\n",
            "[CV]  weights=distance, n_neighbors=65, metric=manhattan, score=0.765, total=   0.0s\n",
            "[CV] weights=uniform, n_neighbors=48, metric=euclidean ...............\n",
            "[CV]  weights=uniform, n_neighbors=48, metric=euclidean, score=0.737, total=   0.0s\n",
            "[CV] weights=uniform, n_neighbors=48, metric=euclidean ...............\n",
            "[CV]  weights=uniform, n_neighbors=48, metric=euclidean, score=0.752, total=   0.0s\n",
            "[CV] weights=uniform, n_neighbors=48, metric=euclidean ...............\n",
            "[CV]  weights=uniform, n_neighbors=48, metric=euclidean, score=0.781, total=   0.0s\n",
            "[CV] weights=uniform, n_neighbors=48, metric=euclidean ...............\n",
            "[CV]  weights=uniform, n_neighbors=48, metric=euclidean, score=0.723, total=   0.0s\n",
            "[CV] weights=uniform, n_neighbors=48, metric=euclidean ...............\n",
            "[CV]  weights=uniform, n_neighbors=48, metric=euclidean, score=0.809, total=   0.0s\n",
            "[CV] weights=uniform, n_neighbors=34, metric=manhattan ...............\n",
            "[CV]  weights=uniform, n_neighbors=34, metric=manhattan, score=0.730, total=   0.0s\n",
            "[CV] weights=uniform, n_neighbors=34, metric=manhattan ...............\n",
            "[CV]  weights=uniform, n_neighbors=34, metric=manhattan, score=0.745, total=   0.0s\n",
            "[CV] weights=uniform, n_neighbors=34, metric=manhattan ...............\n",
            "[CV]  weights=uniform, n_neighbors=34, metric=manhattan, score=0.781, total=   0.0s\n",
            "[CV] weights=uniform, n_neighbors=34, metric=manhattan ...............\n",
            "[CV]  weights=uniform, n_neighbors=34, metric=manhattan, score=0.730, total=   0.0s\n",
            "[CV] weights=uniform, n_neighbors=34, metric=manhattan ...............\n",
            "[CV]  weights=uniform, n_neighbors=34, metric=manhattan, score=0.765, total=   0.0s\n",
            "[CV] weights=uniform, n_neighbors=64, metric=euclidean ...............\n",
            "[CV]  weights=uniform, n_neighbors=64, metric=euclidean, score=0.752, total=   0.0s\n",
            "[CV] weights=uniform, n_neighbors=64, metric=euclidean ...............\n",
            "[CV]  weights=uniform, n_neighbors=64, metric=euclidean, score=0.766, total=   0.0s\n",
            "[CV] weights=uniform, n_neighbors=64, metric=euclidean ...............\n",
            "[CV]  weights=uniform, n_neighbors=64, metric=euclidean, score=0.781, total=   0.0s\n",
            "[CV] weights=uniform, n_neighbors=64, metric=euclidean ...............\n",
            "[CV]  weights=uniform, n_neighbors=64, metric=euclidean, score=0.737, total=   0.0s\n",
            "[CV] weights=uniform, n_neighbors=64, metric=euclidean ...............\n",
            "[CV]  weights=uniform, n_neighbors=64, metric=euclidean, score=0.787, total=   0.0s\n",
            "The best classifier is:  KNeighborsClassifier(algorithm='auto', leaf_size=30, metric='euclidean',\n",
            "                     metric_params=None, n_jobs=None, n_neighbors=17, p=2,\n",
            "                     weights='distance')\n"
          ],
          "name": "stdout"
        },
        {
          "output_type": "stream",
          "text": [
            "[Parallel(n_jobs=1)]: Done  50 out of  50 | elapsed:    1.7s finished\n"
          ],
          "name": "stderr"
        },
        {
          "output_type": "display_data",
          "data": {
            "image/png": "[encoded data removed]",
            "text/plain": [
              "<Figure size 432x288 with 1 Axes>"
            ]
          },
          "metadata": {
            "tags": []
          }
        },
        {
          "output_type": "display_data",
          "data": {
            "image/png": "[encoded data removed]",
            "text/plain": [
              "<Figure size 432x288 with 1 Axes>"
            ]
          },
          "metadata": {
            "tags": []
          }
        }
      ]
    },
    {
      "cell_type": "code",
      "metadata": {
        "id": "fVwJ1LmWI15D",
        "colab_type": "code",
        "colab": {
          "base_uri": "https://localhost:8080/",
          "height": 1000
        },
        "outputId": "ffb08c9a-41d8-4ed9-989f-1144367d6261"
      },
      "source": [
        "# Random forest\n",
        "forest_parameters = {'n_estimators': list(range(50,301)), \n",
        "                   'criterion':  ['gini', 'entropy'],\n",
        "                   'max_depth': [4, 5, 6, 7, 8, 9, 10],\n",
        "                   'max_features': ['auto','sqrt','log2']}\n",
        "\n",
        "grid = RandomizedSearchCV(RandomForestClassifier(), forest_parameters, refit = True, n_iter=10, random_state=42, verbose = 3)  \n",
        "# fitting the model for grid search \n",
        "grid.fit(X_train, y_train)\n",
        "\n",
        "print(\"The best classifier is: \", grid.best_estimator_)\n",
        "\n",
        "score_train = grid.best_estimator_.predict_proba(X_train)\n",
        "score_test = grid.best_estimator_.predict_proba(X_test)\n",
        "plot_roc_curve(score_train, y_train_bin)\n",
        "plot_roc_curve(score_test, y_test_bin)"
      ],
      "execution_count": 134,
      "outputs": [
        {
          "output_type": "stream",
          "text": [
            "Fitting 5 folds for each of 10 candidates, totalling 50 fits\n",
            "[CV] n_estimators=292, max_features=sqrt, max_depth=6, criterion=entropy \n"
          ],
          "name": "stdout"
        },
        {
          "output_type": "stream",
          "text": [
            "[Parallel(n_jobs=1)]: Using backend SequentialBackend with 1 concurrent workers.\n"
          ],
          "name": "stderr"
        },
        {
          "output_type": "stream",
          "text": [
            "[CV]  n_estimators=292, max_features=sqrt, max_depth=6, criterion=entropy, score=0.730, total=   1.7s\n",
            "[CV] n_estimators=292, max_features=sqrt, max_depth=6, criterion=entropy \n"
          ],
          "name": "stdout"
        },
        {
          "output_type": "stream",
          "text": [
            "[Parallel(n_jobs=1)]: Done   1 out of   1 | elapsed:    1.7s remaining:    0.0s\n"
          ],
          "name": "stderr"
        },
        {
          "output_type": "stream",
          "text": [
            "[CV]  n_estimators=292, max_features=sqrt, max_depth=6, criterion=entropy, score=0.737, total=   1.7s\n",
            "[CV] n_estimators=292, max_features=sqrt, max_depth=6, criterion=entropy \n"
          ],
          "name": "stdout"
        },
        {
          "output_type": "stream",
          "text": [
            "[Parallel(n_jobs=1)]: Done   2 out of   2 | elapsed:    3.5s remaining:    0.0s\n"
          ],
          "name": "stderr"
        },
        {
          "output_type": "stream",
          "text": [
            "[CV]  n_estimators=292, max_features=sqrt, max_depth=6, criterion=entropy, score=0.774, total=   1.7s\n",
            "[CV] n_estimators=292, max_features=sqrt, max_depth=6, criterion=entropy \n",
            "[CV]  n_estimators=292, max_features=sqrt, max_depth=6, criterion=entropy, score=0.693, total=   1.7s\n",
            "[CV] n_estimators=292, max_features=sqrt, max_depth=6, criterion=entropy \n",
            "[CV]  n_estimators=292, max_features=sqrt, max_depth=6, criterion=entropy, score=0.787, total=   1.7s\n",
            "[CV] n_estimators=157, max_features=auto, max_depth=5, criterion=gini \n",
            "[CV]  n_estimators=157, max_features=auto, max_depth=5, criterion=gini, score=0.723, total=   0.5s\n",
            "[CV] n_estimators=157, max_features=auto, max_depth=5, criterion=gini \n",
            "[CV]  n_estimators=157, max_features=auto, max_depth=5, criterion=gini, score=0.730, total=   0.5s\n",
            "[CV] n_estimators=157, max_features=auto, max_depth=5, criterion=gini \n",
            "[CV]  n_estimators=157, max_features=auto, max_depth=5, criterion=gini, score=0.766, total=   0.5s\n",
            "[CV] n_estimators=157, max_features=auto, max_depth=5, criterion=gini \n",
            "[CV]  n_estimators=157, max_features=auto, max_depth=5, criterion=gini, score=0.701, total=   0.5s\n",
            "[CV] n_estimators=157, max_features=auto, max_depth=5, criterion=gini \n",
            "[CV]  n_estimators=157, max_features=auto, max_depth=5, criterion=gini, score=0.735, total=   0.5s\n",
            "[CV] n_estimators=169, max_features=auto, max_depth=4, criterion=entropy \n",
            "[CV]  n_estimators=169, max_features=auto, max_depth=4, criterion=entropy, score=0.679, total=   0.8s\n",
            "[CV] n_estimators=169, max_features=auto, max_depth=4, criterion=entropy \n",
            "[CV]  n_estimators=169, max_features=auto, max_depth=4, criterion=entropy, score=0.701, total=   0.8s\n",
            "[CV] n_estimators=169, max_features=auto, max_depth=4, criterion=entropy \n",
            "[CV]  n_estimators=169, max_features=auto, max_depth=4, criterion=entropy, score=0.686, total=   0.8s\n",
            "[CV] n_estimators=169, max_features=auto, max_depth=4, criterion=entropy \n",
            "[CV]  n_estimators=169, max_features=auto, max_depth=4, criterion=entropy, score=0.701, total=   0.8s\n",
            "[CV] n_estimators=169, max_features=auto, max_depth=4, criterion=entropy \n",
            "[CV]  n_estimators=169, max_features=auto, max_depth=4, criterion=entropy, score=0.728, total=   0.8s\n",
            "[CV] n_estimators=221, max_features=log2, max_depth=10, criterion=gini \n",
            "[CV]  n_estimators=221, max_features=log2, max_depth=10, criterion=gini, score=0.730, total=   0.7s\n",
            "[CV] n_estimators=221, max_features=log2, max_depth=10, criterion=gini \n",
            "[CV]  n_estimators=221, max_features=log2, max_depth=10, criterion=gini, score=0.745, total=   0.7s\n",
            "[CV] n_estimators=221, max_features=log2, max_depth=10, criterion=gini \n",
            "[CV]  n_estimators=221, max_features=log2, max_depth=10, criterion=gini, score=0.796, total=   0.7s\n",
            "[CV] n_estimators=221, max_features=log2, max_depth=10, criterion=gini \n",
            "[CV]  n_estimators=221, max_features=log2, max_depth=10, criterion=gini, score=0.701, total=   0.7s\n",
            "[CV] n_estimators=221, max_features=log2, max_depth=10, criterion=gini \n",
            "[CV]  n_estimators=221, max_features=log2, max_depth=10, criterion=gini, score=0.743, total=   0.7s\n",
            "[CV] n_estimators=262, max_features=sqrt, max_depth=4, criterion=entropy \n",
            "[CV]  n_estimators=262, max_features=sqrt, max_depth=4, criterion=entropy, score=0.679, total=   1.2s\n",
            "[CV] n_estimators=262, max_features=sqrt, max_depth=4, criterion=entropy \n",
            "[CV]  n_estimators=262, max_features=sqrt, max_depth=4, criterion=entropy, score=0.679, total=   1.2s\n",
            "[CV] n_estimators=262, max_features=sqrt, max_depth=4, criterion=entropy \n",
            "[CV]  n_estimators=262, max_features=sqrt, max_depth=4, criterion=entropy, score=0.723, total=   1.2s\n",
            "[CV] n_estimators=262, max_features=sqrt, max_depth=4, criterion=entropy \n",
            "[CV]  n_estimators=262, max_features=sqrt, max_depth=4, criterion=entropy, score=0.686, total=   1.2s\n",
            "[CV] n_estimators=262, max_features=sqrt, max_depth=4, criterion=entropy \n",
            "[CV]  n_estimators=262, max_features=sqrt, max_depth=4, criterion=entropy, score=0.750, total=   1.2s\n",
            "[CV] n_estimators=291, max_features=auto, max_depth=5, criterion=entropy \n",
            "[CV]  n_estimators=291, max_features=auto, max_depth=5, criterion=entropy, score=0.708, total=   1.5s\n",
            "[CV] n_estimators=291, max_features=auto, max_depth=5, criterion=entropy \n",
            "[CV]  n_estimators=291, max_features=auto, max_depth=5, criterion=entropy, score=0.701, total=   1.5s\n",
            "[CV] n_estimators=291, max_features=auto, max_depth=5, criterion=entropy \n",
            "[CV]  n_estimators=291, max_features=auto, max_depth=5, criterion=entropy, score=0.796, total=   1.5s\n",
            "[CV] n_estimators=291, max_features=auto, max_depth=5, criterion=entropy \n",
            "[CV]  n_estimators=291, max_features=auto, max_depth=5, criterion=entropy, score=0.701, total=   1.5s\n",
            "[CV] n_estimators=291, max_features=auto, max_depth=5, criterion=entropy \n",
            "[CV]  n_estimators=291, max_features=auto, max_depth=5, criterion=entropy, score=0.772, total=   1.5s\n",
            "[CV] n_estimators=265, max_features=sqrt, max_depth=4, criterion=gini \n",
            "[CV]  n_estimators=265, max_features=sqrt, max_depth=4, criterion=gini, score=0.686, total=   0.8s\n",
            "[CV] n_estimators=265, max_features=sqrt, max_depth=4, criterion=gini \n",
            "[CV]  n_estimators=265, max_features=sqrt, max_depth=4, criterion=gini, score=0.686, total=   0.8s\n",
            "[CV] n_estimators=265, max_features=sqrt, max_depth=4, criterion=gini \n",
            "[CV]  n_estimators=265, max_features=sqrt, max_depth=4, criterion=gini, score=0.708, total=   0.8s\n",
            "[CV] n_estimators=265, max_features=sqrt, max_depth=4, criterion=gini \n",
            "[CV]  n_estimators=265, max_features=sqrt, max_depth=4, criterion=gini, score=0.672, total=   0.8s\n",
            "[CV] n_estimators=265, max_features=sqrt, max_depth=4, criterion=gini \n",
            "[CV]  n_estimators=265, max_features=sqrt, max_depth=4, criterion=gini, score=0.713, total=   0.8s\n",
            "[CV] n_estimators=209, max_features=log2, max_depth=9, criterion=gini \n",
            "[CV]  n_estimators=209, max_features=log2, max_depth=9, criterion=gini, score=0.730, total=   0.7s\n",
            "[CV] n_estimators=209, max_features=log2, max_depth=9, criterion=gini \n",
            "[CV]  n_estimators=209, max_features=log2, max_depth=9, criterion=gini, score=0.708, total=   0.7s\n",
            "[CV] n_estimators=209, max_features=log2, max_depth=9, criterion=gini \n",
            "[CV]  n_estimators=209, max_features=log2, max_depth=9, criterion=gini, score=0.737, total=   0.7s\n",
            "[CV] n_estimators=209, max_features=log2, max_depth=9, criterion=gini \n",
            "[CV]  n_estimators=209, max_features=log2, max_depth=9, criterion=gini, score=0.723, total=   0.7s\n",
            "[CV] n_estimators=209, max_features=log2, max_depth=9, criterion=gini \n",
            "[CV]  n_estimators=209, max_features=log2, max_depth=9, criterion=gini, score=0.743, total=   0.7s\n",
            "[CV] n_estimators=106, max_features=sqrt, max_depth=4, criterion=entropy \n",
            "[CV]  n_estimators=106, max_features=sqrt, max_depth=4, criterion=entropy, score=0.657, total=   0.5s\n",
            "[CV] n_estimators=106, max_features=sqrt, max_depth=4, criterion=entropy \n",
            "[CV]  n_estimators=106, max_features=sqrt, max_depth=4, criterion=entropy, score=0.715, total=   0.5s\n",
            "[CV] n_estimators=106, max_features=sqrt, max_depth=4, criterion=entropy \n",
            "[CV]  n_estimators=106, max_features=sqrt, max_depth=4, criterion=entropy, score=0.745, total=   0.5s\n",
            "[CV] n_estimators=106, max_features=sqrt, max_depth=4, criterion=entropy \n",
            "[CV]  n_estimators=106, max_features=sqrt, max_depth=4, criterion=entropy, score=0.715, total=   0.5s\n",
            "[CV] n_estimators=106, max_features=sqrt, max_depth=4, criterion=entropy \n",
            "[CV]  n_estimators=106, max_features=sqrt, max_depth=4, criterion=entropy, score=0.787, total=   0.5s\n",
            "[CV] n_estimators=89, max_features=auto, max_depth=8, criterion=entropy \n",
            "[CV]  n_estimators=89, max_features=auto, max_depth=8, criterion=entropy, score=0.701, total=   0.6s\n",
            "[CV] n_estimators=89, max_features=auto, max_depth=8, criterion=entropy \n",
            "[CV]  n_estimators=89, max_features=auto, max_depth=8, criterion=entropy, score=0.730, total=   0.6s\n",
            "[CV] n_estimators=89, max_features=auto, max_depth=8, criterion=entropy \n",
            "[CV]  n_estimators=89, max_features=auto, max_depth=8, criterion=entropy, score=0.810, total=   0.6s\n",
            "[CV] n_estimators=89, max_features=auto, max_depth=8, criterion=entropy \n",
            "[CV]  n_estimators=89, max_features=auto, max_depth=8, criterion=entropy, score=0.752, total=   0.6s\n",
            "[CV] n_estimators=89, max_features=auto, max_depth=8, criterion=entropy \n",
            "[CV]  n_estimators=89, max_features=auto, max_depth=8, criterion=entropy, score=0.772, total=   0.6s\n"
          ],
          "name": "stdout"
        },
        {
          "output_type": "stream",
          "text": [
            "[Parallel(n_jobs=1)]: Done  50 out of  50 | elapsed:   45.2s finished\n"
          ],
          "name": "stderr"
        },
        {
          "output_type": "stream",
          "text": [
            "The best classifier is:  RandomForestClassifier(bootstrap=True, ccp_alpha=0.0, class_weight=None,\n",
            "                       criterion='entropy', max_depth=8, max_features='auto',\n",
            "                       max_leaf_nodes=None, max_samples=None,\n",
            "                       min_impurity_decrease=0.0, min_impurity_split=None,\n",
            "                       min_samples_leaf=1, min_samples_split=2,\n",
            "                       min_weight_fraction_leaf=0.0, n_estimators=89,\n",
            "                       n_jobs=None, oob_score=False, random_state=None,\n",
            "                       verbose=0, warm_start=False)\n"
          ],
          "name": "stdout"
        },
        {
          "output_type": "display_data",
          "data": {
            "image/png": "[encoded data removed]",
            "text/plain": [
              "<Figure size 432x288 with 1 Axes>"
            ]
          },
          "metadata": {
            "tags": []
          }
        },
        {
          "output_type": "display_data",
          "data": {
            "image/png": "[encoded data removed]",
            "text/plain": [
              "<Figure size 432x288 with 1 Axes>"
            ]
          },
          "metadata": {
            "tags": []
          }
        }
      ]
    }
  ]
}