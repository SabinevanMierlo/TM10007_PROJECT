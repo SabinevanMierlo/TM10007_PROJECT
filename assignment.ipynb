{
  "nbformat": 4,
  "nbformat_minor": 0,
  "metadata": {
    "colab": {
      "name": "assignment.ipynb",
      "provenance": [],
      "collapsed_sections": []
    },
    "kernelspec": {
      "display_name": "Python 3",
      "language": "python",
      "name": "python3"
    },
    "language_info": {
      "codemirror_mode": {
        "name": "ipython",
        "version": 3
      },
      "file_extension": ".py",
      "mimetype": "text/x-python",
      "name": "python",
      "nbconvert_exporter": "python",
      "pygments_lexer": "ipython3",
      "version": "3.7.4"
    }
  },
  "cells": [
    {
      "cell_type": "markdown",
      "metadata": {
        "colab_type": "text",
        "id": "7SXpaKwwGe5x"
      },
      "source": [
        "# TM10007 Assignment: ADNI"
      ]
    },
    {
      "cell_type": "code",
      "metadata": {
        "colab_type": "code",
        "id": "CiDn2Sk-VWqE",
        "outputId": "a5b1bdc2-71d5-4f88-efb5-ac093c8c1e2c",
        "colab": {
          "base_uri": "https://localhost:8080/",
          "height": 34
        }
      },
      "source": [
        "# Run this to use from colab environment\n",
        "!pip install -q --upgrade git+https://github.com/karinvangarderen/tm10007_project.git"
      ],
      "execution_count": 36,
      "outputs": [
        {
          "output_type": "stream",
          "text": [
            "  Building wheel for brats (setup.py) ... \u001b[?25l\u001b[?25hdone\n"
          ],
          "name": "stdout"
        }
      ]
    },
    {
      "cell_type": "markdown",
      "metadata": {
        "id": "ntIj3qfhreFu",
        "colab_type": "text"
      },
      "source": [
        "# Import necessary functions/packages"
      ]
    },
    {
      "cell_type": "code",
      "metadata": {
        "id": "rOtoCOptna4A",
        "colab_type": "code",
        "colab": {}
      },
      "source": [
        "# General packages\n",
        "import numpy as np \n",
        "import pandas as pd\n",
        "import matplotlib.pyplot as plt\n",
        "import seaborn\n",
        "from scipy import interp\n",
        "from scipy.stats import randint\n",
        "\n",
        "# Classifiers\n",
        "from sklearn import model_selection\n",
        "from sklearn.preprocessing import StandardScaler, label_binarize\n",
        "from sklearn.feature_selection import SelectFromModel\n",
        "from sklearn.linear_model import Lasso, RidgeClassifier\n",
        "from sklearn.decomposition import PCA\n",
        "from sklearn.model_selection import LeaveOneOut, KFold, StratifiedKFold, RandomizedSearchCV, cross_validate\n",
        "from sklearn.svm import SVC\n",
        "from sklearn.neighbors import KNeighborsClassifier\n",
        "from sklearn.ensemble import RandomForestClassifier\n",
        "from sklearn.utils.fixes import loguniform\n",
        "from sklearn import metrics\n",
        "from sklearn.metrics import roc_curve, auc, roc_auc_score\n",
        "\n",
        "# Statistics\n",
        "from statistics import mean"
      ],
      "execution_count": 0,
      "outputs": []
    },
    {
      "cell_type": "markdown",
      "metadata": {
        "id": "xxnxLcUpCSKk",
        "colab_type": "text"
      },
      "source": [
        "# Some functions we will use "
      ]
    },
    {
      "cell_type": "code",
      "metadata": {
        "colab_type": "code",
        "id": "-NE_fTbKGe5z",
        "colab": {}
      },
      "source": [
        "def removezeros(X):\n",
        "  '''\n",
        "  Remove features with only zero's as values\n",
        "  '''\n",
        "  X_nozeros = X.loc[:, (X != 0).any(axis=0)]\n",
        "  return X_nozeros\n",
        "\n",
        "def plot_learning_curve(estimator, title, X, y, axes, ylim=None, cv=None,\n",
        "                        n_jobs=None, train_sizes=np.linspace(.1, 1.0, 5)):\n",
        "    \"\"\"\n",
        "    Generate 3 plots: the test and training learning curve, the training\n",
        "    samples vs fit times curve, the fit times vs score curve.\n",
        "\n",
        "    Parameters\n",
        "    ----------\n",
        "    estimator : object type that implements the \"fit\" and \"predict\" methods\n",
        "        An object of that type which is cloned for each validation.\n",
        "\n",
        "    title : string\n",
        "        Title for the chart.\n",
        "\n",
        "    X : array-like, shape (n_samples, n_features)\n",
        "        Training vector, where n_samples is the number of samples and\n",
        "        n_features is the number of features.\n",
        "\n",
        "    y : array-like, shape (n_samples) or (n_samples, n_features), optional\n",
        "        Target relative to X for classification or regression;\n",
        "        None for unsupervised learning.\n",
        "\n",
        "    axes : array of 3 axes, optional (default=None)\n",
        "        Axes to use for plotting the curves.\n",
        "\n",
        "    ylim : tuple, shape (ymin, ymax), optional\n",
        "        Defines minimum and maximum yvalues plotted.\n",
        "\n",
        "    cv : int, cross-validation generator or an iterable, optional\n",
        "        Determines the cross-validation splitting strategy.\n",
        "        Possible inputs for cv are:\n",
        "          - None, to use the default 5-fold cross-validation,\n",
        "          - integer, to specify the number of folds.\n",
        "          - :term:`CV splitter`,\n",
        "          - An iterable yielding (train, test) splits as arrays of indices.\n",
        "\n",
        "        For integer/None inputs, if ``y`` is binary or multiclass,\n",
        "        :class:`StratifiedKFold` used. If the estimator is not a classifier\n",
        "        or if ``y`` is neither binary nor multiclass, :class:`KFold` is used.\n",
        "\n",
        "        Refer :ref:`User Guide <cross_validation>` for the various\n",
        "        cross-validators that can be used here.\n",
        "\n",
        "    n_jobs : int or None, optional (default=None)\n",
        "        Number of jobs to run in parallel.\n",
        "        ``None`` means 1 unless in a :obj:`joblib.parallel_backend` context.\n",
        "        ``-1`` means using all processors. See :term:`Glossary <n_jobs>`\n",
        "        for more details.\n",
        "\n",
        "    train_sizes : array-like, shape (n_ticks,), dtype float or int\n",
        "        Relative or absolute numbers of training examples that will be used to\n",
        "        generate the learning curve. If the dtype is float, it is regarded as a\n",
        "        fraction of the maximum size of the training set (that is determined\n",
        "        by the selected validation method), i.e. it has to be within (0, 1].\n",
        "        Otherwise it is interpreted as absolute sizes of the training sets.\n",
        "        Note that for classification the number of samples usually have to\n",
        "        be big enough to contain at least one sample from each class.\n",
        "        (default: np.linspace(0.1, 1.0, 5))\n",
        "    \"\"\"\n",
        "\n",
        "    axes.set_title(title)\n",
        "    if ylim is not None:\n",
        "        axes.set_ylim(*ylim)\n",
        "    axes.set_xlabel(\"Training examples\")\n",
        "    axes.set_ylabel(\"Score\")\n",
        "\n",
        "    train_sizes, train_scores, test_scores  = \\\n",
        "        learning_curve(estimator, X, y, cv=cv, n_jobs=n_jobs,\n",
        "                       train_sizes=train_sizes)\n",
        "    train_scores_mean = np.mean(train_scores, axis=1)\n",
        "    train_scores_std = np.std(train_scores, axis=1)\n",
        "    test_scores_mean = np.mean(test_scores, axis=1)\n",
        "    test_scores_std = np.std(test_scores, axis=1)\n",
        "\n",
        "    # Plot learning curve\n",
        "    axes.grid()\n",
        "    axes.fill_between(train_sizes, train_scores_mean - train_scores_std,\n",
        "                         train_scores_mean + train_scores_std, alpha=0.1,\n",
        "                         color=\"r\")\n",
        "    axes.fill_between(train_sizes, test_scores_mean - test_scores_std,\n",
        "                         test_scores_mean + test_scores_std, alpha=0.1,\n",
        "                         color=\"g\")\n",
        "    axes.plot(train_sizes, train_scores_mean, 'o-', color=\"r\",\n",
        "                 label=\"Training score\")\n",
        "    axes.plot(train_sizes, test_scores_mean, 'o-', color=\"g\",\n",
        "                 label=\"Cross-validation score\")\n",
        "    axes.legend(loc=\"best\")\n",
        "\n",
        "    return plt\n",
        "\n",
        "def plot_roc_curve(y_score, y_truth):\n",
        "    '''\n",
        "    Plot an ROC curve.\n",
        "    '''\n",
        "    # Only take scores for class = 1\n",
        "    y_score = y_score[:, 1]\n",
        "    \n",
        "    # Compute ROC curve and ROC area for each class\n",
        "    fpr, tpr, _ = roc_curve(y_truth, y_score)\n",
        "    roc_auc = auc(fpr, tpr)\n",
        "    \n",
        "    # Plot the ROC curve\n",
        "    plt.figure()\n",
        "    lw = 2\n",
        "    plt.plot(fpr, tpr, color='darkorange',\n",
        "             lw=lw, label='ROC curve (area = %0.2f)' % roc_auc)\n",
        "    plt.plot([0, 1], [0, 1], color='navy', lw=lw, linestyle='--')\n",
        "    plt.xlim([0.0, 1.0])\n",
        "    plt.ylim([0.0, 1.05])\n",
        "    plt.xlabel('False Positive Rate')\n",
        "    plt.ylabel('True Positive Rate')\n",
        "    plt.title('Receiver operating characteristic example')\n",
        "    plt.legend(loc=\"lower right\")\n",
        "    plt.show()"
      ],
      "execution_count": 0,
      "outputs": []
    },
    {
      "cell_type": "markdown",
      "metadata": {
        "id": "6k6pUnYWV4GG",
        "colab_type": "text"
      },
      "source": [
        "# Data loading and preprocessing"
      ]
    },
    {
      "cell_type": "code",
      "metadata": {
        "id": "uQgfZ505VORH",
        "colab_type": "code",
        "outputId": "a7e3a726-b9b3-47be-c022-5974b79810d1",
        "colab": {
          "base_uri": "https://localhost:8080/",
          "height": 269
        }
      },
      "source": [
        "# Data loading functions\n",
        "from adni.load_data import load_data \n",
        "data = load_data()\n",
        "print(data.head())\n",
        "print(f'The number of samples: {len(data.index)}')\n",
        "print(f'The number of columns: {len(data.columns)}')\n",
        "\n",
        "\"\"\" \n",
        "kan dit weg?\n",
        "#data_missing = data.isnull()\n",
        "#print(data_missing.index[data_missing == True])\n",
        "\"\"\"\n",
        "\n",
        "# Creating vector of labels\n",
        "data_no_label = data.drop(columns='label')\n",
        "print(f'The number of features: {len(data_no_label.columns)}')\n",
        "x = data_no_label\n",
        "y = data['label']\n",
        "\n",
        "# Split data in train and test set\n",
        "X_train, X_test, y_train, y_test = model_selection.train_test_split(x, y, test_size=0.2)\n",
        "\n",
        "# Remove features with only zero's as values\n",
        "X_train_df = removezeros(X_train)\n",
        "X_test_df = removezeros(X_test)\n",
        "print(f'The number of samples: {len(X_train_df.index)}') # kan dit weg?\n",
        "print(f'The number of features after removing zero-features: {len(X_train_df.columns)}')\n",
        "\n",
        "# Get values of of the features\n",
        "X_train = X_train_df.values\n",
        "X_test = X_test_df.values\n",
        "\n",
        "# Check if there are NaN's\n",
        "x_nan = np.isnan(X_train)\n",
        "print(f'The number of found NaN is: {np.sum(x_nan)}')\n",
        "\"\"\" moeten we dit eigenlijk ook niet doen voor de test?\"\"\"\n",
        "\n",
        "\"\"\"\n",
        "kan dit weg?\n",
        "#x_zero = np.where(X_train == 0)[0]\n",
        "#print(f'The number of found zeros is: {len(x_zero)}')\n",
        "\"\"\"\n",
        "\n",
        "# Binarize the labels\n",
        "y_train_bin = label_binarize(y_train,['AD','CN'])\n",
        "y_train_bin = [i[0] for i in y_train_bin]\n",
        "y_test_bin = label_binarize(y_test,['AD','CN'])\n",
        "y_test_bin = [i[0] for i in y_test_bin]\n",
        "y_bin = label_binarize(y,['AD','CN'])\n",
        "y_bin = [i[0] for i in y_bin]"
      ],
      "execution_count": 39,
      "outputs": [
        {
          "output_type": "stream",
          "text": [
            "                     hf_energy  ...  vf_Frangi_inner_std_SR(1.0, 10.0)_SS2.0\n",
            "ID                              ...                                         \n",
            "0_002_S_0413_bl_0  5403.229408  ...                             4.207831e-10\n",
            "0_002_S_0559_bl_0   922.459760  ...                             3.137258e-10\n",
            "0_002_S_0619_bl_0  1674.765276  ...                             4.219847e-10\n",
            "0_002_S_0685_bl_0  3443.797200  ...                             5.954654e-11\n",
            "0_002_S_0816_bl_0   914.469846  ...                             4.174750e-10\n",
            "\n",
            "[5 rows x 268 columns]\n",
            "The number of samples: 855\n",
            "The number of columns: 268\n",
            "The number of features: 267\n",
            "The number of samples: 684\n",
            "The number of features after removing zero-features: 263\n",
            "The number of found NaN is: 0\n"
          ],
          "name": "stdout"
        }
      ]
    },
    {
      "cell_type": "markdown",
      "metadata": {
        "id": "gwTNunQvVPEp",
        "colab_type": "text"
      },
      "source": [
        "# Feature scaling and selection\n"
      ]
    },
    {
      "cell_type": "code",
      "metadata": {
        "id": "iUayp0qrWIuY",
        "colab_type": "code",
        "outputId": "95120afb-e781-4e3f-925e-74c3d1229688",
        "colab": {
          "base_uri": "https://localhost:8080/",
          "height": 350
        }
      },
      "source": [
        "# Scaling of features\n",
        "scaler = StandardScaler()\n",
        "scaler.fit(X_train)\n",
        "X_train_scaled = scaler.transform(X_train)\n",
        "X_test_scaled = scaler.transform(X_test)\n",
        "\n",
        "# Feature selection - L1 method\n",
        "selector = SelectFromModel(estimator=Lasso(alpha=10**(-10), random_state=42), threshold='median')\n",
        "selector.fit(X_train_scaled, y_train_bin)\n",
        "n_original = X_train_scaled.shape[1]\n",
        "X_train_test = selector.transform(X_train_scaled)\n",
        "n_selected = X_train_test.shape[1]\n",
        "print(f\"Selected {n_selected} from {n_original} features with L1 method.\")\n",
        "\n",
        "# PCA\n",
        "pca = PCA().fit(X_train_scaled)\n",
        "plt.plot(np.cumsum(pca.explained_variance_ratio_))\n",
        "plt.xlabel('number of components')\n",
        "plt.ylabel('cumulative explained variance');\n",
        "\n",
        "# Feature selection - PCA\n",
        "pca = PCA(n_components=132)\n",
        "pca = pca.fit(X_train_scaled)\n",
        "X_train = pca.transform(X_train_scaled)\n",
        "X_test = pca.transform(X_test_scaled)"
      ],
      "execution_count": 40,
      "outputs": [
        {
          "output_type": "stream",
          "text": [
            "/usr/local/lib/python3.6/dist-packages/sklearn/linear_model/_coordinate_descent.py:476: ConvergenceWarning: Objective did not converge. You might want to increase the number of iterations. Duality gap: 25.991939626415856, tolerance: 0.01632090643274854\n",
            "  positive)\n"
          ],
          "name": "stderr"
        },
        {
          "output_type": "stream",
          "text": [
            "Selected 132 from 263 features with L1 method.\n"
          ],
          "name": "stdout"
        },
        {
          "output_type": "display_data",
          "data": {
            "image/png": "[encoded data removed]",
            "text/plain": [
              "<Figure size 432x288 with 1 Axes>"
            ]
          },
          "metadata": {
            "tags": []
          }
        }
      ]
    },
    {
      "cell_type": "markdown",
      "metadata": {
        "id": "2jj80MsZsOHO",
        "colab_type": "text"
      },
      "source": [
        "# SVM classifier\n",
        "Hyperparameter optimization of SVM"
      ]
    },
    {
      "cell_type": "code",
      "metadata": {
        "id": "CwqLx_t_R-d0",
        "colab_type": "code",
        "outputId": "814870f6-bd9f-4809-d0d5-f330fa4c45d4",
        "colab": {
          "base_uri": "https://localhost:8080/",
          "height": 1000
        }
      },
      "source": [
        " # Define hyperparameters for SVM \n",
        "SVM_param = {'C': loguniform(1e0, 1e3), \n",
        "              'gamma': loguniform(1e-4, 1e0), \n",
        "              'kernel': ['rbf','poly', 'linear']}  \n",
        "\n",
        "# Perform randomized search with cross-validation for hyperparameter optimization\n",
        "grid = RandomizedSearchCV(SVC(probability=True), SVM_param, n_iter=10, refit = True, verbose = 3, random_state=42) \n",
        "grid.fit(X_train, y_train)\n",
        "\n",
        "print(\"The best classifier is: \", grid.best_estimator_)"
      ],
      "execution_count": 41,
      "outputs": [
        {
          "output_type": "stream",
          "text": [
            "Fitting 5 folds for each of 10 candidates, totalling 50 fits\n",
            "[CV] C=13.292918943162162, gamma=0.6351221010640693, kernel=linear ...\n"
          ],
          "name": "stdout"
        },
        {
          "output_type": "stream",
          "text": [
            "[Parallel(n_jobs=1)]: Using backend SequentialBackend with 1 concurrent workers.\n"
          ],
          "name": "stderr"
        },
        {
          "output_type": "stream",
          "text": [
            "[CV]  C=13.292918943162162, gamma=0.6351221010640693, kernel=linear, score=0.715, total=   7.2s\n",
            "[CV] C=13.292918943162162, gamma=0.6351221010640693, kernel=linear ...\n"
          ],
          "name": "stdout"
        },
        {
          "output_type": "stream",
          "text": [
            "[Parallel(n_jobs=1)]: Done   1 out of   1 | elapsed:    7.2s remaining:    0.0s\n"
          ],
          "name": "stderr"
        },
        {
          "output_type": "stream",
          "text": [
            "[CV]  C=13.292918943162162, gamma=0.6351221010640693, kernel=linear, score=0.723, total=   6.1s\n",
            "[CV] C=13.292918943162162, gamma=0.6351221010640693, kernel=linear ...\n"
          ],
          "name": "stdout"
        },
        {
          "output_type": "stream",
          "text": [
            "[Parallel(n_jobs=1)]: Done   2 out of   2 | elapsed:   13.4s remaining:    0.0s\n"
          ],
          "name": "stderr"
        },
        {
          "output_type": "stream",
          "text": [
            "[CV]  C=13.292918943162162, gamma=0.6351221010640693, kernel=linear, score=0.730, total=   8.5s\n",
            "[CV] C=13.292918943162162, gamma=0.6351221010640693, kernel=linear ...\n",
            "[CV]  C=13.292918943162162, gamma=0.6351221010640693, kernel=linear, score=0.715, total=   8.0s\n",
            "[CV] C=13.292918943162162, gamma=0.6351221010640693, kernel=linear ...\n",
            "[CV]  C=13.292918943162162, gamma=0.6351221010640693, kernel=linear, score=0.794, total=   8.8s\n",
            "[CV] C=218.3096839052459, gamma=0.02440060709081752, kernel=poly .....\n",
            "[CV]  C=218.3096839052459, gamma=0.02440060709081752, kernel=poly, score=0.788, total=   0.3s\n",
            "[CV] C=218.3096839052459, gamma=0.02440060709081752, kernel=poly .....\n",
            "[CV]  C=218.3096839052459, gamma=0.02440060709081752, kernel=poly, score=0.774, total=   0.3s\n",
            "[CV] C=218.3096839052459, gamma=0.02440060709081752, kernel=poly .....\n",
            "[CV]  C=218.3096839052459, gamma=0.02440060709081752, kernel=poly, score=0.781, total=   0.3s\n",
            "[CV] C=218.3096839052459, gamma=0.02440060709081752, kernel=poly .....\n",
            "[CV]  C=218.3096839052459, gamma=0.02440060709081752, kernel=poly, score=0.774, total=   0.3s\n",
            "[CV] C=218.3096839052459, gamma=0.02440060709081752, kernel=poly .....\n",
            "[CV]  C=218.3096839052459, gamma=0.02440060709081752, kernel=poly, score=0.765, total=   0.3s\n",
            "[CV] C=2.9375384576328285, gamma=0.00017073967431528118, kernel=rbf ..\n",
            "[CV]  C=2.9375384576328285, gamma=0.00017073967431528118, kernel=rbf, score=0.796, total=   0.2s\n",
            "[CV] C=2.9375384576328285, gamma=0.00017073967431528118, kernel=rbf ..\n",
            "[CV]  C=2.9375384576328285, gamma=0.00017073967431528118, kernel=rbf, score=0.766, total=   0.2s\n",
            "[CV] C=2.9375384576328285, gamma=0.00017073967431528118, kernel=rbf ..\n",
            "[CV]  C=2.9375384576328285, gamma=0.00017073967431528118, kernel=rbf, score=0.839, total=   0.2s\n",
            "[CV] C=2.9375384576328285, gamma=0.00017073967431528118, kernel=rbf ..\n",
            "[CV]  C=2.9375384576328285, gamma=0.00017073967431528118, kernel=rbf, score=0.781, total=   0.2s\n",
            "[CV] C=2.9375384576328285, gamma=0.00017073967431528118, kernel=rbf ..\n",
            "[CV]  C=2.9375384576328285, gamma=0.00017073967431528118, kernel=rbf, score=0.801, total=   0.2s\n",
            "[CV] C=63.5835885667625, gamma=0.06796578090758153, kernel=poly ......\n",
            "[CV]  C=63.5835885667625, gamma=0.06796578090758153, kernel=poly, score=0.788, total=   0.3s\n",
            "[CV] C=63.5835885667625, gamma=0.06796578090758153, kernel=poly ......\n",
            "[CV]  C=63.5835885667625, gamma=0.06796578090758153, kernel=poly, score=0.774, total=   0.3s\n",
            "[CV] C=63.5835885667625, gamma=0.06796578090758153, kernel=poly ......\n",
            "[CV]  C=63.5835885667625, gamma=0.06796578090758153, kernel=poly, score=0.781, total=   0.3s\n",
            "[CV] C=63.5835885667625, gamma=0.06796578090758153, kernel=poly ......\n",
            "[CV]  C=63.5835885667625, gamma=0.06796578090758153, kernel=poly, score=0.774, total=   0.3s\n",
            "[CV] C=63.5835885667625, gamma=0.06796578090758153, kernel=poly ......\n",
            "[CV]  C=63.5835885667625, gamma=0.06796578090758153, kernel=poly, score=0.765, total=   0.3s\n",
            "[CV] C=1.4765043713594344, gamma=0.07726718477963428, kernel=poly ....\n",
            "[CV]  C=1.4765043713594344, gamma=0.07726718477963428, kernel=poly, score=0.788, total=   0.3s\n",
            "[CV] C=1.4765043713594344, gamma=0.07726718477963428, kernel=poly ....\n",
            "[CV]  C=1.4765043713594344, gamma=0.07726718477963428, kernel=poly, score=0.774, total=   0.3s\n",
            "[CV] C=1.4765043713594344, gamma=0.07726718477963428, kernel=poly ....\n",
            "[CV]  C=1.4765043713594344, gamma=0.07726718477963428, kernel=poly, score=0.781, total=   0.3s\n",
            "[CV] C=1.4765043713594344, gamma=0.07726718477963428, kernel=poly ....\n",
            "[CV]  C=1.4765043713594344, gamma=0.07726718477963428, kernel=poly, score=0.774, total=   0.3s\n",
            "[CV] C=1.4765043713594344, gamma=0.07726718477963428, kernel=poly ....\n",
            "[CV]  C=1.4765043713594344, gamma=0.07726718477963428, kernel=poly, score=0.765, total=   0.3s\n",
            "[CV] C=4.335281794951563, gamma=0.0005337032762603955, kernel=rbf ....\n",
            "[CV]  C=4.335281794951563, gamma=0.0005337032762603955, kernel=rbf, score=0.810, total=   0.2s\n",
            "[CV] C=4.335281794951563, gamma=0.0005337032762603955, kernel=rbf ....\n",
            "[CV]  C=4.335281794951563, gamma=0.0005337032762603955, kernel=rbf, score=0.788, total=   0.2s\n",
            "[CV] C=4.335281794951563, gamma=0.0005337032762603955, kernel=rbf ....\n",
            "[CV]  C=4.335281794951563, gamma=0.0005337032762603955, kernel=rbf, score=0.832, total=   0.2s\n",
            "[CV] C=4.335281794951563, gamma=0.0005337032762603955, kernel=rbf ....\n",
            "[CV]  C=4.335281794951563, gamma=0.0005337032762603955, kernel=rbf, score=0.788, total=   0.2s\n",
            "[CV] C=4.335281794951563, gamma=0.0005337032762603955, kernel=rbf ....\n",
            "[CV]  C=4.335281794951563, gamma=0.0005337032762603955, kernel=rbf, score=0.824, total=   0.2s\n",
            "[CV] C=71.19418600172988, gamma=0.02796485951606244, kernel=rbf ......\n",
            "[CV]  C=71.19418600172988, gamma=0.02796485951606244, kernel=rbf, score=0.613, total=   0.4s\n",
            "[CV] C=71.19418600172988, gamma=0.02796485951606244, kernel=rbf ......\n",
            "[CV]  C=71.19418600172988, gamma=0.02796485951606244, kernel=rbf, score=0.613, total=   0.4s\n",
            "[CV] C=71.19418600172988, gamma=0.02796485951606244, kernel=rbf ......\n",
            "[CV]  C=71.19418600172988, gamma=0.02796485951606244, kernel=rbf, score=0.606, total=   0.4s\n",
            "[CV] C=71.19418600172988, gamma=0.02796485951606244, kernel=rbf ......\n",
            "[CV]  C=71.19418600172988, gamma=0.02796485951606244, kernel=rbf, score=0.606, total=   0.4s\n",
            "[CV] C=71.19418600172988, gamma=0.02796485951606244, kernel=rbf ......\n",
            "[CV]  C=71.19418600172988, gamma=0.02796485951606244, kernel=rbf, score=0.610, total=   0.4s\n",
            "[CV] C=19.762189340280067, gamma=0.0014618962793704956, kernel=linear \n",
            "[CV]  C=19.762189340280067, gamma=0.0014618962793704956, kernel=linear, score=0.730, total=   9.5s\n",
            "[CV] C=19.762189340280067, gamma=0.0014618962793704956, kernel=linear \n",
            "[CV]  C=19.762189340280067, gamma=0.0014618962793704956, kernel=linear, score=0.730, total=  10.3s\n",
            "[CV] C=19.762189340280067, gamma=0.0014618962793704956, kernel=linear \n",
            "[CV]  C=19.762189340280067, gamma=0.0014618962793704956, kernel=linear, score=0.737, total=  13.6s\n",
            "[CV] C=19.762189340280067, gamma=0.0014618962793704956, kernel=linear \n",
            "[CV]  C=19.762189340280067, gamma=0.0014618962793704956, kernel=linear, score=0.708, total=  11.8s\n",
            "[CV] C=19.762189340280067, gamma=0.0014618962793704956, kernel=linear \n",
            "[CV]  C=19.762189340280067, gamma=0.0014618962793704956, kernel=linear, score=0.787, total=  10.5s\n",
            "[CV] C=15.833718339012057, gamma=0.00015369603110608834, kernel=linear \n",
            "[CV]  C=15.833718339012057, gamma=0.00015369603110608834, kernel=linear, score=0.715, total=  11.4s\n",
            "[CV] C=15.833718339012057, gamma=0.00015369603110608834, kernel=linear \n",
            "[CV]  C=15.833718339012057, gamma=0.00015369603110608834, kernel=linear, score=0.730, total=   6.0s\n",
            "[CV] C=15.833718339012057, gamma=0.00015369603110608834, kernel=linear \n",
            "[CV]  C=15.833718339012057, gamma=0.00015369603110608834, kernel=linear, score=0.723, total=   8.3s\n",
            "[CV] C=15.833718339012057, gamma=0.00015369603110608834, kernel=linear \n",
            "[CV]  C=15.833718339012057, gamma=0.00015369603110608834, kernel=linear, score=0.708, total=  10.9s\n",
            "[CV] C=15.833718339012057, gamma=0.00015369603110608834, kernel=linear \n",
            "[CV]  C=15.833718339012057, gamma=0.00015369603110608834, kernel=linear, score=0.794, total=  11.4s\n",
            "[CV] C=23.34586407601623, gamma=0.13826232179369854, kernel=linear ...\n",
            "[CV]  C=23.34586407601623, gamma=0.13826232179369854, kernel=linear, score=0.730, total=  12.7s\n",
            "[CV] C=23.34586407601623, gamma=0.13826232179369854, kernel=linear ...\n",
            "[CV]  C=23.34586407601623, gamma=0.13826232179369854, kernel=linear, score=0.730, total=  13.3s\n",
            "[CV] C=23.34586407601623, gamma=0.13826232179369854, kernel=linear ...\n",
            "[CV]  C=23.34586407601623, gamma=0.13826232179369854, kernel=linear, score=0.730, total=  13.5s\n",
            "[CV] C=23.34586407601623, gamma=0.13826232179369854, kernel=linear ...\n",
            "[CV]  C=23.34586407601623, gamma=0.13826232179369854, kernel=linear, score=0.715, total=  18.8s\n",
            "[CV] C=23.34586407601623, gamma=0.13826232179369854, kernel=linear ...\n",
            "[CV]  C=23.34586407601623, gamma=0.13826232179369854, kernel=linear, score=0.787, total=  16.1s\n"
          ],
          "name": "stdout"
        },
        {
          "output_type": "stream",
          "text": [
            "[Parallel(n_jobs=1)]: Done  50 out of  50 | elapsed:  3.8min finished\n"
          ],
          "name": "stderr"
        },
        {
          "output_type": "stream",
          "text": [
            "The best classifier is:  SVC(C=4.335281794951563, break_ties=False, cache_size=200, class_weight=None,\n",
            "    coef0=0.0, decision_function_shape='ovr', degree=3,\n",
            "    gamma=0.0005337032762603955, kernel='rbf', max_iter=-1, probability=True,\n",
            "    random_state=None, shrinking=True, tol=0.001, verbose=False)\n"
          ],
          "name": "stdout"
        }
      ]
    },
    {
      "cell_type": "markdown",
      "metadata": {
        "id": "ZV2ZyzChvvc3",
        "colab_type": "text"
      },
      "source": [
        "ROC of SVM for train- and test-set"
      ]
    },
    {
      "cell_type": "code",
      "metadata": {
        "id": "C7ghflhYlTBC",
        "colab_type": "code",
        "outputId": "5b7b0b0c-fffa-45b5-9256-bd610b2c7172",
        "colab": {
          "base_uri": "https://localhost:8080/",
          "height": 573
        }
      },
      "source": [
        "# Determine scores for train and test set\n",
        "score_train = grid.best_estimator_.predict_proba(X_train)\n",
        "score_test = grid.best_estimator_.predict_proba(X_test)\n",
        "\n",
        "# Plot ROC curve for train and test set\n",
        "plot_roc_curve(score_train, y_train_bin)\n",
        "plot_roc_curve(score_test, y_test_bin)"
      ],
      "execution_count": 42,
      "outputs": [
        {
          "output_type": "display_data",
          "data": {
            "image/png": "[encoded data removed]",
            "text/plain": [
              "<Figure size 432x288 with 1 Axes>"
            ]
          },
          "metadata": {
            "tags": []
          }
        },
        {
          "output_type": "display_data",
          "data": {
            "image/png": "[encoded data removed]",
            "text/plain": [
              "<Figure size 432x288 with 1 Axes>"
            ]
          },
          "metadata": {
            "tags": []
          }
        }
      ]
    },
    {
      "cell_type": "markdown",
      "metadata": {
        "id": "TN_I8VNJv8jE",
        "colab_type": "text"
      },
      "source": [
        "Calculate metrics of SVM with cross-validation"
      ]
    },
    {
      "cell_type": "code",
      "metadata": {
        "id": "FCJeXnxBwFXO",
        "colab_type": "code",
        "outputId": "d84ed24a-1db6-4c2d-c032-4b088e062393",
        "colab": {
          "base_uri": "https://localhost:8080/",
          "height": 101
        }
      },
      "source": [
        "# Preprocessing and feature selection on whole dataset\n",
        "X_cv_df = removezeros(x)\n",
        "X_cv_values = X_cv_df.values\n",
        "X_cv_scaled = scaler.transform(X_cv_values)\n",
        "X_cv = pca.transform(X_cv_scaled)\n",
        "\n",
        "# Define the scoring metrics\n",
        "scoring = ['precision', 'recall', 'f1', 'accuracy','roc_auc']\n",
        "\n",
        "# Calculate the scores with cross-validation\n",
        "scores = cross_validate(grid.best_estimator_, X_cv, y_bin, scoring=scoring, cv=20)\n",
        "\n",
        "# Calculate the means of the score\n",
        "mean_accuracy = mean(scores['test_accuracy'])\n",
        "mean_precision = mean(scores['test_precision'])\n",
        "mean_f1 = mean(scores['test_f1'])\n",
        "mean_roc_auc = mean(scores['test_roc_auc'])\n",
        "mean_recall = mean(scores['test_recall'])\n",
        "print(f'mean accuracy is {mean_accuracy}')\n",
        "print(f'mean precision is {mean_precision}')\n",
        "print(f'mean f1 is {mean_f1}')\n",
        "print(f'mean roc_auc is {mean_roc_auc}')\n",
        "print(f'mean recall is {mean_recall}')"
      ],
      "execution_count": 43,
      "outputs": [
        {
          "output_type": "stream",
          "text": [
            "mean accuracy is 0.8188538205980067\n",
            "mean precision is 0.8149187862790804\n",
            "mean f1 is 0.7486020802077858\n",
            "mean roc_auc is 0.8905831447963801\n",
            "mean recall is 0.6998161764705882\n"
          ],
          "name": "stdout"
        }
      ]
    },
    {
      "cell_type": "markdown",
      "metadata": {
        "id": "4yy6mdV2tSFU",
        "colab_type": "text"
      },
      "source": [
        "# kNN classifier\n",
        "Hyperparameter optimization of kNN"
      ]
    },
    {
      "cell_type": "code",
      "metadata": {
        "id": "rq87at2Nqlsp",
        "colab_type": "code",
        "outputId": "07149e0e-22fd-425d-9d82-936fec512b41",
        "colab": {
          "base_uri": "https://localhost:8080/",
          "height": 1000
        }
      },
      "source": [
        "# Define hyperparameters for kNN\n",
        "kNN_parameters = {'n_neighbors': list(range(1,101)), \n",
        "                   'weights':  ['uniform', 'distance'],\n",
        "                   'metric': ['euclidean', 'manhattan']}\n",
        "\n",
        "# Perform randomized search with cross-validation for hyperparameter optimization\n",
        "grid = RandomizedSearchCV(KNeighborsClassifier(), kNN_parameters, refit = True, n_iter=10, random_state=42, verbose = 3)  \n",
        "grid.fit(X_train, y_train)\n",
        "\n",
        "print(\"The best classifier is: \", grid.best_estimator_)"
      ],
      "execution_count": 44,
      "outputs": [
        {
          "output_type": "stream",
          "text": [
            "Fitting 5 folds for each of 10 candidates, totalling 50 fits\n",
            "[CV] weights=distance, n_neighbors=5, metric=manhattan ...............\n",
            "[CV]  weights=distance, n_neighbors=5, metric=manhattan, score=0.781, total=   0.0s\n",
            "[CV] weights=distance, n_neighbors=5, metric=manhattan ...............\n",
            "[CV]  weights=distance, n_neighbors=5, metric=manhattan, score=0.737, total=   0.0s\n",
            "[CV] weights=distance, n_neighbors=5, metric=manhattan ...............\n",
            "[CV]  weights=distance, n_neighbors=5, metric=manhattan, score=0.766, total=   0.0s\n",
            "[CV] weights=distance, n_neighbors=5, metric=manhattan ...............\n",
            "[CV]  weights=distance, n_neighbors=5, metric=manhattan, score=0.745, total=   0.0s\n",
            "[CV] weights=distance, n_neighbors=5, metric=manhattan ...............\n",
            "[CV]  weights=distance, n_neighbors=5, metric=manhattan, score=0.750, total=   0.0s\n",
            "[CV] weights=uniform, n_neighbors=41, metric=manhattan ...............\n",
            "[CV]  weights=uniform, n_neighbors=41, metric=manhattan, score=0.730, total=   0.0s\n",
            "[CV] weights=uniform, n_neighbors=41, metric=manhattan ...............\n"
          ],
          "name": "stdout"
        },
        {
          "output_type": "stream",
          "text": [
            "[Parallel(n_jobs=1)]: Using backend SequentialBackend with 1 concurrent workers.\n",
            "[Parallel(n_jobs=1)]: Done   1 out of   1 | elapsed:    0.0s remaining:    0.0s\n",
            "[Parallel(n_jobs=1)]: Done   2 out of   2 | elapsed:    0.1s remaining:    0.0s\n"
          ],
          "name": "stderr"
        },
        {
          "output_type": "stream",
          "text": [
            "[CV]  weights=uniform, n_neighbors=41, metric=manhattan, score=0.737, total=   0.0s\n",
            "[CV] weights=uniform, n_neighbors=41, metric=manhattan ...............\n",
            "[CV]  weights=uniform, n_neighbors=41, metric=manhattan, score=0.788, total=   0.0s\n",
            "[CV] weights=uniform, n_neighbors=41, metric=manhattan ...............\n",
            "[CV]  weights=uniform, n_neighbors=41, metric=manhattan, score=0.788, total=   0.0s\n",
            "[CV] weights=uniform, n_neighbors=41, metric=manhattan ...............\n",
            "[CV]  weights=uniform, n_neighbors=41, metric=manhattan, score=0.779, total=   0.0s\n",
            "[CV] weights=distance, n_neighbors=17, metric=euclidean ..............\n",
            "[CV]  weights=distance, n_neighbors=17, metric=euclidean, score=0.781, total=   0.0s\n",
            "[CV] weights=distance, n_neighbors=17, metric=euclidean ..............\n",
            "[CV]  weights=distance, n_neighbors=17, metric=euclidean, score=0.730, total=   0.0s\n",
            "[CV] weights=distance, n_neighbors=17, metric=euclidean ..............\n",
            "[CV]  weights=distance, n_neighbors=17, metric=euclidean, score=0.803, total=   0.0s\n",
            "[CV] weights=distance, n_neighbors=17, metric=euclidean ..............\n",
            "[CV]  weights=distance, n_neighbors=17, metric=euclidean, score=0.788, total=   0.0s\n",
            "[CV] weights=distance, n_neighbors=17, metric=euclidean ..............\n",
            "[CV]  weights=distance, n_neighbors=17, metric=euclidean, score=0.794, total=   0.0s\n",
            "[CV] weights=uniform, n_neighbors=6, metric=manhattan ................\n",
            "[CV]  weights=uniform, n_neighbors=6, metric=manhattan, score=0.766, total=   0.0s\n",
            "[CV] weights=uniform, n_neighbors=6, metric=manhattan ................\n",
            "[CV]  weights=uniform, n_neighbors=6, metric=manhattan, score=0.715, total=   0.0s\n",
            "[CV] weights=uniform, n_neighbors=6, metric=manhattan ................\n",
            "[CV]  weights=uniform, n_neighbors=6, metric=manhattan, score=0.745, total=   0.1s\n",
            "[CV] weights=uniform, n_neighbors=6, metric=manhattan ................\n",
            "[CV]  weights=uniform, n_neighbors=6, metric=manhattan, score=0.752, total=   0.0s\n",
            "[CV] weights=uniform, n_neighbors=6, metric=manhattan ................\n",
            "[CV]  weights=uniform, n_neighbors=6, metric=manhattan, score=0.721, total=   0.0s\n",
            "[CV] weights=distance, n_neighbors=47, metric=euclidean ..............\n",
            "[CV]  weights=distance, n_neighbors=47, metric=euclidean, score=0.774, total=   0.0s\n",
            "[CV] weights=distance, n_neighbors=47, metric=euclidean ..............\n",
            "[CV]  weights=distance, n_neighbors=47, metric=euclidean, score=0.759, total=   0.0s\n",
            "[CV] weights=distance, n_neighbors=47, metric=euclidean ..............\n",
            "[CV]  weights=distance, n_neighbors=47, metric=euclidean, score=0.781, total=   0.0s\n",
            "[CV] weights=distance, n_neighbors=47, metric=euclidean ..............\n",
            "[CV]  weights=distance, n_neighbors=47, metric=euclidean, score=0.781, total=   0.0s\n",
            "[CV] weights=distance, n_neighbors=47, metric=euclidean ..............\n",
            "[CV]  weights=distance, n_neighbors=47, metric=euclidean, score=0.765, total=   0.0s\n",
            "[CV] weights=uniform, n_neighbors=43, metric=euclidean ...............\n",
            "[CV]  weights=uniform, n_neighbors=43, metric=euclidean, score=0.752, total=   0.0s\n",
            "[CV] weights=uniform, n_neighbors=43, metric=euclidean ...............\n",
            "[CV]  weights=uniform, n_neighbors=43, metric=euclidean, score=0.745, total=   0.0s\n",
            "[CV] weights=uniform, n_neighbors=43, metric=euclidean ...............\n",
            "[CV]  weights=uniform, n_neighbors=43, metric=euclidean, score=0.781, total=   0.0s\n",
            "[CV] weights=uniform, n_neighbors=43, metric=euclidean ...............\n",
            "[CV]  weights=uniform, n_neighbors=43, metric=euclidean, score=0.788, total=   0.0s\n",
            "[CV] weights=uniform, n_neighbors=43, metric=euclidean ...............\n",
            "[CV]  weights=uniform, n_neighbors=43, metric=euclidean, score=0.772, total=   0.0s\n",
            "[CV] weights=distance, n_neighbors=65, metric=manhattan ..............\n",
            "[CV]  weights=distance, n_neighbors=65, metric=manhattan, score=0.737, total=   0.0s\n",
            "[CV] weights=distance, n_neighbors=65, metric=manhattan ..............\n",
            "[CV]  weights=distance, n_neighbors=65, metric=manhattan, score=0.730, total=   0.0s\n",
            "[CV] weights=distance, n_neighbors=65, metric=manhattan ..............\n",
            "[CV]  weights=distance, n_neighbors=65, metric=manhattan, score=0.774, total=   0.0s\n",
            "[CV] weights=distance, n_neighbors=65, metric=manhattan ..............\n",
            "[CV]  weights=distance, n_neighbors=65, metric=manhattan, score=0.759, total=   0.0s\n",
            "[CV] weights=distance, n_neighbors=65, metric=manhattan ..............\n",
            "[CV]  weights=distance, n_neighbors=65, metric=manhattan, score=0.765, total=   0.0s\n",
            "[CV] weights=uniform, n_neighbors=48, metric=euclidean ...............\n",
            "[CV]  weights=uniform, n_neighbors=48, metric=euclidean, score=0.774, total=   0.0s\n",
            "[CV] weights=uniform, n_neighbors=48, metric=euclidean ...............\n",
            "[CV]  weights=uniform, n_neighbors=48, metric=euclidean, score=0.766, total=   0.0s\n",
            "[CV] weights=uniform, n_neighbors=48, metric=euclidean ...............\n",
            "[CV]  weights=uniform, n_neighbors=48, metric=euclidean, score=0.774, total=   0.0s\n",
            "[CV] weights=uniform, n_neighbors=48, metric=euclidean ...............\n",
            "[CV]  weights=uniform, n_neighbors=48, metric=euclidean, score=0.781, total=   0.0s\n",
            "[CV] weights=uniform, n_neighbors=48, metric=euclidean ...............\n",
            "[CV]  weights=uniform, n_neighbors=48, metric=euclidean, score=0.772, total=   0.0s\n",
            "[CV] weights=uniform, n_neighbors=34, metric=manhattan ...............\n",
            "[CV]  weights=uniform, n_neighbors=34, metric=manhattan, score=0.759, total=   0.0s\n",
            "[CV] weights=uniform, n_neighbors=34, metric=manhattan ...............\n",
            "[CV]  weights=uniform, n_neighbors=34, metric=manhattan, score=0.723, total=   0.0s\n",
            "[CV] weights=uniform, n_neighbors=34, metric=manhattan ...............\n",
            "[CV]  weights=uniform, n_neighbors=34, metric=manhattan, score=0.759, total=   0.0s\n",
            "[CV] weights=uniform, n_neighbors=34, metric=manhattan ...............\n",
            "[CV]  weights=uniform, n_neighbors=34, metric=manhattan, score=0.788, total=   0.0s\n",
            "[CV] weights=uniform, n_neighbors=34, metric=manhattan ...............\n",
            "[CV]  weights=uniform, n_neighbors=34, metric=manhattan, score=0.779, total=   0.0s\n",
            "[CV] weights=uniform, n_neighbors=64, metric=euclidean ...............\n",
            "[CV]  weights=uniform, n_neighbors=64, metric=euclidean, score=0.774, total=   0.0s\n",
            "[CV] weights=uniform, n_neighbors=64, metric=euclidean ...............\n",
            "[CV]  weights=uniform, n_neighbors=64, metric=euclidean, score=0.774, total=   0.0s\n",
            "[CV] weights=uniform, n_neighbors=64, metric=euclidean ...............\n",
            "[CV]  weights=uniform, n_neighbors=64, metric=euclidean, score=0.781, total=   0.0s\n",
            "[CV] weights=uniform, n_neighbors=64, metric=euclidean ...............\n",
            "[CV]  weights=uniform, n_neighbors=64, metric=euclidean, score=0.788, total=   0.0s\n",
            "[CV] weights=uniform, n_neighbors=64, metric=euclidean ...............\n",
            "[CV]  weights=uniform, n_neighbors=64, metric=euclidean, score=0.779, total=   0.0s\n",
            "The best classifier is:  KNeighborsClassifier(algorithm='auto', leaf_size=30, metric='euclidean',\n",
            "                     metric_params=None, n_jobs=None, n_neighbors=17, p=2,\n",
            "                     weights='distance')\n"
          ],
          "name": "stdout"
        },
        {
          "output_type": "stream",
          "text": [
            "[Parallel(n_jobs=1)]: Done  50 out of  50 | elapsed:    1.8s finished\n"
          ],
          "name": "stderr"
        }
      ]
    },
    {
      "cell_type": "markdown",
      "metadata": {
        "id": "4T8QAGgVwfyy",
        "colab_type": "text"
      },
      "source": [
        "ROC of kNN for train- and test-set"
      ]
    },
    {
      "cell_type": "code",
      "metadata": {
        "id": "kG5RbngOvNUU",
        "colab_type": "code",
        "outputId": "a78f4fbe-bb82-47dc-b268-d33daa475a41",
        "colab": {
          "base_uri": "https://localhost:8080/",
          "height": 573
        }
      },
      "source": [
        "# Determine scores for train and test set\n",
        "score_train = grid.best_estimator_.predict_proba(X_train)\n",
        "score_test = grid.best_estimator_.predict_proba(X_test)\n",
        "\n",
        "# Plot ROC curve for train and test set\n",
        "plot_roc_curve(score_train, y_train_bin)\n",
        "plot_roc_curve(score_test, y_test_bin)"
      ],
      "execution_count": 45,
      "outputs": [
        {
          "output_type": "display_data",
          "data": {
            "image/png": "[encoded data removed]",
            "text/plain": [
              "<Figure size 432x288 with 1 Axes>"
            ]
          },
          "metadata": {
            "tags": []
          }
        },
        {
          "output_type": "display_data",
          "data": {
            "image/png": "[encoded data removed]",
            "text/plain": [
              "<Figure size 432x288 with 1 Axes>"
            ]
          },
          "metadata": {
            "tags": []
          }
        }
      ]
    },
    {
      "cell_type": "markdown",
      "metadata": {
        "id": "Cc_QuJn8xImO",
        "colab_type": "text"
      },
      "source": [
        "Calculate metrics of kNN with cross-validation"
      ]
    },
    {
      "cell_type": "code",
      "metadata": {
        "id": "2E7NVCR1xI5q",
        "colab_type": "code",
        "outputId": "d5ac98a5-f225-4f45-ba5d-0988c14963c6",
        "colab": {
          "base_uri": "https://localhost:8080/",
          "height": 101
        }
      },
      "source": [
        "# Preprocessing and feature selection on whole dataset\n",
        "X_cv_df = removezeros(x)\n",
        "X_cv_values = X_cv_df.values\n",
        "X_cv_scaled = scaler.transform(X_cv_values)\n",
        "X_cv = pca.transform(X_cv_scaled)\n",
        "\n",
        "# Define the scoring metrics\n",
        "scoring = ['precision', 'recall', 'f1', 'accuracy','roc_auc']\n",
        "\n",
        "# Calculate the scores with cross-validation\n",
        "scores = cross_validate(grid.best_estimator_, X_cv, y_bin, scoring=scoring, cv=20)\n",
        "\n",
        "# Calculate the means of the score\n",
        "mean_accuracy = mean(scores['test_accuracy'])\n",
        "mean_precision = mean(scores['test_precision'])\n",
        "mean_f1 = mean(scores['test_f1'])\n",
        "mean_roc_auc = mean(scores['test_roc_auc'])\n",
        "mean_recall = mean(scores['test_recall'])\n",
        "print(f'mean accuracy is {mean_accuracy}')\n",
        "print(f'mean precision is {mean_precision}')\n",
        "print(f'mean f1 is {mean_f1}')\n",
        "print(f'mean roc_auc is {mean_roc_auc}')\n",
        "print(f'mean recall is {mean_recall}')"
      ],
      "execution_count": 46,
      "outputs": [
        {
          "output_type": "stream",
          "text": [
            "mean accuracy is 0.787264673311185\n",
            "mean precision is 0.7823420084817143\n",
            "mean f1 is 0.6964436102077599\n",
            "mean roc_auc is 0.8432372737556562\n",
            "mean recall is 0.6347426470588236\n"
          ],
          "name": "stdout"
        }
      ]
    },
    {
      "cell_type": "markdown",
      "metadata": {
        "id": "MA8fFgrxvPf2",
        "colab_type": "text"
      },
      "source": [
        "# RF classifier\n",
        "Hyperparameter optimization of RF"
      ]
    },
    {
      "cell_type": "code",
      "metadata": {
        "id": "fVwJ1LmWI15D",
        "colab_type": "code",
        "outputId": "ad1a0fbc-9ee5-466c-e3e5-73eac88b6ce5",
        "colab": {
          "base_uri": "https://localhost:8080/",
          "height": 1000
        }
      },
      "source": [
        "# Define hyperparameters for RF\n",
        "forest_parameters = {'n_estimators': list(range(50,301)), \n",
        "                   'criterion':  ['gini', 'entropy'],\n",
        "                   'max_depth': [4, 5, 6, 7, 8, 9, 10],\n",
        "                   'max_features': ['auto','sqrt','log2']}\n",
        "\n",
        "# Perform randomized search with cross-validation for hyperparameter optimization\n",
        "grid = RandomizedSearchCV(RandomForestClassifier(), forest_parameters, refit = True, n_iter=10, random_state=42, verbose = 3)  \n",
        "grid.fit(X_train, y_train)\n",
        "\n",
        "print(\"The best classifier is: \", grid.best_estimator_)"
      ],
      "execution_count": 47,
      "outputs": [
        {
          "output_type": "stream",
          "text": [
            "Fitting 5 folds for each of 10 candidates, totalling 50 fits\n",
            "[CV] n_estimators=292, max_features=sqrt, max_depth=6, criterion=entropy \n"
          ],
          "name": "stdout"
        },
        {
          "output_type": "stream",
          "text": [
            "[Parallel(n_jobs=1)]: Using backend SequentialBackend with 1 concurrent workers.\n"
          ],
          "name": "stderr"
        },
        {
          "output_type": "stream",
          "text": [
            "[CV]  n_estimators=292, max_features=sqrt, max_depth=6, criterion=entropy, score=0.774, total=   1.7s\n",
            "[CV] n_estimators=292, max_features=sqrt, max_depth=6, criterion=entropy \n"
          ],
          "name": "stdout"
        },
        {
          "output_type": "stream",
          "text": [
            "[Parallel(n_jobs=1)]: Done   1 out of   1 | elapsed:    1.7s remaining:    0.0s\n"
          ],
          "name": "stderr"
        },
        {
          "output_type": "stream",
          "text": [
            "[CV]  n_estimators=292, max_features=sqrt, max_depth=6, criterion=entropy, score=0.679, total=   1.7s\n",
            "[CV] n_estimators=292, max_features=sqrt, max_depth=6, criterion=entropy \n"
          ],
          "name": "stdout"
        },
        {
          "output_type": "stream",
          "text": [
            "[Parallel(n_jobs=1)]: Done   2 out of   2 | elapsed:    3.4s remaining:    0.0s\n"
          ],
          "name": "stderr"
        },
        {
          "output_type": "stream",
          "text": [
            "[CV]  n_estimators=292, max_features=sqrt, max_depth=6, criterion=entropy, score=0.766, total=   1.7s\n",
            "[CV] n_estimators=292, max_features=sqrt, max_depth=6, criterion=entropy \n",
            "[CV]  n_estimators=292, max_features=sqrt, max_depth=6, criterion=entropy, score=0.708, total=   1.7s\n",
            "[CV] n_estimators=292, max_features=sqrt, max_depth=6, criterion=entropy \n",
            "[CV]  n_estimators=292, max_features=sqrt, max_depth=6, criterion=entropy, score=0.794, total=   1.7s\n",
            "[CV] n_estimators=157, max_features=auto, max_depth=5, criterion=gini \n",
            "[CV]  n_estimators=157, max_features=auto, max_depth=5, criterion=gini, score=0.745, total=   0.5s\n",
            "[CV] n_estimators=157, max_features=auto, max_depth=5, criterion=gini \n",
            "[CV]  n_estimators=157, max_features=auto, max_depth=5, criterion=gini, score=0.715, total=   0.5s\n",
            "[CV] n_estimators=157, max_features=auto, max_depth=5, criterion=gini \n",
            "[CV]  n_estimators=157, max_features=auto, max_depth=5, criterion=gini, score=0.737, total=   0.5s\n",
            "[CV] n_estimators=157, max_features=auto, max_depth=5, criterion=gini \n",
            "[CV]  n_estimators=157, max_features=auto, max_depth=5, criterion=gini, score=0.686, total=   0.5s\n",
            "[CV] n_estimators=157, max_features=auto, max_depth=5, criterion=gini \n",
            "[CV]  n_estimators=157, max_features=auto, max_depth=5, criterion=gini, score=0.735, total=   0.5s\n",
            "[CV] n_estimators=169, max_features=auto, max_depth=4, criterion=entropy \n",
            "[CV]  n_estimators=169, max_features=auto, max_depth=4, criterion=entropy, score=0.701, total=   0.8s\n",
            "[CV] n_estimators=169, max_features=auto, max_depth=4, criterion=entropy \n",
            "[CV]  n_estimators=169, max_features=auto, max_depth=4, criterion=entropy, score=0.686, total=   0.8s\n",
            "[CV] n_estimators=169, max_features=auto, max_depth=4, criterion=entropy \n",
            "[CV]  n_estimators=169, max_features=auto, max_depth=4, criterion=entropy, score=0.715, total=   0.8s\n",
            "[CV] n_estimators=169, max_features=auto, max_depth=4, criterion=entropy \n",
            "[CV]  n_estimators=169, max_features=auto, max_depth=4, criterion=entropy, score=0.679, total=   0.8s\n",
            "[CV] n_estimators=169, max_features=auto, max_depth=4, criterion=entropy \n",
            "[CV]  n_estimators=169, max_features=auto, max_depth=4, criterion=entropy, score=0.721, total=   0.8s\n",
            "[CV] n_estimators=221, max_features=log2, max_depth=10, criterion=gini \n",
            "[CV]  n_estimators=221, max_features=log2, max_depth=10, criterion=gini, score=0.693, total=   0.7s\n",
            "[CV] n_estimators=221, max_features=log2, max_depth=10, criterion=gini \n",
            "[CV]  n_estimators=221, max_features=log2, max_depth=10, criterion=gini, score=0.701, total=   0.7s\n",
            "[CV] n_estimators=221, max_features=log2, max_depth=10, criterion=gini \n",
            "[CV]  n_estimators=221, max_features=log2, max_depth=10, criterion=gini, score=0.766, total=   0.7s\n",
            "[CV] n_estimators=221, max_features=log2, max_depth=10, criterion=gini \n",
            "[CV]  n_estimators=221, max_features=log2, max_depth=10, criterion=gini, score=0.708, total=   0.7s\n",
            "[CV] n_estimators=221, max_features=log2, max_depth=10, criterion=gini \n",
            "[CV]  n_estimators=221, max_features=log2, max_depth=10, criterion=gini, score=0.816, total=   0.7s\n",
            "[CV] n_estimators=262, max_features=sqrt, max_depth=4, criterion=entropy \n",
            "[CV]  n_estimators=262, max_features=sqrt, max_depth=4, criterion=entropy, score=0.693, total=   1.2s\n",
            "[CV] n_estimators=262, max_features=sqrt, max_depth=4, criterion=entropy \n",
            "[CV]  n_estimators=262, max_features=sqrt, max_depth=4, criterion=entropy, score=0.679, total=   1.2s\n",
            "[CV] n_estimators=262, max_features=sqrt, max_depth=4, criterion=entropy \n",
            "[CV]  n_estimators=262, max_features=sqrt, max_depth=4, criterion=entropy, score=0.701, total=   1.2s\n",
            "[CV] n_estimators=262, max_features=sqrt, max_depth=4, criterion=entropy \n",
            "[CV]  n_estimators=262, max_features=sqrt, max_depth=4, criterion=entropy, score=0.693, total=   1.2s\n",
            "[CV] n_estimators=262, max_features=sqrt, max_depth=4, criterion=entropy \n",
            "[CV]  n_estimators=262, max_features=sqrt, max_depth=4, criterion=entropy, score=0.735, total=   1.2s\n",
            "[CV] n_estimators=291, max_features=auto, max_depth=5, criterion=entropy \n",
            "[CV]  n_estimators=291, max_features=auto, max_depth=5, criterion=entropy, score=0.745, total=   1.5s\n",
            "[CV] n_estimators=291, max_features=auto, max_depth=5, criterion=entropy \n",
            "[CV]  n_estimators=291, max_features=auto, max_depth=5, criterion=entropy, score=0.693, total=   1.5s\n",
            "[CV] n_estimators=291, max_features=auto, max_depth=5, criterion=entropy \n",
            "[CV]  n_estimators=291, max_features=auto, max_depth=5, criterion=entropy, score=0.759, total=   1.5s\n",
            "[CV] n_estimators=291, max_features=auto, max_depth=5, criterion=entropy \n",
            "[CV]  n_estimators=291, max_features=auto, max_depth=5, criterion=entropy, score=0.708, total=   1.5s\n",
            "[CV] n_estimators=291, max_features=auto, max_depth=5, criterion=entropy \n",
            "[CV]  n_estimators=291, max_features=auto, max_depth=5, criterion=entropy, score=0.779, total=   1.5s\n",
            "[CV] n_estimators=265, max_features=sqrt, max_depth=4, criterion=gini \n",
            "[CV]  n_estimators=265, max_features=sqrt, max_depth=4, criterion=gini, score=0.693, total=   0.8s\n",
            "[CV] n_estimators=265, max_features=sqrt, max_depth=4, criterion=gini \n",
            "[CV]  n_estimators=265, max_features=sqrt, max_depth=4, criterion=gini, score=0.672, total=   0.7s\n",
            "[CV] n_estimators=265, max_features=sqrt, max_depth=4, criterion=gini \n",
            "[CV]  n_estimators=265, max_features=sqrt, max_depth=4, criterion=gini, score=0.715, total=   0.8s\n",
            "[CV] n_estimators=265, max_features=sqrt, max_depth=4, criterion=gini \n",
            "[CV]  n_estimators=265, max_features=sqrt, max_depth=4, criterion=gini, score=0.679, total=   0.8s\n",
            "[CV] n_estimators=265, max_features=sqrt, max_depth=4, criterion=gini \n",
            "[CV]  n_estimators=265, max_features=sqrt, max_depth=4, criterion=gini, score=0.699, total=   0.8s\n",
            "[CV] n_estimators=209, max_features=log2, max_depth=9, criterion=gini \n",
            "[CV]  n_estimators=209, max_features=log2, max_depth=9, criterion=gini, score=0.730, total=   0.6s\n",
            "[CV] n_estimators=209, max_features=log2, max_depth=9, criterion=gini \n",
            "[CV]  n_estimators=209, max_features=log2, max_depth=9, criterion=gini, score=0.737, total=   0.7s\n",
            "[CV] n_estimators=209, max_features=log2, max_depth=9, criterion=gini \n",
            "[CV]  n_estimators=209, max_features=log2, max_depth=9, criterion=gini, score=0.774, total=   0.7s\n",
            "[CV] n_estimators=209, max_features=log2, max_depth=9, criterion=gini \n",
            "[CV]  n_estimators=209, max_features=log2, max_depth=9, criterion=gini, score=0.693, total=   0.7s\n",
            "[CV] n_estimators=209, max_features=log2, max_depth=9, criterion=gini \n",
            "[CV]  n_estimators=209, max_features=log2, max_depth=9, criterion=gini, score=0.743, total=   0.7s\n",
            "[CV] n_estimators=106, max_features=sqrt, max_depth=4, criterion=entropy \n",
            "[CV]  n_estimators=106, max_features=sqrt, max_depth=4, criterion=entropy, score=0.803, total=   0.5s\n",
            "[CV] n_estimators=106, max_features=sqrt, max_depth=4, criterion=entropy \n",
            "[CV]  n_estimators=106, max_features=sqrt, max_depth=4, criterion=entropy, score=0.686, total=   0.5s\n",
            "[CV] n_estimators=106, max_features=sqrt, max_depth=4, criterion=entropy \n",
            "[CV]  n_estimators=106, max_features=sqrt, max_depth=4, criterion=entropy, score=0.715, total=   0.5s\n",
            "[CV] n_estimators=106, max_features=sqrt, max_depth=4, criterion=entropy \n",
            "[CV]  n_estimators=106, max_features=sqrt, max_depth=4, criterion=entropy, score=0.723, total=   0.5s\n",
            "[CV] n_estimators=106, max_features=sqrt, max_depth=4, criterion=entropy \n",
            "[CV]  n_estimators=106, max_features=sqrt, max_depth=4, criterion=entropy, score=0.743, total=   0.5s\n",
            "[CV] n_estimators=89, max_features=auto, max_depth=8, criterion=entropy \n",
            "[CV]  n_estimators=89, max_features=auto, max_depth=8, criterion=entropy, score=0.745, total=   0.6s\n",
            "[CV] n_estimators=89, max_features=auto, max_depth=8, criterion=entropy \n",
            "[CV]  n_estimators=89, max_features=auto, max_depth=8, criterion=entropy, score=0.679, total=   0.6s\n",
            "[CV] n_estimators=89, max_features=auto, max_depth=8, criterion=entropy \n",
            "[CV]  n_estimators=89, max_features=auto, max_depth=8, criterion=entropy, score=0.788, total=   0.6s\n",
            "[CV] n_estimators=89, max_features=auto, max_depth=8, criterion=entropy \n",
            "[CV]  n_estimators=89, max_features=auto, max_depth=8, criterion=entropy, score=0.781, total=   0.6s\n",
            "[CV] n_estimators=89, max_features=auto, max_depth=8, criterion=entropy \n",
            "[CV]  n_estimators=89, max_features=auto, max_depth=8, criterion=entropy, score=0.757, total=   0.6s\n"
          ],
          "name": "stdout"
        },
        {
          "output_type": "stream",
          "text": [
            "[Parallel(n_jobs=1)]: Done  50 out of  50 | elapsed:   44.5s finished\n"
          ],
          "name": "stderr"
        },
        {
          "output_type": "stream",
          "text": [
            "The best classifier is:  RandomForestClassifier(bootstrap=True, ccp_alpha=0.0, class_weight=None,\n",
            "                       criterion='entropy', max_depth=8, max_features='auto',\n",
            "                       max_leaf_nodes=None, max_samples=None,\n",
            "                       min_impurity_decrease=0.0, min_impurity_split=None,\n",
            "                       min_samples_leaf=1, min_samples_split=2,\n",
            "                       min_weight_fraction_leaf=0.0, n_estimators=89,\n",
            "                       n_jobs=None, oob_score=False, random_state=None,\n",
            "                       verbose=0, warm_start=False)\n"
          ],
          "name": "stdout"
        }
      ]
    },
    {
      "cell_type": "markdown",
      "metadata": {
        "id": "guvGtwCDxYYg",
        "colab_type": "text"
      },
      "source": [
        "ROC of RF for train- and test-set"
      ]
    },
    {
      "cell_type": "code",
      "metadata": {
        "id": "h5z9WkIDvdU2",
        "colab_type": "code",
        "outputId": "b5ce625f-710a-49d5-d8c4-e3b688f181dd",
        "colab": {
          "base_uri": "https://localhost:8080/",
          "height": 573
        }
      },
      "source": [
        "# Determine scores for train and test set\n",
        "score_train = grid.best_estimator_.predict_proba(X_train)\n",
        "score_test = grid.best_estimator_.predict_proba(X_test)\n",
        "\n",
        "# Plot ROC curve for train and test set\n",
        "plot_roc_curve(score_train, y_train_bin)\n",
        "plot_roc_curve(score_test, y_test_bin)"
      ],
      "execution_count": 48,
      "outputs": [
        {
          "output_type": "display_data",
          "data": {
            "image/png": "[encoded data removed]",
            "text/plain": [
              "<Figure size 432x288 with 1 Axes>"
            ]
          },
          "metadata": {
            "tags": []
          }
        },
        {
          "output_type": "display_data",
          "data": {
            "image/png": "[encoded data removed]",
            "text/plain": [
              "<Figure size 432x288 with 1 Axes>"
            ]
          },
          "metadata": {
            "tags": []
          }
        }
      ]
    },
    {
      "cell_type": "markdown",
      "metadata": {
        "id": "cIqLhDypyH1R",
        "colab_type": "text"
      },
      "source": [
        "Calculate metrics of RF with cross-validation"
      ]
    },
    {
      "cell_type": "code",
      "metadata": {
        "id": "YK6NVlN9UqTK",
        "colab_type": "code",
        "outputId": "dcc9197d-aebd-461c-dfb0-a0895b00bae3",
        "colab": {
          "base_uri": "https://localhost:8080/",
          "height": 101
        }
      },
      "source": [
        "# Preprocessing and feature selection on whole dataset\n",
        "X_cv_df = removezeros(x)\n",
        "X_cv_values = X_cv_df.values\n",
        "X_cv_scaled = scaler.transform(X_cv_values)\n",
        "X_cv = pca.transform(X_cv_scaled)\n",
        "\n",
        "# Define the scoring metrics\n",
        "scoring = ['precision', 'recall', 'f1', 'accuracy','roc_auc']\n",
        "\n",
        "# Calculate the scores with cross-validation\n",
        "scores = cross_validate(grid.best_estimator_, X_cv, y_bin, scoring=scoring, cv=20)\n",
        "\n",
        "# Calculate the means of the score\n",
        "mean_accuracy = mean(scores['test_accuracy'])\n",
        "mean_precision = mean(scores['test_precision'])\n",
        "mean_f1 = mean(scores['test_f1'])\n",
        "mean_roc_auc = mean(scores['test_roc_auc'])\n",
        "mean_recall = mean(scores['test_recall'])\n",
        "print(f'mean accuracy is {mean_accuracy}')\n",
        "print(f'mean precision is {mean_precision}')\n",
        "print(f'mean f1 is {mean_f1}')\n",
        "print(f'mean roc_auc is {mean_roc_auc}')\n",
        "print(f'mean recall is {mean_recall}')"
      ],
      "execution_count": 49,
      "outputs": [
        {
          "output_type": "stream",
          "text": [
            "mean accuracy is 0.7742801771871539\n",
            "mean precision is 0.8167330259609672\n",
            "mean f1 is 0.655005082289058\n",
            "mean roc_auc is 0.8619742647058823\n",
            "mean recall is 0.5533088235294118\n"
          ],
          "name": "stdout"
        }
      ]
    }
  ]
}