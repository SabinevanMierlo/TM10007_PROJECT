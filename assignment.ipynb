{
  "nbformat": 4,
  "nbformat_minor": 0,
  "metadata": {
    "colab": {
      "name": "assignment.ipynb",
      "provenance": [],
      "collapsed_sections": []
    },
    "kernelspec": {
      "display_name": "Python 3",
      "language": "python",
      "name": "python3"
    },
    "language_info": {
      "codemirror_mode": {
        "name": "ipython",
        "version": 3
      },
      "file_extension": ".py",
      "mimetype": "text/x-python",
      "name": "python",
      "nbconvert_exporter": "python",
      "pygments_lexer": "ipython3",
      "version": "3.7.4"
    }
  },
  "cells": [
    {
      "cell_type": "markdown",
      "metadata": {
        "colab_type": "text",
        "id": "7SXpaKwwGe5x"
      },
      "source": [
        "# TM10007 Assignment template"
      ]
    },
    {
      "cell_type": "code",
      "metadata": {
        "colab_type": "code",
        "id": "CiDn2Sk-VWqE",
        "outputId": "d310506f-81de-48ea-fc6b-5952b8ed3c25",
        "colab": {
          "base_uri": "https://localhost:8080/",
          "height": 34
        }
      },
      "source": [
        "# Run this to use from colab environment\n",
        "!pip install -q --upgrade git+https://github.com/karinvangarderen/tm10007_project.git"
      ],
      "execution_count": 0,
      "outputs": [
        {
          "output_type": "stream",
          "text": [
            "  Building wheel for brats (setup.py) ... \u001b[?25l\u001b[?25hdone\n"
          ],
          "name": "stdout"
        }
      ]
    },
    {
      "cell_type": "code",
      "metadata": {
        "id": "rOtoCOptna4A",
        "colab_type": "code",
        "colab": {}
      },
      "source": [
        "# General packages\n",
        "import numpy as np \n",
        "import pandas as pd\n",
        "import matplotlib.pyplot as plt\n",
        "import seaborn\n",
        "\n",
        "# Classifiers\n",
        "from sklearn import model_selection\n",
        "from sklearn import metrics\n",
        "from sklearn.model_selection import LeaveOneOut\n",
        "from sklearn.ensemble import RandomForestClassifier"
      ],
      "execution_count": 0,
      "outputs": []
    },
    {
      "cell_type": "markdown",
      "metadata": {
        "id": "xxnxLcUpCSKk",
        "colab_type": "text"
      },
      "source": [
        "# Data loading and cleaning\n",
        "\n",
        "Below are functions to load the dataset of your choice. After that, it is all up to you to create and evaluate a classification method. Beware, there may be missing values in these datasets. Good luck!"
      ]
    },
    {
      "cell_type": "code",
      "metadata": {
        "colab_type": "code",
        "id": "-NE_fTbKGe5z",
        "outputId": "c9ece96b-dfb3-423f-92b8-64e9af182e48",
        "colab": {
          "base_uri": "https://localhost:8080/",
          "height": 1000
        }
      },
      "source": [
        "# Some functions we will use\n",
        "from sklearn.decomposition import PCA\n",
        "\n",
        "def colorplot(clf, ax, x, y, h=100):\n",
        "    '''\n",
        "    Overlay the decision areas as colors in an axes.\n",
        "    \n",
        "    Input:\n",
        "        clf: trained classifier\n",
        "        ax: axis to overlay color mesh on\n",
        "        x: feature on x-axis\n",
        "        y: feature on y-axis\n",
        "        h(optional): steps in the mesh\n",
        "    '''\n",
        "    # Create a meshgrid the size of the axis\n",
        "    xstep = (x.max() - x.min() ) / 20.0\n",
        "    ystep = (y.max() - y.min() ) / 20.0\n",
        "    x_min, x_max = x.min() - xstep, x.max() + xstep\n",
        "    y_min, y_max = y.min() - ystep, y.max() + ystep\n",
        "    h = max((x_max - x_min, y_max - y_min))/h\n",
        "    xx, yy = np.meshgrid(np.arange(x_min, x_max, h),\n",
        "                         np.arange(y_min, y_max, h))\n",
        "    \n",
        "    # Plot the decision boundary. For that, we will assign a color to each\n",
        "    # point in the mesh [x_min, x_max]x[y_min, y_max].\n",
        "    if hasattr(clf, \"decision_function\"):\n",
        "        Z = clf.decision_function(np.c_[xx.ravel(), yy.ravel()])\n",
        "    else:\n",
        "        Z = clf.predict_proba(np.c_[xx.ravel(), yy.ravel()])\n",
        "    if len(Z.shape) > 1:\n",
        "        Z = Z[:, 1]\n",
        "    \n",
        "    # Put the result into a color plot\n",
        "    cm = plt.cm.RdBu_r\n",
        "    Z = Z.reshape(xx.shape)\n",
        "    ax.contourf(xx, yy, Z, cmap=cm, alpha=.8)\n",
        "    del xx, yy, x_min, x_max, y_min, y_max, Z, cm\n",
        "\n",
        "# Data loading functions. Uncomment the one you want to use\n",
        "from adni.load_data import load_data \n",
        "\n",
        "data = load_data()\n",
        "print(data)\n",
        "print(f'The number of samples: {len(data.index)}')\n",
        "print(f'The number of columns: {len(data.columns)}')\n",
        "\n",
        "# Creating vector of labels\n",
        "x = data.values\n",
        "y = data['label'].values\n",
        "\n",
        "\"\"\"\n",
        "# PCA dit errort, het lijkt wel of hij een 'AD' (string) vindt in x\n",
        "n_features = len(data.columns) #ik denk dus dat dit alle features nu behoudt, maar snap nog niet helemaal hoe die PCA werkt\n",
        "p = PCA(n_components=n_features)\n",
        "p = p.fit(x)\n",
        "x = p.transform(x)\n",
        "\"\"\"\n",
        "\n",
        "# Leave one out\n",
        "loo = LeaveOneOut()\n",
        "for train, test in loo.split(x):\n",
        "  pass\n",
        "\n",
        "# Split in train and test data\n",
        "#model_selection.train_test_split(x, y, test_size=0.5)\n",
        "\n",
        "\n",
        "# Build a forest and compute the feature importances\n",
        "forest = RandomForestClassifier(n_estimators=100)\n",
        "\n",
        "forest.fit(x, y)\n",
        "importances = forest.feature_importances_\n",
        "std = np.std([tree.feature_importances_ for tree in forest.estimators_],\n",
        "             axis=0)\n",
        "indices = np.argsort(importances)[::-1]\n",
        "\n",
        "# Print the feature ranking\n",
        "print(\"Feature ranking:\")\n",
        "\n",
        "for f in range(X.shape[1]):\n",
        "    print(\"%d. feature %d (%f)\" % (f + 1, indices[f], importances[indices[f]]))\n",
        "\n",
        "# Plot the feature importances of the forest\n",
        "plt.figure()\n",
        "plt.title(\"Feature importances\")\n",
        "plt.bar(range(X.shape[1]), importances[indices],\n",
        "       color=\"r\", yerr=std[indices], align=\"center\")\n",
        "plt.xticks(range(X.shape[1]), indices)\n",
        "plt.xlim([-1, X.shape[1]])\n",
        "plt.show()"
      ],
      "execution_count": 33,
      "outputs": [
        {
          "output_type": "stream",
          "text": [
            "                     hf_energy  ...  vf_Frangi_inner_std_SR(1.0, 10.0)_SS2.0\n",
            "ID                              ...                                         \n",
            "0_002_S_0413_bl_0  5403.229408  ...                             4.207831e-10\n",
            "0_002_S_0559_bl_0   922.459760  ...                             3.137258e-10\n",
            "0_002_S_0619_bl_0  1674.765276  ...                             4.219847e-10\n",
            "0_002_S_0685_bl_0  3443.797200  ...                             5.954654e-11\n",
            "0_002_S_0816_bl_0   914.469846  ...                             4.174750e-10\n",
            "...                        ...  ...                                      ...\n",
            "0_941_S_4292_bl_0  1503.564446  ...                             2.792072e-10\n",
            "0_941_S_4365_bl_0  1087.136508  ...                             3.406526e-10\n",
            "0_941_S_4376_bl_0  1963.323949  ...                             1.294541e-10\n",
            "0_941_S_5124_bl_0  2392.983035  ...                             1.737102e-10\n",
            "0_941_S_5193_bl_0  2350.828850  ...                             1.505707e-10\n",
            "\n",
            "[855 rows x 268 columns]\n",
            "The number of samples: 855\n",
            "The number of columns: 268\n",
            "[1828.139573708053 5.207559243174405 -0.5810582316482256\n",
            " 1.6801416933621125 0.8547516857016026 1.0920676171895578\n",
            " -0.4760720129606052 285 0.908202751539976 2.1562137063227174\n",
            " -0.7814251569466345 0.6279174481829141 'CN' 10562.434799551782\n",
            " 3996.3259553780244 6990.577918120429 3.793880541603716 5.187599013566245\n",
            " 4.98136951613668 5.144711328500597 -0.11947771906134808\n",
            " 0.13595807526728398 0.5379180312156675 0.8094188284873961\n",
            " 0.7095546913146962 -0.0012048461805956052 -0.009856026241665063\n",
            " -0.02651691481890253 -0.0005966350436210632 -0.03593621402978897\n",
            " 0.0043701156973838815 -0.569594612121582 -0.6361166024208069\n",
            " -0.8767876553535462 1216 231 512 0.15388810262084007 0.4843389689922333\n",
            " 0.4827027767896652 1.1075126433372495 1.4455354309082031\n",
            " 1.5863423466682425 -0.31370529399254604 0.3019125718227787\n",
            " -0.202890498523049 0.23938549065260156 0.3385724123310088\n",
            " 0.3772422428245933 2.6055272413655124 0.2913325501021331\n",
            " 2.9027249544244604 39861805.0 5.5073204699041725 -0.5976341053380687\n",
            " 173.0 85.61995851578705 84.0 6.0 181 58.0 167.0 0.14861633706692773\n",
            " 43.08233035316522 8.200635442002246 0.9334479871502648 30.77948316230949\n",
            " 0.1738209506042792 0.010876141292944057 0.0 0.0 3895 0.0\n",
            " 0.1738209506042792 5.1073552126393915 0.042091476184074314\n",
            " 20.216807803752477 1.4053815384682702 9.930793066311322\n",
            " 0.2652424820794473 0.022707462793354127 0.0 0.0 3671 0.0\n",
            " 0.2652424820794473 3.171934879383813 0.0643715415111699\n",
            " 0.4928284230447406 0.2145820509608158 0.8371008140752192\n",
            " 0.17232956747984465 0.11384517033080276 0.14969923212114508\n",
            " 0.1011816375768791 0.10068716629861517 0.2341999324824225\n",
            " 0.15631176775663755 13.79506630662826 3.5026609081872953\n",
            " 8.160469690443206 3.8630217338949517 1.1280990476842834\n",
            " 0.16440845580105778 7048.476842581295 641.2673634004136\n",
            " 0.5731418331585877 0.21342908342070616 3.0719949825892012 27.502806502175\n",
            " 104.08408197768594 8.357487633297259 0.4820012543526999 3.755590578124824\n",
            " 171.3148406950137 0.14776183868585355 0.257911252149556\n",
            " 10.061143503920077 0.3355275346057909 0.8135094710155286\n",
            " 0.21603205050335653 10.0 0.5555555555555556 0.2222222222222222 2.0\n",
            " 386048.72222222225 1508894.888888889 105337.18055555556 0.75\n",
            " 3.4444444444444446 0.191358024691358 0.3897350165624194\n",
            " 0.9082536366069612 0.2601053615512839 3.2663326399706194\n",
            " 0.004148421295229315 327940.94135802466 0.001349894094212526\n",
            " -0.014861571355104524 -0.019187870988461957 -0.06294722452874257\n",
            " -3.4685990367023767e-06 -0.02064259309003597 0.002075149758541621\n",
            " 0.002020930333037598 -0.0032075164667741064 0.0033873037336822594\n",
            " 0.004526305668940664 0.0023491278037371605 0.04654468833681751\n",
            " 0.06102428404771852 0.06970668494907903 0.13049506575629502\n",
            " 0.03242921363761693 0.05357466728621081 0.01929603835176448\n",
            " 0.017536580992230884 0.07670457677856236 0.0168083026248946\n",
            " 0.06007860069312535 0.048081473373878594 -0.10336097678442203\n",
            " -0.11614518026113868 -0.1486776275256579 -0.2888267539596337\n",
            " -0.07870288624384847 -0.14614371767001327 -0.04065623418087681\n",
            " -0.03400966669798984 -0.20925635106088994 -0.036583508469860235\n",
            " -0.122775617867735 -0.09806813844128318 0.11756183896221935\n",
            " 0.12045493632178507 0.10553184921126853 0.1655690162703798\n",
            " 0.0734317949205593 0.08917582331771215 0.04372511098914335\n",
            " 0.041070467321585716 0.14698203864404824 0.04011195710901021\n",
            " 0.13635361318738776 0.121533467921143 0.13927762709263072\n",
            " 0.3179332768887323 -0.07307329421326803 -0.019212661767468987\n",
            " -0.1871983749192185 -0.12441571603113888 -0.11091007991904224\n",
            " 0.03718032772772389 -0.8595043929136061 -0.0695769097607397\n",
            " -0.19778245468223896 0.2576111613344801 5.0314945227437775\n",
            " -0.5186467743086416 -0.8889689582165863 -1.0428571710928916\n",
            " 1.5879243555668667 0.19520354760336425 3.220227927587016\n",
            " 4.141554023987893 2.644669255281581 3.6229917378814367 2.460513411382004\n",
            " 1.5189186586392225 9.58402946230968 -1.584594870529766\n",
            " -0.07587903427509257 34.6842590458631 7.524775293846508 19.59575939156488\n",
            " 37.0 8.0 25.0 37.0 13.0 25.0 -3.215816172020825 -0.21649582795022396\n",
            " -1.3488888980278937 6.784664643460991 5.052663121784669 9.502234207662307\n",
            " 69.82302032665358 0.00466818125165882 0.09873988918192332\n",
            " 0.013260664615831691 0.00456068030003512 6.802596808414914e-14\n",
            " 4.5786397246407065 2.159854735977671 1.1505453893278155e-08\n",
            " 2.641991089062988e-09 1.482393473949976e-09 1.2813886212486672e-10 529\n",
            " 2.7863125803332595e-09 1.1377315031153289e-08 1.6795839914860389\n",
            " 2.9441817839283694e-09 6.802596808414914e-14 4.5786397246407065\n",
            " 2.159854735977671 1.1505453893278155e-08 2.641991089062988e-09\n",
            " 1.482393473949976e-09 1.2813886212486672e-10 529 2.7863125803332595e-09\n",
            " 1.1377315031153289e-08 1.6795839914860389 2.9441817839283694e-09\n",
            " 1.1975827348924396e-16 3.6478639651918834 13.30330949881834\n",
            " 2.237160753880946e-09 4.397701547235557e-10 2.7277156344743345e-10\n",
            " 8.513935036686174e-11 46 2.580481240205019e-10 2.1520214035140847e-09\n",
            " 3.4061140528681166 5.120039152260977e-10]\n"
          ],
          "name": "stdout"
        },
        {
          "output_type": "error",
          "ename": "ValueError",
          "evalue": "ignored",
          "traceback": [
            "\u001b[0;31m---------------------------------------------------------------------------\u001b[0m",
            "\u001b[0;31mValueError\u001b[0m                                Traceback (most recent call last)",
            "\u001b[0;32m<ipython-input-33-0fc36d61929c>\u001b[0m in \u001b[0;36m<module>\u001b[0;34m()\u001b[0m\n\u001b[1;32m     68\u001b[0m \u001b[0mforest\u001b[0m \u001b[0;34m=\u001b[0m \u001b[0mRandomForestClassifier\u001b[0m\u001b[0;34m(\u001b[0m\u001b[0mn_estimators\u001b[0m\u001b[0;34m=\u001b[0m\u001b[0;36m100\u001b[0m\u001b[0;34m)\u001b[0m\u001b[0;34m\u001b[0m\u001b[0;34m\u001b[0m\u001b[0m\n\u001b[1;32m     69\u001b[0m \u001b[0;34m\u001b[0m\u001b[0m\n\u001b[0;32m---> 70\u001b[0;31m \u001b[0mforest\u001b[0m\u001b[0;34m.\u001b[0m\u001b[0mfit\u001b[0m\u001b[0;34m(\u001b[0m\u001b[0mx\u001b[0m\u001b[0;34m,\u001b[0m \u001b[0my\u001b[0m\u001b[0;34m)\u001b[0m\u001b[0;34m\u001b[0m\u001b[0;34m\u001b[0m\u001b[0m\n\u001b[0m\u001b[1;32m     71\u001b[0m \u001b[0mimportances\u001b[0m \u001b[0;34m=\u001b[0m \u001b[0mforest\u001b[0m\u001b[0;34m.\u001b[0m\u001b[0mfeature_importances_\u001b[0m\u001b[0;34m\u001b[0m\u001b[0;34m\u001b[0m\u001b[0m\n\u001b[1;32m     72\u001b[0m std = np.std([tree.feature_importances_ for tree in forest.estimators_],\n",
            "\u001b[0;32m/usr/local/lib/python3.6/dist-packages/sklearn/ensemble/_forest.py\u001b[0m in \u001b[0;36mfit\u001b[0;34m(self, X, y, sample_weight)\u001b[0m\n\u001b[1;32m    293\u001b[0m         \"\"\"\n\u001b[1;32m    294\u001b[0m         \u001b[0;31m# Validate or convert input data\u001b[0m\u001b[0;34m\u001b[0m\u001b[0;34m\u001b[0m\u001b[0;34m\u001b[0m\u001b[0m\n\u001b[0;32m--> 295\u001b[0;31m         \u001b[0mX\u001b[0m \u001b[0;34m=\u001b[0m \u001b[0mcheck_array\u001b[0m\u001b[0;34m(\u001b[0m\u001b[0mX\u001b[0m\u001b[0;34m,\u001b[0m \u001b[0maccept_sparse\u001b[0m\u001b[0;34m=\u001b[0m\u001b[0;34m\"csc\"\u001b[0m\u001b[0;34m,\u001b[0m \u001b[0mdtype\u001b[0m\u001b[0;34m=\u001b[0m\u001b[0mDTYPE\u001b[0m\u001b[0;34m)\u001b[0m\u001b[0;34m\u001b[0m\u001b[0;34m\u001b[0m\u001b[0m\n\u001b[0m\u001b[1;32m    296\u001b[0m         \u001b[0my\u001b[0m \u001b[0;34m=\u001b[0m \u001b[0mcheck_array\u001b[0m\u001b[0;34m(\u001b[0m\u001b[0my\u001b[0m\u001b[0;34m,\u001b[0m \u001b[0maccept_sparse\u001b[0m\u001b[0;34m=\u001b[0m\u001b[0;34m'csc'\u001b[0m\u001b[0;34m,\u001b[0m \u001b[0mensure_2d\u001b[0m\u001b[0;34m=\u001b[0m\u001b[0;32mFalse\u001b[0m\u001b[0;34m,\u001b[0m \u001b[0mdtype\u001b[0m\u001b[0;34m=\u001b[0m\u001b[0;32mNone\u001b[0m\u001b[0;34m)\u001b[0m\u001b[0;34m\u001b[0m\u001b[0;34m\u001b[0m\u001b[0m\n\u001b[1;32m    297\u001b[0m         \u001b[0;32mif\u001b[0m \u001b[0msample_weight\u001b[0m \u001b[0;32mis\u001b[0m \u001b[0;32mnot\u001b[0m \u001b[0;32mNone\u001b[0m\u001b[0;34m:\u001b[0m\u001b[0;34m\u001b[0m\u001b[0;34m\u001b[0m\u001b[0m\n",
            "\u001b[0;32m/usr/local/lib/python3.6/dist-packages/sklearn/utils/validation.py\u001b[0m in \u001b[0;36mcheck_array\u001b[0;34m(array, accept_sparse, accept_large_sparse, dtype, order, copy, force_all_finite, ensure_2d, allow_nd, ensure_min_samples, ensure_min_features, warn_on_dtype, estimator)\u001b[0m\n\u001b[1;32m    529\u001b[0m                     \u001b[0marray\u001b[0m \u001b[0;34m=\u001b[0m \u001b[0marray\u001b[0m\u001b[0;34m.\u001b[0m\u001b[0mastype\u001b[0m\u001b[0;34m(\u001b[0m\u001b[0mdtype\u001b[0m\u001b[0;34m,\u001b[0m \u001b[0mcasting\u001b[0m\u001b[0;34m=\u001b[0m\u001b[0;34m\"unsafe\"\u001b[0m\u001b[0;34m,\u001b[0m \u001b[0mcopy\u001b[0m\u001b[0;34m=\u001b[0m\u001b[0;32mFalse\u001b[0m\u001b[0;34m)\u001b[0m\u001b[0;34m\u001b[0m\u001b[0;34m\u001b[0m\u001b[0m\n\u001b[1;32m    530\u001b[0m                 \u001b[0;32melse\u001b[0m\u001b[0;34m:\u001b[0m\u001b[0;34m\u001b[0m\u001b[0;34m\u001b[0m\u001b[0m\n\u001b[0;32m--> 531\u001b[0;31m                     \u001b[0marray\u001b[0m \u001b[0;34m=\u001b[0m \u001b[0mnp\u001b[0m\u001b[0;34m.\u001b[0m\u001b[0masarray\u001b[0m\u001b[0;34m(\u001b[0m\u001b[0marray\u001b[0m\u001b[0;34m,\u001b[0m \u001b[0morder\u001b[0m\u001b[0;34m=\u001b[0m\u001b[0morder\u001b[0m\u001b[0;34m,\u001b[0m \u001b[0mdtype\u001b[0m\u001b[0;34m=\u001b[0m\u001b[0mdtype\u001b[0m\u001b[0;34m)\u001b[0m\u001b[0;34m\u001b[0m\u001b[0;34m\u001b[0m\u001b[0m\n\u001b[0m\u001b[1;32m    532\u001b[0m             \u001b[0;32mexcept\u001b[0m \u001b[0mComplexWarning\u001b[0m\u001b[0;34m:\u001b[0m\u001b[0;34m\u001b[0m\u001b[0;34m\u001b[0m\u001b[0m\n\u001b[1;32m    533\u001b[0m                 raise ValueError(\"Complex data not supported\\n\"\n",
            "\u001b[0;32m/usr/local/lib/python3.6/dist-packages/numpy/core/_asarray.py\u001b[0m in \u001b[0;36masarray\u001b[0;34m(a, dtype, order)\u001b[0m\n\u001b[1;32m     83\u001b[0m \u001b[0;34m\u001b[0m\u001b[0m\n\u001b[1;32m     84\u001b[0m     \"\"\"\n\u001b[0;32m---> 85\u001b[0;31m     \u001b[0;32mreturn\u001b[0m \u001b[0marray\u001b[0m\u001b[0;34m(\u001b[0m\u001b[0ma\u001b[0m\u001b[0;34m,\u001b[0m \u001b[0mdtype\u001b[0m\u001b[0;34m,\u001b[0m \u001b[0mcopy\u001b[0m\u001b[0;34m=\u001b[0m\u001b[0;32mFalse\u001b[0m\u001b[0;34m,\u001b[0m \u001b[0morder\u001b[0m\u001b[0;34m=\u001b[0m\u001b[0morder\u001b[0m\u001b[0;34m)\u001b[0m\u001b[0;34m\u001b[0m\u001b[0;34m\u001b[0m\u001b[0m\n\u001b[0m\u001b[1;32m     86\u001b[0m \u001b[0;34m\u001b[0m\u001b[0m\n\u001b[1;32m     87\u001b[0m \u001b[0;34m\u001b[0m\u001b[0m\n",
            "\u001b[0;31mValueError\u001b[0m: could not convert string to float: 'AD'"
          ]
        }
      ]
    }
  ]
}